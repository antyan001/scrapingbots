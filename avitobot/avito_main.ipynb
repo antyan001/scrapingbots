{
 "cells": [
  {
   "cell_type": "code",
   "execution_count": 4,
   "metadata": {},
   "outputs": [],
   "source": [
    "import warnings\n",
    "warnings.filterwarnings('ignore')\n",
    "\n",
    "import logging\n",
    "#logging.basicConfig(level=logging.ERROR)\n",
    "#logger = logging.getLogger(__name__)\n",
    "logging.getLogger(\"selenium\").setLevel(logging.CRITICAL)\n",
    "\n",
    "from src.pars_tools import ProxyGet, AvitoBot \n",
    "import argparse\n",
    "import os\n",
    "import sys\n",
    "import joblib\n",
    "from pathlib import Path\n",
    "import pandas as pd\n",
    "import numpy as np\n",
    "import random\n",
    "import tqdm\n",
    "import csv\n",
    "from time import sleep\n",
    "from tqdm import tqdm_notebook\n",
    "from collections import OrderedDict"
   ]
  },
  {
   "cell_type": "code",
   "execution_count": 5,
   "metadata": {
    "scrolled": true
   },
   "outputs": [],
   "source": [
    "def is_interactive():\n",
    "    return not hasattr(sys.modules['__main__'], '__file__')"
   ]
  },
  {
   "cell_type": "code",
   "execution_count": 7,
   "metadata": {
    "scrolled": false
   },
   "outputs": [],
   "source": [
    "if __name__ == \"__main__\":\n",
    "    parser = argparse.ArgumentParser('arguments for setting driver and additional parsing options')\n",
    "    parser.add_argument('--driver', type=str, default='Chrome')\n",
    "    parser.add_argument('--headless', type=bool, default=True)   # headless mode\n",
    "    parser.add_argument('--url', type=str, default='https://www.avito.ru/sankt-peterburg/kvartiry/')  # pass main url for query: 'https://www.avito.ru/moskovskaya_oblast/kvartiry/'\n",
    "    parser.add_argument('--usertype', type=int, default=1)  # choose category: 1 - sobstvennik/private, 2 - agentstvo\n",
    "    parser.add_argument('--get_wall_soup', type=bool, default=True) # choose the way to grab each page: soup=>True or selenium=>False\n",
    "    parser.add_argument('--adv_scrap_soup', type=bool, default=True)\n",
    "    parser.add_argument('--findnewadvs', type=dict, default={'findnewadvs':False,'daysback':4})\n",
    "    parser.add_argument('--useproxy', type=bool, default=False)\n",
    "    parser.add_argument('--usesocks', type=bool, default=False)\n",
    "    parser.add_argument('--proxylst', nargs='+', default=ProxyGet().get_random_proxy()[1]) # pass proxy to selenium driver\n",
    "    parser.add_argument('--proxyDict', type=dict, default=ProxyGet().get_random_proxy()[0]) # pass proxy to request.get() method\n",
    "    parser.add_argument('--takescreenshot', type=bool, default=False)\n",
    "    parser.add_argument('--parsemobile', type=bool, default=True)  # parse mobile=>True/web=>False version of Avito\n",
    "    parser.add_argument('--runparallel', type=bool, default=True)  # run bot in parallel mode\n",
    "\n",
    "# work-around for Jupyter notebook and IPython console\n",
    "argv = [] if is_interactive() else sys.argv[1:]\n",
    "args = parser.parse_args(argv)    "
   ]
  },
  {
   "cell_type": "code",
   "execution_count": 16,
   "metadata": {},
   "outputs": [],
   "source": []
  },
  {
   "cell_type": "markdown",
   "metadata": {},
   "source": [
    "## Instantiane child of AvitoBot class"
   ]
  },
  {
   "cell_type": "code",
   "execution_count": 8,
   "metadata": {
    "scrolled": false
   },
   "outputs": [],
   "source": [
    "for i in range(150):\n",
    "    args.proxylst  = ProxyGet().get_random_proxy()[1]\n",
    "    args.proxyDict = ProxyGet().get_random_proxy()[0]\n",
    "bot = AvitoBot(args)"
   ]
  },
  {
   "cell_type": "code",
   "execution_count": 8,
   "metadata": {
    "scrolled": false
   },
   "outputs": [],
   "source": [
    "bot.driver.get('https://www.whatsmyip.org/')"
   ]
  },
  {
   "cell_type": "code",
   "execution_count": 12,
   "metadata": {},
   "outputs": [],
   "source": [
    "bot.closedriver()"
   ]
  },
  {
   "cell_type": "code",
   "execution_count": null,
   "metadata": {
    "scrolled": true
   },
   "outputs": [],
   "source": [
    "# ProxyGet().collect_proxies()\n",
    "bot.collect_proxies()"
   ]
  },
  {
   "cell_type": "code",
   "execution_count": 9,
   "metadata": {
    "scrolled": true
   },
   "outputs": [
    {
     "name": "stdout",
     "output_type": "stream",
     "text": [
      "instantiated object has been deleted\n"
     ]
    }
   ],
   "source": [
    "del bot"
   ]
  },
  {
   "cell_type": "markdown",
   "metadata": {},
   "source": [
    "### Grab number of pages to be parsed and find all advs links on each page "
   ]
  },
  {
   "cell_type": "code",
   "execution_count": 9,
   "metadata": {
    "scrolled": true
   },
   "outputs": [
    {
     "name": "stdout",
     "output_type": "stream",
     "text": [
      "60000 80000\n",
      "https://www.avito.ru/sankt-peterburg/kvartiry/sdam?p=1&pmax=80000&pmin=60000&user=1\n",
      "total number of pages to be parsed is: 1\n"
     ]
    },
    {
     "data": {
      "application/vnd.jupyter.widget-view+json": {
       "model_id": "ff3660bcbaee479ebc8e69e91b137172",
       "version_major": 2,
       "version_minor": 0
      },
      "text/plain": [
       "HBox(children=(IntProgress(value=0, max=1), HTML(value='')))"
      ]
     },
     "metadata": {},
     "output_type": "display_data"
    },
    {
     "name": "stdout",
     "output_type": "stream",
     "text": [
      "\n",
      "80000 100000\n",
      "https://www.avito.ru/sankt-peterburg/kvartiry/sdam?p=1&pmax=100000&pmin=80000&user=1\n",
      "total number of pages to be parsed is: 1\n"
     ]
    },
    {
     "data": {
      "application/vnd.jupyter.widget-view+json": {
       "model_id": "8b5dcfa06e9045d88369f3bd67457cc5",
       "version_major": 2,
       "version_minor": 0
      },
      "text/plain": [
       "HBox(children=(IntProgress(value=0, max=1), HTML(value='')))"
      ]
     },
     "metadata": {},
     "output_type": "display_data"
    },
    {
     "name": "stdout",
     "output_type": "stream",
     "text": [
      "\n",
      "100000 120000\n",
      "https://www.avito.ru/sankt-peterburg/kvartiry/sdam?p=1&pmax=120000&pmin=100000&user=1\n",
      "total number of pages to be parsed is: 1\n"
     ]
    },
    {
     "data": {
      "application/vnd.jupyter.widget-view+json": {
       "model_id": "d47e5eef86cd4ad3b5d7da6a0fccf543",
       "version_major": 2,
       "version_minor": 0
      },
      "text/plain": [
       "HBox(children=(IntProgress(value=0, max=1), HTML(value='')))"
      ]
     },
     "metadata": {},
     "output_type": "display_data"
    },
    {
     "name": "stdout",
     "output_type": "stream",
     "text": [
      "\n",
      "120000 140000\n",
      "https://www.avito.ru/sankt-peterburg/kvartiry/sdam?p=1&pmax=140000&pmin=120000&user=1\n",
      "total number of pages to be parsed is: 1\n"
     ]
    },
    {
     "data": {
      "application/vnd.jupyter.widget-view+json": {
       "model_id": "9fc72412dbeb44548337ffb5705bdefa",
       "version_major": 2,
       "version_minor": 0
      },
      "text/plain": [
       "HBox(children=(IntProgress(value=0, max=1), HTML(value='')))"
      ]
     },
     "metadata": {},
     "output_type": "display_data"
    },
    {
     "name": "stdout",
     "output_type": "stream",
     "text": [
      "\n"
     ]
    }
   ],
   "source": [
    "# outjson = []\n",
    "offset = 20000\n",
    "prices = [(max(int(i*offset),0),int((i+1)*offset)) for i in range(3,7)]\n",
    "for items in prices:\n",
    "    pricemin, pricemax = items\n",
    "    print(pricemin, pricemax)\n",
    "    res = bot.advert_collect_by_pages(args.url, pricemax, pricemin)\n",
    "    if res is not None:\n",
    "        outjson.append(res)"
   ]
  },
  {
   "cell_type": "code",
   "execution_count": 16,
   "metadata": {
    "scrolled": true
   },
   "outputs": [
    {
     "data": {
      "text/plain": [
       "5539"
      ]
     },
     "execution_count": 16,
     "metadata": {},
     "output_type": "execute_result"
    }
   ],
   "source": [
    "__len=0\n",
    "for item in outjson:\n",
    "    for k,v in item.items():\n",
    "        __len+=len(item[k])\n",
    "__len"
   ]
  },
  {
   "cell_type": "markdown",
   "metadata": {},
   "source": [
    "### Save json file with information about avito advs and relevant links for future parsing"
   ]
  },
  {
   "cell_type": "code",
   "execution_count": 11,
   "metadata": {},
   "outputs": [
    {
     "data": {
      "text/plain": [
       "['C:\\\\Users\\\\anthony\\\\Documents\\\\Python Scripts\\\\avito_parse\\\\avito_links_all_sankt-peterburg_kvartiry_sobstvennik.json']"
      ]
     },
     "execution_count": 11,
     "metadata": {},
     "output_type": "execute_result"
    }
   ],
   "source": [
    "joblib.dump(outjson,Path.joinpath(Path(os.getcwd()), 'avito_links_all_sankt-peterburg_kvartiry_sobstvennik.json'))"
   ]
  },
  {
   "cell_type": "markdown",
   "metadata": {},
   "source": [
    "### Load previously saved json file "
   ]
  },
  {
   "cell_type": "code",
   "execution_count": 9,
   "metadata": {},
   "outputs": [],
   "source": [
    "outjson_obsol = joblib.load(Path.joinpath(Path(os.getcwd()), 'avito_links_all_sankt-peterburg_kvartiry_sobstvennik.json'))"
   ]
  },
  {
   "cell_type": "code",
   "execution_count": 10,
   "metadata": {},
   "outputs": [],
   "source": [
    "outjson = outjson_obsol"
   ]
  },
  {
   "cell_type": "markdown",
   "metadata": {},
   "source": [
    "### Check for obsolete posts and add new adverts into collection"
   ]
  },
  {
   "cell_type": "code",
   "execution_count": 23,
   "metadata": {},
   "outputs": [],
   "source": [
    "# def find_new_advs(old_json,new_json):\n",
    "#     newdct=OrderedDict()\n",
    "#     for p,advs in new_json.items():\n",
    "#         for adv in advs:\n",
    "#             for __p,__advs in old_json.items():\n",
    "#                 for __adv in __advs:\n",
    "#                     if adv['href']!=__adv['href']:\n",
    "#                         newdct.update(adv)\n",
    "#     return newdct"
   ]
  },
  {
   "cell_type": "code",
   "execution_count": 24,
   "metadata": {},
   "outputs": [],
   "source": [
    "# newadvs = find_new_advs(outjson_obsol,outjson)"
   ]
  },
  {
   "cell_type": "markdown",
   "metadata": {},
   "source": [
    "### Convert collected links into mobile-like format if we're going to parse mobile version of Avito.ru"
   ]
  },
  {
   "cell_type": "code",
   "execution_count": 11,
   "metadata": {
    "scrolled": true
   },
   "outputs": [
    {
     "data": {
      "application/vnd.jupyter.widget-view+json": {
       "model_id": "45417ede85394954aa49df6dbf92e8c8",
       "version_major": 2,
       "version_minor": 0
      },
      "text/plain": [
       "HBox(children=(IntProgress(value=0, max=56), HTML(value='')))"
      ]
     },
     "metadata": {},
     "output_type": "display_data"
    },
    {
     "name": "stdout",
     "output_type": "stream",
     "text": [
      "\n"
     ]
    },
    {
     "data": {
      "application/vnd.jupyter.widget-view+json": {
       "model_id": "3c7e869e88334ca39b8c8c0cb98f220f",
       "version_major": 2,
       "version_minor": 0
      },
      "text/plain": [
       "HBox(children=(IntProgress(value=0, max=44), HTML(value='')))"
      ]
     },
     "metadata": {},
     "output_type": "display_data"
    },
    {
     "name": "stdout",
     "output_type": "stream",
     "text": [
      "\n"
     ]
    },
    {
     "data": {
      "application/vnd.jupyter.widget-view+json": {
       "model_id": "70dc5d846b7948ff864142346cb654e2",
       "version_major": 2,
       "version_minor": 0
      },
      "text/plain": [
       "HBox(children=(IntProgress(value=0, max=4), HTML(value='')))"
      ]
     },
     "metadata": {},
     "output_type": "display_data"
    },
    {
     "name": "stdout",
     "output_type": "stream",
     "text": [
      "\n"
     ]
    },
    {
     "data": {
      "application/vnd.jupyter.widget-view+json": {
       "model_id": "99541edf6eee493fbd3549a8d4b36e42",
       "version_major": 2,
       "version_minor": 0
      },
      "text/plain": [
       "HBox(children=(IntProgress(value=0, max=1), HTML(value='')))"
      ]
     },
     "metadata": {},
     "output_type": "display_data"
    },
    {
     "name": "stdout",
     "output_type": "stream",
     "text": [
      "\n"
     ]
    },
    {
     "data": {
      "application/vnd.jupyter.widget-view+json": {
       "model_id": "381ee08e37bb446ebc9367c3abaed5c8",
       "version_major": 2,
       "version_minor": 0
      },
      "text/plain": [
       "HBox(children=(IntProgress(value=0, max=1), HTML(value='')))"
      ]
     },
     "metadata": {},
     "output_type": "display_data"
    },
    {
     "name": "stdout",
     "output_type": "stream",
     "text": [
      "\n"
     ]
    },
    {
     "data": {
      "application/vnd.jupyter.widget-view+json": {
       "model_id": "81b6a67e03bf4ffd9b48f2f7e9f9707a",
       "version_major": 2,
       "version_minor": 0
      },
      "text/plain": [
       "HBox(children=(IntProgress(value=0, max=1), HTML(value='')))"
      ]
     },
     "metadata": {},
     "output_type": "display_data"
    },
    {
     "name": "stdout",
     "output_type": "stream",
     "text": [
      "\n"
     ]
    },
    {
     "data": {
      "application/vnd.jupyter.widget-view+json": {
       "model_id": "4f86af3845554333ae830b376609ebcf",
       "version_major": 2,
       "version_minor": 0
      },
      "text/plain": [
       "HBox(children=(IntProgress(value=0, max=1), HTML(value='')))"
      ]
     },
     "metadata": {},
     "output_type": "display_data"
    },
    {
     "name": "stdout",
     "output_type": "stream",
     "text": [
      "\n"
     ]
    }
   ],
   "source": [
    "import re\n",
    "\n",
    "# outjson = outjson_obsol\n",
    "for item in outjson:\n",
    "    for p,v in tqdm_notebook(item.items()):\n",
    "        for adv in v:\n",
    "            adv['href']=re.sub('www','m',adv['href'])"
   ]
  },
  {
   "cell_type": "markdown",
   "metadata": {},
   "source": [
    "#### Make some tests"
   ]
  },
  {
   "cell_type": "code",
   "execution_count": null,
   "metadata": {
    "scrolled": true
   },
   "outputs": [],
   "source": [
    "url='https://m.avito.ru/moskva/kvartiry/1-k_kvartira_34_m_99_et._1692963175'\n",
    "for k,v in outjson.items():\n",
    "    for adv in v:\n",
    "        if adv['href']==url:\n",
    "            res= [adv]\n",
    "            break\n",
    "    break\n",
    "res"
   ]
  },
  {
   "cell_type": "code",
   "execution_count": null,
   "metadata": {
    "scrolled": true
   },
   "outputs": [],
   "source": [
    "bot.navigate(res)"
   ]
  },
  {
   "cell_type": "code",
   "execution_count": 4,
   "metadata": {
    "scrolled": true
   },
   "outputs": [
    {
     "name": "stderr",
     "output_type": "stream",
     "text": [
      "C:\\Users\\anthony\\Documents\\Python Scripts\\avito_parse\\src\\pars_tools.py:102: DeprecationWarning: use options instead of chrome_options\n",
      "  desired_capabilities=capabilities)\n"
     ]
    }
   ],
   "source": [
    "bot = AvitoBot(args)"
   ]
  },
  {
   "cell_type": "code",
   "execution_count": 6,
   "metadata": {},
   "outputs": [
    {
     "data": {
      "text/plain": [
       "'.#Компания#На Авито с октября 2013'"
      ]
     },
     "execution_count": 6,
     "metadata": {},
     "output_type": "execute_result"
    }
   ],
   "source": [
    "bot.find_user_info('https://m.avito.ru/odintsovo/kvartiry/studiya_42_m_722_et._1642440591')"
   ]
  },
  {
   "cell_type": "code",
   "execution_count": 17,
   "metadata": {},
   "outputs": [
    {
     "data": {
      "text/plain": [
       "'ул Белорусская'"
      ]
     },
     "execution_count": 17,
     "metadata": {},
     "output_type": "execute_result"
    }
   ],
   "source": [
    "bot.find_location_info(outjson[0][1][0]['href'])"
   ]
  },
  {
   "cell_type": "markdown",
   "metadata": {},
   "source": [
    "## Run parsing without parallelization"
   ]
  },
  {
   "cell_type": "code",
   "execution_count": null,
   "metadata": {
    "scrolled": false
   },
   "outputs": [],
   "source": [
    "outjson[0][1]"
   ]
  },
  {
   "cell_type": "code",
   "execution_count": 9,
   "metadata": {},
   "outputs": [],
   "source": [
    "parsedpages = [[(k,v) for k,v in item.items()] for item in outjson if len(item)!=0]"
   ]
  },
  {
   "cell_type": "code",
   "execution_count": 10,
   "metadata": {},
   "outputs": [
    {
     "data": {
      "text/plain": [
       "19"
      ]
     },
     "execution_count": 10,
     "metadata": {},
     "output_type": "execute_result"
    }
   ],
   "source": [
    "len(parsedpages)"
   ]
  },
  {
   "cell_type": "code",
   "execution_count": null,
   "metadata": {
    "scrolled": false
   },
   "outputs": [],
   "source": [
    "#total_pages = len(outjson)\n",
    "# for page in tqdm_notebook(range(1,total_pages)):\n",
    "for batches in parsedpages:\n",
    "    for page in tqdm_notebook(batches): \n",
    "        try:\n",
    "            args.proxylst  = ProxyGet().get_random_proxy()[1]\n",
    "            args.proxyDict = ProxyGet().get_random_proxy()[0]\n",
    "            bot = AvitoBot(args)             \n",
    "            res = bot.navigate(page[1])\n",
    "        except:\n",
    "            bot.closedriver()\n",
    "            bot.restartdriver()\n",
    "            res = bot.navigate(page[1])\n",
    "        del bot"
   ]
  },
  {
   "cell_type": "code",
   "execution_count": null,
   "metadata": {},
   "outputs": [],
   "source": []
  },
  {
   "cell_type": "markdown",
   "metadata": {},
   "source": [
    "## Run parsing with parallelization"
   ]
  },
  {
   "cell_type": "code",
   "execution_count": 21,
   "metadata": {},
   "outputs": [],
   "source": [
    "parsedpages = [[(k,v) for k,v in item.items()] for item in outjson if len(item)!=0]"
   ]
  },
  {
   "cell_type": "code",
   "execution_count": 10,
   "metadata": {},
   "outputs": [],
   "source": [
    "# num_partitions = 10 #number of partitions to split dataframe\n",
    "# num_cores = 4 #number of cores on your machine"
   ]
  },
  {
   "cell_type": "code",
   "execution_count": 22,
   "metadata": {
    "scrolled": true
   },
   "outputs": [],
   "source": [
    "# def parse_page(pagesarr):\n",
    "#     collectres = []\n",
    "#     for page in tqdm_notebook(range(1,len(pagesarr)+1)):\n",
    "#         try:\n",
    "#             res = bot.navigate(pagesarr[page][1])\n",
    "#         except:\n",
    "#             bot.closedriver()\n",
    "#             bot.restartdriver()\n",
    "#             res = bot.navigate(pagesarr[page][1])\n",
    "#         collectres+=res        \n",
    "#     return collectres"
   ]
  },
  {
   "cell_type": "code",
   "execution_count": 11,
   "metadata": {},
   "outputs": [],
   "source": [
    "# def parallelize_dataframe(df, func=parse_page):\n",
    "#     df_split = np.array_split(df, num_partitions)\n",
    "#     pool = Pool(num_cores)\n",
    "#     df = pd.concat(pool.map(func, df_split))\n",
    "#     pool.close()\n",
    "#     pool.join()  \n",
    "#     return df"
   ]
  },
  {
   "cell_type": "code",
   "execution_count": null,
   "metadata": {},
   "outputs": [],
   "source": [
    "# df = parallelize_dataframe(parsedpages)"
   ]
  },
  {
   "cell_type": "markdown",
   "metadata": {},
   "source": [
    "### Use Parallel with map-delayed"
   ]
  },
  {
   "cell_type": "code",
   "execution_count": 22,
   "metadata": {},
   "outputs": [],
   "source": [
    "from multiprocessing import Process, JoinableQueue\n",
    "from queue import Queue\n",
    "from threading import Thread\n",
    "from joblib import Parallel, delayed\n",
    "import time\n",
    "import json"
   ]
  },
  {
   "cell_type": "code",
   "execution_count": 23,
   "metadata": {},
   "outputs": [],
   "source": [
    "def saver(q):\n",
    "    file_path      = Path.joinpath(Path(os.getcwd()), 'csv','avito_db.csv')\n",
    "    file_path_pgs  = Path.joinpath(Path(os.getcwd()), 'csv','parsed_pages.dat')\n",
    "    headers = ['href', 'title', 'full_text', 'phone', 'region', 'city', 'real_estate', 'type', 'marketplace']\n",
    "    #if not os.path.isfile(str(file_path)):\n",
    "    with open(file_path, 'a', encoding='utf8') as outcsv:\n",
    "        writer = csv.writer(outcsv, delimiter=',', quotechar='\"', \n",
    "                            quoting=csv.QUOTE_MINIMAL, lineterminator='\\n')\n",
    "#         writer.writerow(['href', 'title', 'full_text', 'phonestr', 'loctext', 'sellerinfo']) \n",
    "#         if not os.path.isfile(str(file_spath)):\n",
    "#             writer.writerow(headers)\n",
    "        file_is_empty = os.stat(str(file_path)).st_size == 0\n",
    "        if file_is_empty:\n",
    "            writer.writerow(headers)     \n",
    "        while True:\n",
    "            strfrom_q = q.get()\n",
    "            if strfrom_q is None: break\n",
    "            indx_batch, page, arrstr = strfrom_q.split('&&&')\n",
    "            val = json.loads(arrstr)                    \n",
    "            for item in val:\n",
    "                writer.writerow(item)                    \n",
    "            with open(file_path_pgs, 'a', encoding='utf8') as f:\n",
    "                f.write(indx_batch + ',' + page + '\\n')                \n",
    "            q.task_done()\n",
    "        # Finish up\n",
    "        q.task_done()      "
   ]
  },
  {
   "cell_type": "code",
   "execution_count": null,
   "metadata": {
    "scrolled": false
   },
   "outputs": [],
   "source": [
    "# for item in parsedpages:\n",
    "#     for page in item:  \n",
    "#         print(page[1])\n",
    "#         break"
   ]
  },
  {
   "cell_type": "code",
   "execution_count": 24,
   "metadata": {},
   "outputs": [],
   "source": [
    "def parse_page(q, indx_batch, pagesarr):\n",
    "    #q,pagesarr = arg\n",
    "    #collectres = []\n",
    "    #parsedpages[0][0][1]\n",
    "    for page in pagesarr:  \n",
    "#         print('page num#{}'.format(page))\n",
    "        for i in range(20):\n",
    "            args.proxylst  = ProxyGet().get_random_proxy()[1]\n",
    "            args.proxyDict = ProxyGet().get_random_proxy()[0]\n",
    "        bot = AvitoBot(args)             \n",
    "        res = bot.navigate(page[1])\n",
    "        restr = json.dumps(res)\n",
    "        q.put(str(indx_batch) + '&&&' + str(page[0]) + '&&&' + restr)\n",
    "        del bot\n",
    "    #return collectres"
   ]
  },
  {
   "cell_type": "code",
   "execution_count": 15,
   "metadata": {},
   "outputs": [],
   "source": [
    "# num_partitions=4\n",
    "# df_split = np.array_split(parsedpages, num_partitions)"
   ]
  },
  {
   "cell_type": "markdown",
   "metadata": {},
   "source": [
    "#### Using JoinableQueue with Parallel (not working: problem with pickling some object!!!!)"
   ]
  },
  {
   "cell_type": "code",
   "execution_count": null,
   "metadata": {
    "scrolled": false
   },
   "outputs": [],
   "source": [
    "# q = JoinableQueue()\n",
    "# th = Thread(target=saver, args=(q,))\n",
    "# th.start()\n",
    "# Parallel(n_jobs=4,verbose=1) (map(delayed(parse_page), [(q,part) for part in df_split]))\n",
    "# #Parallel(n_jobs=4,verbose=1) (delayed(parse_page)(q,part) for part in df_split)\n",
    "# q.put(None) # Poison pill\n",
    "# q.join()\n",
    "# th.join()"
   ]
  },
  {
   "cell_type": "markdown",
   "metadata": {},
   "source": [
    "## Using JoinableQueue with Threadings"
   ]
  },
  {
   "cell_type": "markdown",
   "metadata": {},
   "source": [
    "### Shared queue with automated Threads initialization "
   ]
  },
  {
   "cell_type": "code",
   "execution_count": 25,
   "metadata": {},
   "outputs": [
    {
     "data": {
      "text/plain": [
       "[array([0, 1]), array([2, 3]), array([4, 5]), array([6])]"
      ]
     },
     "execution_count": 25,
     "metadata": {},
     "output_type": "execute_result"
    }
   ],
   "source": [
    "arr = np.arange(len(parsedpages))\n",
    "num_partitions=4\n",
    "batches = np.array_split(arr, num_partitions)\n",
    "batches"
   ]
  },
  {
   "cell_type": "code",
   "execution_count": 27,
   "metadata": {
    "scrolled": true
   },
   "outputs": [],
   "source": [
    "for i in range(6,-1,-1):\n",
    "    parsedpages[0].pop(i) "
   ]
  },
  {
   "cell_type": "code",
   "execution_count": 29,
   "metadata": {},
   "outputs": [
    {
     "data": {
      "text/plain": [
       "(8,\n",
       " [{'href': 'https://m.avito.ru/sankt-peterburg/kvartiry/1-k_kvartira_30_m_510_et._1649754724',\n",
       "   'title': '1-к квартира, 30 м², 5/10 эт. в Санкт-Петербурге'},\n",
       "  {'href': 'https://m.avito.ru/sankt-peterburg/kvartiry/2-k_kvartira_59_m_25_et._944504863',\n",
       "   'title': '2-к квартира, 59 м², 2/5 эт. в Санкт-Петербурге'},\n",
       "  {'href': 'https://m.avito.ru/sankt-peterburg/kvartiry/2-k_kvartira_45_m_15_et._1599503962',\n",
       "   'title': '2-к квартира, 45 м², 1/5 эт. в Санкт-Петербурге'},\n",
       "  {'href': 'https://m.avito.ru/sankt-peterburg/kvartiry/studiya_14_m_25_et._1521591252',\n",
       "   'title': 'Студия, 14 м², 2/5 эт. в Санкт-Петербурге'},\n",
       "  {'href': 'https://m.avito.ru/sankt-peterburg/kvartiry/1-k_kvartira_38_m_19_et._943275923',\n",
       "   'title': '1-к квартира, 38 м², 1/9 эт. в Санкт-Петербурге'},\n",
       "  {'href': 'https://m.avito.ru/sankt-peterburg/kvartiry/2-k_kvartira_62_m_510_et._1274892856',\n",
       "   'title': '2-к квартира, 62 м², 5/10 эт. в Санкт-Петербурге'},\n",
       "  {'href': 'https://m.avito.ru/sankt-peterburg/kvartiry/1-k_kvartira_43_m_1015_et._1187942243',\n",
       "   'title': '1-к квартира, 43 м², 10/15 эт. в Санкт-Петербурге'},\n",
       "  {'href': 'https://m.avito.ru/sankt-peterburg_sestroretsk/kvartiry/2-k_kvartira_58_m_68_et._1236495111',\n",
       "   'title': '2-к квартира, 58 м², 6/8 эт. в Сестрорецке'},\n",
       "  {'href': 'https://m.avito.ru/sankt-peterburg/kvartiry/3-k_kvartira_60_m_89_et._1217183462',\n",
       "   'title': '3-к квартира, 60 м², 8/9 эт. в Санкт-Петербурге'},\n",
       "  {'href': 'https://m.avito.ru/sankt-peterburg/kvartiry/2-k_kvartira_55_m_1416_et._1341221854',\n",
       "   'title': '2-к квартира, 55 м², 14/16 эт. в Санкт-Петербурге'},\n",
       "  {'href': 'https://m.avito.ru/sankt-peterburg/kvartiry/3-k_kvartira_58_m_25_et._1603316206',\n",
       "   'title': '3-к квартира, 58 м², 2/5 эт. в Санкт-Петербурге'},\n",
       "  {'href': 'https://m.avito.ru/sankt-peterburg/kvartiry/1-k_kvartira_40_m_1618_et._1583806171',\n",
       "   'title': '1-к квартира, 40 м², 16/18 эт. в Санкт-Петербурге'},\n",
       "  {'href': 'https://m.avito.ru/sankt-peterburg/kvartiry/2-k_kvartira_49_m_45_et._1189437018',\n",
       "   'title': '2-к квартира, 49 м², 4/5 эт. в Санкт-Петербурге'},\n",
       "  {'href': 'https://m.avito.ru/sankt-peterburg/kvartiry/2-k_kvartira_50_m_17_et._1488718864',\n",
       "   'title': '2-к квартира, 50 м², 1/7 эт. в Санкт-Петербурге'},\n",
       "  {'href': 'https://m.avito.ru/sankt-peterburg/kvartiry/studiya_25_m_719_et._1717319287',\n",
       "   'title': 'Студия, 25 м², 7/19 эт. в Санкт-Петербурге'},\n",
       "  {'href': 'https://m.avito.ru/sankt-peterburg/kvartiry/1-k_kvartira_39_m_212_et._1217458408',\n",
       "   'title': '1-к квартира, 39 м², 2/12 эт. в Санкт-Петербурге'},\n",
       "  {'href': 'https://m.avito.ru/sankt-peterburg/kvartiry/1-k_kvartira_31.5_m_1019_et._1480505557',\n",
       "   'title': '1-к квартира, 31.5 м², 10/19 эт. в Санкт-Петербурге'},\n",
       "  {'href': 'https://m.avito.ru/sankt-peterburg/kvartiry/1-k_kvartira_30_m_1112_et._1422257464',\n",
       "   'title': '1-к квартира, 30 м², 11/12 эт. в Санкт-Петербурге'},\n",
       "  {'href': 'https://m.avito.ru/sankt-peterburg/kvartiry/1-k_kvartira_35_m_1314_et._1038701435',\n",
       "   'title': '1-к квартира, 35 м², 13/14 эт. в Санкт-Петербурге'},\n",
       "  {'href': 'https://m.avito.ru/sankt-peterburg/kvartiry/2-k_kvartira_57_m_29_et._1576174082',\n",
       "   'title': '2-к квартира, 57 м², 2/9 эт. в Санкт-Петербурге'},\n",
       "  {'href': 'https://m.avito.ru/sankt-peterburg/kvartiry/1-k_kvartira_35.5_m_29_et._1664604473',\n",
       "   'title': '1-к квартира, 35.5 м², 2/9 эт. в Санкт-Петербурге'},\n",
       "  {'href': 'https://m.avito.ru/sankt-peterburg/kvartiry/studiya_25_m_417_et._1589941448',\n",
       "   'title': 'Студия, 25 м², 4/17 эт. в Санкт-Петербурге'},\n",
       "  {'href': 'https://m.avito.ru/sankt-peterburg/kvartiry/studiya_25.4_m_1521_et._1486545882',\n",
       "   'title': 'Студия, 25.4 м², 15/21 эт. в Санкт-Петербурге'},\n",
       "  {'href': 'https://m.avito.ru/sankt-peterburg/kvartiry/3-k_kvartira_70_m_1617_et._1384015192',\n",
       "   'title': '3-к квартира, 70 м², 16/17 эт. в Санкт-Петербурге'},\n",
       "  {'href': 'https://m.avito.ru/sankt-peterburg/kvartiry/studiya_28_m_2020_et._537128446',\n",
       "   'title': 'Студия, 28 м², 20/20 эт. в Санкт-Петербурге'},\n",
       "  {'href': 'https://m.avito.ru/sankt-peterburg/kvartiry/1-k_kvartira_40_m_619_et._1431622674',\n",
       "   'title': '1-к квартира, 40 м², 6/19 эт. в Санкт-Петербурге'},\n",
       "  {'href': 'https://m.avito.ru/sankt-peterburg/kvartiry/3-k_kvartira_59_m_15_et._1366221112',\n",
       "   'title': '3-к квартира, 59 м², 1/5 эт. в Санкт-Петербурге'},\n",
       "  {'href': 'https://m.avito.ru/sankt-peterburg/kvartiry/2-k_kvartira_48_m_69_et._1339806886',\n",
       "   'title': '2-к квартира, 48 м², 6/9 эт. в Санкт-Петербурге'},\n",
       "  {'href': 'https://m.avito.ru/sankt-peterburg/kvartiry/1-k_kvartira_36_m_1227_et._1271466068',\n",
       "   'title': '1-к квартира, 36 м², 12/27 эт. в Санкт-Петербурге'},\n",
       "  {'href': 'https://m.avito.ru/sankt-peterburg/kvartiry/1-k_kvartira_42_m_1725_et._740918297',\n",
       "   'title': '1-к квартира, 42 м², 17/25 эт. в Санкт-Петербурге'},\n",
       "  {'href': 'https://m.avito.ru/sankt-peterburg/kvartiry/1-k_kvartira_40_m_1319_et._1710172117',\n",
       "   'title': '1-к квартира, 40 м², 13/19 эт. в Санкт-Петербурге'},\n",
       "  {'href': 'https://m.avito.ru/sankt-peterburg/kvartiry/1-k_kvartira_37_m_2125_et._859182721',\n",
       "   'title': '1-к квартира, 37 м², 21/25 эт. в Санкт-Петербурге'},\n",
       "  {'href': 'https://m.avito.ru/sankt-peterburg/kvartiry/studiya_27_m_1010_et._1211234847',\n",
       "   'title': 'Студия, 27 м², 10/10 эт. в Санкт-Петербурге'},\n",
       "  {'href': 'https://m.avito.ru/sankt-peterburg/kvartiry/1-k_kvartira_40_m_625_et._1557072681',\n",
       "   'title': '1-к квартира, 40 м², 6/25 эт. в Санкт-Петербурге'},\n",
       "  {'href': 'https://m.avito.ru/sankt-peterburg/kvartiry/2-k_kvartira_65_m_1017_et._1181777777',\n",
       "   'title': '2-к квартира, 65 м², 10/17 эт. в Санкт-Петербурге'},\n",
       "  {'href': 'https://m.avito.ru/sankt-peterburg/kvartiry/1-k_kvartira_45_m_1124_et._827001298',\n",
       "   'title': '1-к квартира, 45 м², 11/24 эт. в Санкт-Петербурге'},\n",
       "  {'href': 'https://m.avito.ru/sankt-peterburg/kvartiry/studiya_25_m_1515_et._957235076',\n",
       "   'title': 'Студия, 25 м², 15/15 эт. в Санкт-Петербурге'},\n",
       "  {'href': 'https://m.avito.ru/sankt-peterburg/kvartiry/2-k_kvartira_60_m_47_et._1059594499',\n",
       "   'title': '2-к квартира, 60 м², 4/7 эт. в Санкт-Петербурге'},\n",
       "  {'href': 'https://m.avito.ru/sankt-peterburg/kvartiry/studiya_25_m_1517_et._1625620800',\n",
       "   'title': 'Студия, 25 м², 15/17 эт. в Санкт-Петербурге'},\n",
       "  {'href': 'https://m.avito.ru/sankt-peterburg/kvartiry/studiya_27_m_716_et._1033832971',\n",
       "   'title': 'Студия, 27 м², 7/16 эт. в Санкт-Петербурге'},\n",
       "  {'href': 'https://m.avito.ru/sankt-peterburg/kvartiry/2-k_kvartira_58_m_39_et._965323572',\n",
       "   'title': '2-к квартира, 58 м², 3/9 эт. в Санкт-Петербурге'},\n",
       "  {'href': 'https://m.avito.ru/sankt-peterburg/kvartiry/1-k_kvartira_40_m_1320_et._466418849',\n",
       "   'title': '1-к квартира, 40 м², 13/20 эт. в Санкт-Петербурге'},\n",
       "  {'href': 'https://m.avito.ru/sankt-peterburg/kvartiry/1-k_kvartira_36_m_1124_et._1183003071',\n",
       "   'title': '1-к квартира, 36 м², 11/24 эт. в Санкт-Петербурге'},\n",
       "  {'href': 'https://m.avito.ru/sankt-peterburg/kvartiry/2-k_kvartira_47_m_89_et._765607845',\n",
       "   'title': '2-к квартира, 47 м², 8/9 эт. в Санкт-Петербурге'},\n",
       "  {'href': 'https://m.avito.ru/sankt-peterburg/kvartiry/1-k_kvartira_45_m_1415_et._1427878638',\n",
       "   'title': '1-к квартира, 45 м², 14/15 эт. в Санкт-Петербурге'},\n",
       "  {'href': 'https://m.avito.ru/sankt-peterburg/kvartiry/2-k_kvartira_55_m_818_et._970540945',\n",
       "   'title': '2-к квартира, 55 м², 8/18 эт. в Санкт-Петербурге'},\n",
       "  {'href': 'https://m.avito.ru/sankt-peterburg/kvartiry/1-k_kvartira_39_m_79_et._796571543',\n",
       "   'title': '1-к квартира, 39 м², 7/9 эт. в Санкт-Петербурге'},\n",
       "  {'href': 'https://m.avito.ru/sankt-peterburg/kvartiry/3-k_kvartira_70_m_1215_et._1477262912',\n",
       "   'title': '3-к квартира, 70 м², 12/15 эт. в Санкт-Петербурге'},\n",
       "  {'href': 'https://m.avito.ru/sankt-peterburg/kvartiry/2-k_kvartira_47_m_39_et._997625946',\n",
       "   'title': '2-к квартира, 47 м², 3/9 эт. в Санкт-Петербурге'},\n",
       "  {'href': 'https://m.avito.ru/sankt-peterburg/kvartiry/1-k_kvartira_37_m_29_et._644312377',\n",
       "   'title': '1-к квартира, 37 м², 2/9 эт. в Санкт-Петербурге'},\n",
       "  {'href': 'https://m.avito.ru/sankt-peterburg/kvartiry/2-k_kvartira_52_m_19_et._1536254239',\n",
       "   'title': '2-к квартира, 52 м², 1/9 эт. в Санкт-Петербурге'},\n",
       "  {'href': 'https://m.avito.ru/sankt-peterburg/kvartiry/1-k_kvartira_30_m_49_et._1610846356',\n",
       "   'title': '1-к квартира, 30 м², 4/9 эт. в Санкт-Петербурге'},\n",
       "  {'href': 'https://m.avito.ru/sankt-peterburg/kvartiry/1-k_kvartira_40_m_1416_et._1374206497',\n",
       "   'title': '1-к квартира, 40 м², 14/16 эт. в Санкт-Петербурге'},\n",
       "  {'href': 'https://m.avito.ru/sankt-peterburg/kvartiry/1-k_kvartira_40_m_2426_et._1627118621',\n",
       "   'title': '1-к квартира, 40 м², 24/26 эт. в Санкт-Петербурге'},\n",
       "  {'href': 'https://m.avito.ru/sankt-peterburg/kvartiry/2-k_kvartira_42_m_35_et._1404423119',\n",
       "   'title': '2-к квартира, 42 м², 3/5 эт. в Санкт-Петербурге'},\n",
       "  {'href': 'https://m.avito.ru/sankt-peterburg/kvartiry/studiya_32_m_2020_et._202972275',\n",
       "   'title': 'Студия, 32 м², 20/20 эт. в Санкт-Петербурге'}])"
      ]
     },
     "execution_count": 29,
     "metadata": {},
     "output_type": "execute_result"
    }
   ],
   "source": [
    "parsedpages[1][0]"
   ]
  },
  {
   "cell_type": "code",
   "execution_count": null,
   "metadata": {
    "scrolled": true
   },
   "outputs": [
    {
     "data": {
      "application/vnd.jupyter.widget-view+json": {
       "model_id": "305a99dd0a2745cfb2031c8824714da5",
       "version_major": 2,
       "version_minor": 0
      },
      "text/plain": [
       "HBox(children=(IntProgress(value=0, max=4), HTML(value='')))"
      ]
     },
     "metadata": {},
     "output_type": "display_data"
    },
    {
     "name": "stdout",
     "output_type": "stream",
     "text": [
      "Start: Thu Mar 21 12:18:32 2019\n"
     ]
    },
    {
     "data": {
      "application/vnd.jupyter.widget-view+json": {
       "model_id": "50372bcb179243078318337a55c3562f",
       "version_major": 2,
       "version_minor": 0
      },
      "text/plain": [
       "HBox(children=(IntProgress(value=0, max=56), HTML(value='')))"
      ]
     },
     "metadata": {},
     "output_type": "display_data"
    },
    {
     "data": {
      "application/vnd.jupyter.widget-view+json": {
       "model_id": "7e64447d64754efbbd28fb823c0892ad",
       "version_major": 2,
       "version_minor": 0
      },
      "text/plain": [
       "HBox(children=(IntProgress(value=0, max=56), HTML(value='')))"
      ]
     },
     "metadata": {},
     "output_type": "display_data"
    },
    {
     "name": "stdout",
     "output_type": "stream",
     "text": [
      "Ой! Такой страницы нет :(\n",
      "got some unprocessed pages...\n",
      "page: https://m.avito.ru/sankt-peterburg/kvartiry/2-k_kvartira_52_m_19_et._1536254239\n",
      "instantiated object has been deleted\n",
      "instantiated object has been deleted\n"
     ]
    },
    {
     "data": {
      "application/vnd.jupyter.widget-view+json": {
       "model_id": "88d8084a40eb40ceb48cd125c5168d76",
       "version_major": 2,
       "version_minor": 0
      },
      "text/plain": [
       "HBox(children=(IntProgress(value=0, max=56), HTML(value='')))"
      ]
     },
     "metadata": {},
     "output_type": "display_data"
    },
    {
     "data": {
      "application/vnd.jupyter.widget-view+json": {
       "model_id": "6b9d2ed4417b400f8a2f265bcedceba0",
       "version_major": 2,
       "version_minor": 0
      },
      "text/plain": [
       "HBox(children=(IntProgress(value=0, max=52), HTML(value='')))"
      ]
     },
     "metadata": {},
     "output_type": "display_data"
    },
    {
     "name": "stdout",
     "output_type": "stream",
     "text": [
      "instantiated object has been deleted\n"
     ]
    },
    {
     "data": {
      "application/vnd.jupyter.widget-view+json": {
       "model_id": "98027c134a71453cbd9c11b01fa1a4b7",
       "version_major": 2,
       "version_minor": 0
      },
      "text/plain": [
       "HBox(children=(IntProgress(value=0, max=52), HTML(value='')))"
      ]
     },
     "metadata": {},
     "output_type": "display_data"
    },
    {
     "name": "stdout",
     "output_type": "stream",
     "text": [
      "instantiated object has been deleted\n"
     ]
    },
    {
     "data": {
      "application/vnd.jupyter.widget-view+json": {
       "model_id": "a8cea50b273d45cb8554c3200bdc9eff",
       "version_major": 2,
       "version_minor": 0
      },
      "text/plain": [
       "HBox(children=(IntProgress(value=0, max=56), HTML(value='')))"
      ]
     },
     "metadata": {},
     "output_type": "display_data"
    },
    {
     "name": "stdout",
     "output_type": "stream",
     "text": [
      "instantiated object has been deleted\n"
     ]
    },
    {
     "data": {
      "application/vnd.jupyter.widget-view+json": {
       "model_id": "be8e7a26d559439fa4b9f811e084eb71",
       "version_major": 2,
       "version_minor": 0
      },
      "text/plain": [
       "HBox(children=(IntProgress(value=0, max=52), HTML(value='')))"
      ]
     },
     "metadata": {},
     "output_type": "display_data"
    },
    {
     "name": "stdout",
     "output_type": "stream",
     "text": [
      "instantiated object has been deleted\n"
     ]
    },
    {
     "data": {
      "application/vnd.jupyter.widget-view+json": {
       "model_id": "ef7798b0ff8b4907bc17c98e1cac9f3d",
       "version_major": 2,
       "version_minor": 0
      },
      "text/plain": [
       "HBox(children=(IntProgress(value=0, max=56), HTML(value='')))"
      ]
     },
     "metadata": {},
     "output_type": "display_data"
    },
    {
     "name": "stdout",
     "output_type": "stream",
     "text": [
      "Ой! Такой страницы нет :(\n",
      "got some unprocessed pages...\n",
      "page: https://m.avito.ru/sankt-peterburg/kvartiry/studiya_27.7_m_1018_et._929665597\n",
      "Ой! Такой страницы нет :(\n",
      "got some unprocessed pages...\n",
      "page: https://m.avito.ru/sankt-peterburg/kvartiry/2-k_kvartira_58_m_812_et._938425858\n",
      "instantiated object has been deleted\n"
     ]
    },
    {
     "data": {
      "application/vnd.jupyter.widget-view+json": {
       "model_id": "470c017952214c0aa51c6cb480604a0e",
       "version_major": 2,
       "version_minor": 0
      },
      "text/plain": [
       "HBox(children=(IntProgress(value=0, max=52), HTML(value='')))"
      ]
     },
     "metadata": {},
     "output_type": "display_data"
    },
    {
     "name": "stdout",
     "output_type": "stream",
     "text": [
      "instantiated object has been deleted\n"
     ]
    },
    {
     "data": {
      "application/vnd.jupyter.widget-view+json": {
       "model_id": "8e1fb94b76554a8eb22e0458dc4ff88b",
       "version_major": 2,
       "version_minor": 0
      },
      "text/plain": [
       "HBox(children=(IntProgress(value=0, max=56), HTML(value='')))"
      ]
     },
     "metadata": {},
     "output_type": "display_data"
    },
    {
     "name": "stdout",
     "output_type": "stream",
     "text": [
      "instantiated object has been deleted\n"
     ]
    },
    {
     "data": {
      "application/vnd.jupyter.widget-view+json": {
       "model_id": "0c1ccff046ca4a9f8c066e86670c6f59",
       "version_major": 2,
       "version_minor": 0
      },
      "text/plain": [
       "HBox(children=(IntProgress(value=0, max=52), HTML(value='')))"
      ]
     },
     "metadata": {},
     "output_type": "display_data"
    },
    {
     "name": "stdout",
     "output_type": "stream",
     "text": [
      "instantiated object has been deleted\n"
     ]
    },
    {
     "data": {
      "application/vnd.jupyter.widget-view+json": {
       "model_id": "6ed2135b60a044c8bfb4ecdf97a20870",
       "version_major": 2,
       "version_minor": 0
      },
      "text/plain": [
       "HBox(children=(IntProgress(value=0, max=54), HTML(value='')))"
      ]
     },
     "metadata": {},
     "output_type": "display_data"
    },
    {
     "name": "stdout",
     "output_type": "stream",
     "text": [
      "instantiated object has been deleted\n"
     ]
    },
    {
     "data": {
      "application/vnd.jupyter.widget-view+json": {
       "model_id": "a67157c6b80645ebab4e1bdc9914ab06",
       "version_major": 2,
       "version_minor": 0
      },
      "text/plain": [
       "HBox(children=(IntProgress(value=0, max=52), HTML(value='')))"
      ]
     },
     "metadata": {},
     "output_type": "display_data"
    },
    {
     "name": "stdout",
     "output_type": "stream",
     "text": [
      "instantiated object has been deleted\n"
     ]
    },
    {
     "data": {
      "application/vnd.jupyter.widget-view+json": {
       "model_id": "1c405a2c2a314f12b90d04aa8e4b421e",
       "version_major": 2,
       "version_minor": 0
      },
      "text/plain": [
       "HBox(children=(IntProgress(value=0, max=56), HTML(value='')))"
      ]
     },
     "metadata": {},
     "output_type": "display_data"
    },
    {
     "name": "stdout",
     "output_type": "stream",
     "text": [
      "instantiated object has been deleted\n"
     ]
    },
    {
     "data": {
      "application/vnd.jupyter.widget-view+json": {
       "model_id": "6a9701aabd294f659ad68b5497102fa1",
       "version_major": 2,
       "version_minor": 0
      },
      "text/plain": [
       "HBox(children=(IntProgress(value=0, max=52), HTML(value='')))"
      ]
     },
     "metadata": {},
     "output_type": "display_data"
    },
    {
     "name": "stdout",
     "output_type": "stream",
     "text": [
      "instantiated object has been deleted\n"
     ]
    },
    {
     "data": {
      "application/vnd.jupyter.widget-view+json": {
       "model_id": "a3aef9cad752485385a7ecaf7db170a4",
       "version_major": 2,
       "version_minor": 0
      },
      "text/plain": [
       "HBox(children=(IntProgress(value=0, max=56), HTML(value='')))"
      ]
     },
     "metadata": {},
     "output_type": "display_data"
    },
    {
     "name": "stdout",
     "output_type": "stream",
     "text": [
      "instantiated object has been deleted\n"
     ]
    },
    {
     "data": {
      "application/vnd.jupyter.widget-view+json": {
       "model_id": "2ce565f99d6d433f9d7c3740b13f5f3a",
       "version_major": 2,
       "version_minor": 0
      },
      "text/plain": [
       "HBox(children=(IntProgress(value=0, max=52), HTML(value='')))"
      ]
     },
     "metadata": {},
     "output_type": "display_data"
    },
    {
     "name": "stdout",
     "output_type": "stream",
     "text": [
      "instantiated object has been deleted\n"
     ]
    },
    {
     "data": {
      "application/vnd.jupyter.widget-view+json": {
       "model_id": "6e0a5db04909400cb8180568d148ff86",
       "version_major": 2,
       "version_minor": 0
      },
      "text/plain": [
       "HBox(children=(IntProgress(value=0, max=53), HTML(value='')))"
      ]
     },
     "metadata": {},
     "output_type": "display_data"
    },
    {
     "name": "stdout",
     "output_type": "stream",
     "text": [
      "instantiated object has been deleted\n"
     ]
    },
    {
     "data": {
      "application/vnd.jupyter.widget-view+json": {
       "model_id": "4ed51d4a81c640e890fec0642c5397f6",
       "version_major": 2,
       "version_minor": 0
      },
      "text/plain": [
       "HBox(children=(IntProgress(value=0, max=52), HTML(value='')))"
      ]
     },
     "metadata": {},
     "output_type": "display_data"
    },
    {
     "name": "stdout",
     "output_type": "stream",
     "text": [
      "Ой! Такой страницы нет :(\n",
      "got some unprocessed pages...\n",
      "page: https://m.avito.ru/sankt-peterburg/kvartiry/studiya_34_m_1315_et._1088796004\n",
      "instantiated object has been deleted\n"
     ]
    },
    {
     "data": {
      "application/vnd.jupyter.widget-view+json": {
       "model_id": "f4e86b7847be4263891c605a356dbde6",
       "version_major": 2,
       "version_minor": 0
      },
      "text/plain": [
       "HBox(children=(IntProgress(value=0, max=52), HTML(value='')))"
      ]
     },
     "metadata": {},
     "output_type": "display_data"
    },
    {
     "name": "stdout",
     "output_type": "stream",
     "text": [
      "instantiated object has been deleted\n"
     ]
    },
    {
     "data": {
      "application/vnd.jupyter.widget-view+json": {
       "model_id": "add26b37e095458c83f1b4f025429129",
       "version_major": 2,
       "version_minor": 0
      },
      "text/plain": [
       "HBox(children=(IntProgress(value=0, max=52), HTML(value='')))"
      ]
     },
     "metadata": {},
     "output_type": "display_data"
    },
    {
     "name": "stdout",
     "output_type": "stream",
     "text": [
      "Ой! Такой страницы нет :(\n",
      "got some unprocessed pages...\n",
      "page: https://m.avito.ru/sankt-peterburg_pushkin/kvartiry/2-k_kvartira_44_m_25_et._1671418982\n",
      "instantiated object has been deleted\n"
     ]
    },
    {
     "data": {
      "application/vnd.jupyter.widget-view+json": {
       "model_id": "c4bfa2621a6240aeae1199a758d5b531",
       "version_major": 2,
       "version_minor": 0
      },
      "text/plain": [
       "HBox(children=(IntProgress(value=0, max=52), HTML(value='')))"
      ]
     },
     "metadata": {},
     "output_type": "display_data"
    },
    {
     "name": "stdout",
     "output_type": "stream",
     "text": [
      "instantiated object has been deleted\n"
     ]
    },
    {
     "data": {
      "application/vnd.jupyter.widget-view+json": {
       "model_id": "309a78e8140849d4b103fd57b40f39fa",
       "version_major": 2,
       "version_minor": 0
      },
      "text/plain": [
       "HBox(children=(IntProgress(value=0, max=52), HTML(value='')))"
      ]
     },
     "metadata": {},
     "output_type": "display_data"
    },
    {
     "name": "stdout",
     "output_type": "stream",
     "text": [
      "instantiated object has been deleted\n"
     ]
    },
    {
     "data": {
      "application/vnd.jupyter.widget-view+json": {
       "model_id": "6e0e46a6fec1440e91639b39f5330a38",
       "version_major": 2,
       "version_minor": 0
      },
      "text/plain": [
       "HBox(children=(IntProgress(value=0, max=52), HTML(value='')))"
      ]
     },
     "metadata": {},
     "output_type": "display_data"
    },
    {
     "name": "stdout",
     "output_type": "stream",
     "text": [
      "instantiated object has been deleted\n"
     ]
    },
    {
     "data": {
      "application/vnd.jupyter.widget-view+json": {
       "model_id": "83dbd44aef2843479acb9f41f3bbc045",
       "version_major": 2,
       "version_minor": 0
      },
      "text/plain": [
       "HBox(children=(IntProgress(value=0, max=52), HTML(value='')))"
      ]
     },
     "metadata": {},
     "output_type": "display_data"
    },
    {
     "name": "stdout",
     "output_type": "stream",
     "text": [
      "instantiated object has been deleted\n"
     ]
    },
    {
     "data": {
      "application/vnd.jupyter.widget-view+json": {
       "model_id": "ddc6e5bd600645b689aa22e1768201b4",
       "version_major": 2,
       "version_minor": 0
      },
      "text/plain": [
       "HBox(children=(IntProgress(value=0, max=52), HTML(value='')))"
      ]
     },
     "metadata": {},
     "output_type": "display_data"
    },
    {
     "name": "stdout",
     "output_type": "stream",
     "text": [
      "instantiated object has been deleted\n"
     ]
    },
    {
     "data": {
      "application/vnd.jupyter.widget-view+json": {
       "model_id": "65c7ce8fdb8c4073b9085b04ccfac9de",
       "version_major": 2,
       "version_minor": 0
      },
      "text/plain": [
       "HBox(children=(IntProgress(value=0, max=52), HTML(value='')))"
      ]
     },
     "metadata": {},
     "output_type": "display_data"
    },
    {
     "name": "stdout",
     "output_type": "stream",
     "text": [
      "Ой! Такой страницы нет :(\n",
      "got some unprocessed pages...\n",
      "page: https://m.avito.ru/sankt-peterburg/kvartiry/studiya_34_m_1315_et._1088796004\n",
      "instantiated object has been deleted\n"
     ]
    },
    {
     "data": {
      "application/vnd.jupyter.widget-view+json": {
       "model_id": "ce87e00fdd2a48ffa5889bce1893ad07",
       "version_major": 2,
       "version_minor": 0
      },
      "text/plain": [
       "HBox(children=(IntProgress(value=0, max=52), HTML(value='')))"
      ]
     },
     "metadata": {},
     "output_type": "display_data"
    },
    {
     "name": "stdout",
     "output_type": "stream",
     "text": [
      "instantiated object has been deleted\n"
     ]
    },
    {
     "data": {
      "application/vnd.jupyter.widget-view+json": {
       "model_id": "587680f6ac6f4dbebb3b94174e5967d6",
       "version_major": 2,
       "version_minor": 0
      },
      "text/plain": [
       "HBox(children=(IntProgress(value=0, max=52), HTML(value='')))"
      ]
     },
     "metadata": {},
     "output_type": "display_data"
    },
    {
     "name": "stdout",
     "output_type": "stream",
     "text": [
      "instantiated object has been deleted\n"
     ]
    },
    {
     "data": {
      "application/vnd.jupyter.widget-view+json": {
       "model_id": "8756dda2404f4940b70a0b1c4b103740",
       "version_major": 2,
       "version_minor": 0
      },
      "text/plain": [
       "HBox(children=(IntProgress(value=0, max=52), HTML(value='')))"
      ]
     },
     "metadata": {},
     "output_type": "display_data"
    },
    {
     "name": "stdout",
     "output_type": "stream",
     "text": [
      "instantiated object has been deleted\n"
     ]
    },
    {
     "data": {
      "application/vnd.jupyter.widget-view+json": {
       "model_id": "bd1b3fa14781442f9eb9e8666434bddb",
       "version_major": 2,
       "version_minor": 0
      },
      "text/plain": [
       "HBox(children=(IntProgress(value=0, max=52), HTML(value='')))"
      ]
     },
     "metadata": {},
     "output_type": "display_data"
    },
    {
     "name": "stdout",
     "output_type": "stream",
     "text": [
      "Ой! Такой страницы нет :(\n",
      "got some unprocessed pages...\n",
      "page: https://m.avito.ru/sankt-peterburg/kvartiry/studiya_20_m_23_et._1306768938\n",
      "instantiated object has been deleted\n"
     ]
    },
    {
     "data": {
      "application/vnd.jupyter.widget-view+json": {
       "model_id": "236221d9fb794548ac04fbb3aac694eb",
       "version_major": 2,
       "version_minor": 0
      },
      "text/plain": [
       "HBox(children=(IntProgress(value=0, max=52), HTML(value='')))"
      ]
     },
     "metadata": {},
     "output_type": "display_data"
    },
    {
     "name": "stdout",
     "output_type": "stream",
     "text": [
      "instantiated object has been deleted\n"
     ]
    },
    {
     "data": {
      "application/vnd.jupyter.widget-view+json": {
       "model_id": "9e499da8c5da4e95888aad86f0aeebcc",
       "version_major": 2,
       "version_minor": 0
      },
      "text/plain": [
       "HBox(children=(IntProgress(value=0, max=52), HTML(value='')))"
      ]
     },
     "metadata": {},
     "output_type": "display_data"
    },
    {
     "name": "stdout",
     "output_type": "stream",
     "text": [
      "instantiated object has been deleted\n"
     ]
    },
    {
     "data": {
      "application/vnd.jupyter.widget-view+json": {
       "model_id": "287b0db29e6b43f2bc7ff0cd7d6573f9",
       "version_major": 2,
       "version_minor": 0
      },
      "text/plain": [
       "HBox(children=(IntProgress(value=0, max=52), HTML(value='')))"
      ]
     },
     "metadata": {},
     "output_type": "display_data"
    },
    {
     "name": "stdout",
     "output_type": "stream",
     "text": [
      "instantiated object has been deleted\n"
     ]
    },
    {
     "data": {
      "application/vnd.jupyter.widget-view+json": {
       "model_id": "f108df18cd3548ac840b6d33b588ff97",
       "version_major": 2,
       "version_minor": 0
      },
      "text/plain": [
       "HBox(children=(IntProgress(value=0, max=52), HTML(value='')))"
      ]
     },
     "metadata": {},
     "output_type": "display_data"
    },
    {
     "name": "stdout",
     "output_type": "stream",
     "text": [
      "Ой! Такой страницы нет :(\n",
      "got some unprocessed pages...\n",
      "page: https://m.avito.ru/sankt-peterburg/kvartiry/1-k_kvartira_37_m_33_et._1083043824\n",
      "instantiated object has been deleted\n"
     ]
    },
    {
     "data": {
      "application/vnd.jupyter.widget-view+json": {
       "model_id": "8210b9355e6e48d0a76234f60f6a95ab",
       "version_major": 2,
       "version_minor": 0
      },
      "text/plain": [
       "HBox(children=(IntProgress(value=0, max=52), HTML(value='')))"
      ]
     },
     "metadata": {},
     "output_type": "display_data"
    }
   ],
   "source": [
    "for indx in tqdm_notebook(batches):\n",
    "    result_queue = JoinableQueue() #Queue()\n",
    "    p = Thread(target=saver, args=(result_queue,))    \n",
    "    threadlst=[]\n",
    "    p.start()\n",
    "    # We create list of threads and pass shared queue to all of them.\n",
    "    threadlst=[Thread(target=parse_page, args=(result_queue, i, parsedpages[i])) for i in indx]\n",
    "    # Starting threads...\n",
    "    print(\"Start: %s\" % time.ctime())\n",
    "    for th in threadlst:\n",
    "        th.start()\n",
    "    # Waiting for threads to finish execution...\n",
    "    for th in threadlst:\n",
    "        th.join() \n",
    "    print(\"End:   %s\" % time.ctime())\n",
    "\n",
    "    result_queue.put(None) # Poison pill\n",
    "    p.join()          "
   ]
  },
  {
   "cell_type": "markdown",
   "metadata": {},
   "source": [
    "### Shared queue with manual Threads initialization "
   ]
  },
  {
   "cell_type": "code",
   "execution_count": null,
   "metadata": {
    "scrolled": false
   },
   "outputs": [
    {
     "name": "stdout",
     "output_type": "stream",
     "text": [
      "Start: Tue Mar 19 17:07:24 2019\n"
     ]
    },
    {
     "data": {
      "application/vnd.jupyter.widget-view+json": {
       "model_id": "c87f6bf14945470ab7d9edb30c1bab23",
       "version_major": 2,
       "version_minor": 0
      },
      "text/plain": [
       "HBox(children=(IntProgress(value=0, max=52), HTML(value='')))"
      ]
     },
     "metadata": {},
     "output_type": "display_data"
    }
   ],
   "source": [
    "result_queue = JoinableQueue() #Queue()\n",
    "p = Thread(target=saver, args=(result_queue,))\n",
    "p.start()\n",
    "# We create two threads and pass shared queue to both of them.\n",
    "t0 = Thread(target=parse_page, args=(result_queue, parsedpages[0][:1]))\n",
    "#t1 = Thread(target=parse_page, args=(result_queue, parsedpages[1][:1]))\n",
    "#t2 = Thread(target=parse_page, args=(result_queue, parsedpages[2]))\n",
    "#t3 = Thread(target=parse_page, args=(result_queue, df_split[3]))\n",
    "\n",
    "# Starting threads...\n",
    "print(\"Start: %s\" % time.ctime())\n",
    "t0.start()\n",
    "#t1.start()\n",
    "#t2.start()\n",
    "#t3.start()\n",
    "\n",
    "# Waiting for threads to finish execution...\n",
    "t0.join()\n",
    "#t1.join()\n",
    "#t2.join()\n",
    "#t3.join()\n",
    "print(\"End:   %s\" % time.ctime())\n",
    "\n",
    "# After threads are done, we can read results from the queue.\n",
    "# while not result_queue.empty():\n",
    "#     result = result_queue.get()\n",
    "#     print(result)\n",
    "\n",
    "result_queue.put(None) # Poison pill\n",
    "p.join()  "
   ]
  },
  {
   "cell_type": "code",
   "execution_count": null,
   "metadata": {},
   "outputs": [],
   "source": []
  },
  {
   "cell_type": "markdown",
   "metadata": {},
   "source": [
    "### Read updated csv file into dataframe"
   ]
  },
  {
   "cell_type": "code",
   "execution_count": 27,
   "metadata": {},
   "outputs": [],
   "source": [
    "file_path = Path.joinpath(Path(os.getcwd()), 'csv','avito_db.csv')\n",
    "df = pd.read_csv(file_path, encoding='utf8')"
   ]
  },
  {
   "cell_type": "code",
   "execution_count": 30,
   "metadata": {},
   "outputs": [
    {
     "data": {
      "text/html": [
       "<div>\n",
       "<style scoped>\n",
       "    .dataframe tbody tr th:only-of-type {\n",
       "        vertical-align: middle;\n",
       "    }\n",
       "\n",
       "    .dataframe tbody tr th {\n",
       "        vertical-align: top;\n",
       "    }\n",
       "\n",
       "    .dataframe thead th {\n",
       "        text-align: right;\n",
       "    }\n",
       "</style>\n",
       "<table border=\"1\" class=\"dataframe\">\n",
       "  <thead>\n",
       "    <tr style=\"text-align: right;\">\n",
       "      <th></th>\n",
       "      <th>title</th>\n",
       "      <th>full_text</th>\n",
       "      <th>phone</th>\n",
       "    </tr>\n",
       "  </thead>\n",
       "  <tbody>\n",
       "    <tr>\n",
       "      <th>0</th>\n",
       "      <td>2-к квартира, 47 м², 2/5 эт. в Москве</td>\n",
       "      <td>Уютная 2-комн. квартира. Комнаты изолированные...</td>\n",
       "      <td>+79857252696</td>\n",
       "    </tr>\n",
       "    <tr>\n",
       "      <th>1</th>\n",
       "      <td>1-к квартира, 68 м², 12/17 эт. в Москве</td>\n",
       "      <td>Сдается уютная oднокомнатная квартиpа пoсуточн...</td>\n",
       "      <td>+79258310600</td>\n",
       "    </tr>\n",
       "    <tr>\n",
       "      <th>2</th>\n",
       "      <td>2-к квартира, 52 м², 10/17 эт. в Москве</td>\n",
       "      <td>Звoнить c 10:00 до 23:00!!! Cдаётcя чистая, те...</td>\n",
       "      <td>+79775871165</td>\n",
       "    </tr>\n",
       "    <tr>\n",
       "      <th>3</th>\n",
       "      <td>1-к квартира, 50 м², 2/9 эт. в Москве</td>\n",
       "      <td>Cдaется уютнaя cтудия поcуточно 5 минут метрo ...</td>\n",
       "      <td>+79851851957</td>\n",
       "    </tr>\n",
       "    <tr>\n",
       "      <th>4</th>\n",
       "      <td>2-к квартира, 47 м², 1/9 эт. в Москве</td>\n",
       "      <td>Сдается славянам. Желательно семейной паре. От...</td>\n",
       "      <td>+79857835231</td>\n",
       "    </tr>\n",
       "    <tr>\n",
       "      <th>5</th>\n",
       "      <td>3-к квартира, 78 м², 3/4 эт. в Москве</td>\n",
       "      <td>Уникательный oбъeкт с видом на Mоскву-реку c к...</td>\n",
       "      <td>+79169620635</td>\n",
       "    </tr>\n",
       "    <tr>\n",
       "      <th>6</th>\n",
       "      <td>Студия, 17 м², 1/4 эт. в Москве</td>\n",
       "      <td>1 100</td>\n",
       "      <td>+79266968411</td>\n",
       "    </tr>\n",
       "    <tr>\n",
       "      <th>7</th>\n",
       "      <td>5-к квартира, 115 м², 4/8 эт. в Москве</td>\n",
       "      <td>Kомфортабельная, просторнaя, свeтлая пятикoмнa...</td>\n",
       "      <td>+79851874444</td>\n",
       "    </tr>\n",
       "    <tr>\n",
       "      <th>8</th>\n",
       "      <td>2-к квартира, 70 м², 10/23 эт. в Москве</td>\n",
       "      <td>APЕHДA ОТ CОБСТВEНHИКА B КBАPТИPE-CTУДИИ !!! B...</td>\n",
       "      <td>+79254431544</td>\n",
       "    </tr>\n",
       "    <tr>\n",
       "      <th>9</th>\n",
       "      <td>1-к квартира, 35.5 м², 1/14 эт. в Москве</td>\n",
       "      <td>Сдаётся посутoчно 1-кoмнатная квартиpа в 15 ми...</td>\n",
       "      <td>+79165102348</td>\n",
       "    </tr>\n",
       "  </tbody>\n",
       "</table>\n",
       "</div>"
      ],
      "text/plain": [
       "                                      title  \\\n",
       "0     2-к квартира, 47 м², 2/5 эт. в Москве   \n",
       "1   1-к квартира, 68 м², 12/17 эт. в Москве   \n",
       "2   2-к квартира, 52 м², 10/17 эт. в Москве   \n",
       "3     1-к квартира, 50 м², 2/9 эт. в Москве   \n",
       "4     2-к квартира, 47 м², 1/9 эт. в Москве   \n",
       "5     3-к квартира, 78 м², 3/4 эт. в Москве   \n",
       "6           Студия, 17 м², 1/4 эт. в Москве   \n",
       "7    5-к квартира, 115 м², 4/8 эт. в Москве   \n",
       "8   2-к квартира, 70 м², 10/23 эт. в Москве   \n",
       "9  1-к квартира, 35.5 м², 1/14 эт. в Москве   \n",
       "\n",
       "                                           full_text         phone  \n",
       "0  Уютная 2-комн. квартира. Комнаты изолированные...  +79857252696  \n",
       "1  Сдается уютная oднокомнатная квартиpа пoсуточн...  +79258310600  \n",
       "2  Звoнить c 10:00 до 23:00!!! Cдаётcя чистая, те...  +79775871165  \n",
       "3  Cдaется уютнaя cтудия поcуточно 5 минут метрo ...  +79851851957  \n",
       "4  Сдается славянам. Желательно семейной паре. От...  +79857835231  \n",
       "5  Уникательный oбъeкт с видом на Mоскву-реку c к...  +79169620635  \n",
       "6                                              1 100  +79266968411  \n",
       "7  Kомфортабельная, просторнaя, свeтлая пятикoмнa...  +79851874444  \n",
       "8  APЕHДA ОТ CОБСТВEНHИКА B КBАPТИPE-CTУДИИ !!! B...  +79254431544  \n",
       "9  Сдаётся посутoчно 1-кoмнатная квартиpа в 15 ми...  +79165102348  "
      ]
     },
     "execution_count": 30,
     "metadata": {},
     "output_type": "execute_result"
    }
   ],
   "source": [
    "df.head(10)"
   ]
  },
  {
   "cell_type": "code",
   "execution_count": 29,
   "metadata": {},
   "outputs": [
    {
     "data": {
      "text/plain": [
       "2859"
      ]
     },
     "execution_count": 29,
     "metadata": {},
     "output_type": "execute_result"
    }
   ],
   "source": [
    "len(df)"
   ]
  },
  {
   "cell_type": "code",
   "execution_count": null,
   "metadata": {},
   "outputs": [],
   "source": []
  }
 ],
 "metadata": {
  "kernelspec": {
   "display_name": "Python 3",
   "language": "python",
   "name": "python3"
  }
 },
 "nbformat": 4,
 "nbformat_minor": 2
}
