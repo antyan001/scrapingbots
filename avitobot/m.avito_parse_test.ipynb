{
 "cells": [
  {
   "cell_type": "code",
   "execution_count": 1,
   "metadata": {},
   "outputs": [],
   "source": [
    "import warnings\n",
    "warnings.filterwarnings('ignore')\n",
    "\n",
    "import logging\n",
    "logging.getLogger(\"selenium\").setLevel(logging.CRITICAL)"
   ]
  },
  {
   "cell_type": "code",
   "execution_count": 2,
   "metadata": {},
   "outputs": [
    {
     "name": "stderr",
     "output_type": "stream",
     "text": [
      "C:\\Users\\anthony\\Anaconda3\\lib\\site-packages\\dateparser\\date.py:320: DeprecationWarning: Using or importing the ABCs from 'collections' instead of from 'collections.abc' is deprecated, and in 3.8 it will stop working\n",
      "  if not isinstance(languages, (list, tuple, collections.Set)) and languages is not None:\n"
     ]
    }
   ],
   "source": [
    "from selenium import webdriver\n",
    "from selenium.webdriver.common.by import By\n",
    "from selenium.webdriver.chrome.options import Options, DesiredCapabilities\n",
    "import requests\n",
    "from bs4 import BeautifulSoup\n",
    "\n",
    "from src.pars_tools import ProxyGet, AvitoBot \n",
    "from collections import OrderedDict\n",
    "import csv\n",
    "import argparse\n",
    "import sys\n",
    "import os\n",
    "import re\n",
    "import random\n",
    "from pathlib import Path\n",
    "from time import sleep\n",
    "import shutil\n",
    "import base64\n",
    "from PIL import Image\n",
    "import joblib\n",
    "import tqdm\n",
    "from tqdm import tqdm_notebook\n",
    "import pandas as pd\n",
    "import numpy as np\n",
    "import dateparser\n",
    "from datetime import datetime, timedelta\n",
    "from fake_useragent import UserAgent"
   ]
  },
  {
   "cell_type": "code",
   "execution_count": 4,
   "metadata": {},
   "outputs": [],
   "source": [
    "ProxyGet().collect_proxies()"
   ]
  },
  {
   "cell_type": "code",
   "execution_count": 62,
   "metadata": {},
   "outputs": [],
   "source": [
    "def get_html(url):\n",
    "    r = requests.get(url)\n",
    "    return r.text"
   ]
  },
  {
   "cell_type": "code",
   "execution_count": 6,
   "metadata": {},
   "outputs": [],
   "source": [
    "if __name__ == \"__main__\":\n",
    "    parser = argparse.ArgumentParser('arguments for setting driver and additional parsing options')\n",
    "    parser.add_argument('--driver', type=str, default='Chrome')\n",
    "    parser.add_argument('--headless', type=bool, default=False)\n",
    "    parser.add_argument('--url', type=str, default='www.avito.ru/moskva/kvartiry')\n",
    "    parser.add_argument('--usertype', type=int, default=2)\n",
    "    parser.add_argument('--findnewadvs', type=dict, default={'findnewadvs':True,'daysback':2})\n",
    "    parser.add_argument('--proxylst', nargs='+', default=ProxyGet().get_random_proxy()[1])\n",
    "    parser.add_argument('--proxyDict', type=dict, default=ProxyGet().get_random_proxy()[0])\n",
    "    parser.add_argument('--takescreenshot', type=bool, default=False)\n",
    "    parser.add_argument('--parsemobile', type=bool, default=True)\n",
    "    parser.add_argument('--runparallel', type=bool, default=True)"
   ]
  },
  {
   "cell_type": "code",
   "execution_count": 25,
   "metadata": {},
   "outputs": [],
   "source": [
    "def is_interactive():\n",
    "    return not hasattr(sys.modules['__main__'], '__file__')\n",
    "\n",
    "# work-around for Jupyter notebook and IPython console\n",
    "argv = [] if is_interactive() else sys.argv[1:]\n",
    "args = parser.parse_args(argv)"
   ]
  },
  {
   "cell_type": "code",
   "execution_count": null,
   "metadata": {},
   "outputs": [],
   "source": []
  },
  {
   "cell_type": "code",
   "execution_count": 7,
   "metadata": {},
   "outputs": [],
   "source": [
    "from selenium import webdriver\n",
    "from selenium.webdriver.common.by import By\n",
    "from selenium.webdriver.chrome.options import Options, DesiredCapabilities\n",
    "\n",
    "# Load proxy option\n",
    "from selenium.webdriver.common.proxy import Proxy, ProxyType\n",
    "\n",
    "# Configure Proxy Option\n",
    "prox = Proxy()\n",
    "prox.proxy_type = ProxyType.MANUAL\n",
    "\n",
    "# # Proxy IP & Port\n",
    "prox.http_proxy = \"18.196.1.243:8081\"\n",
    "# # prox.socks_proxy = “0.0.0.0:00000”\n",
    "# # prox.ssl_proxy = “0.0.0.0:00000”\n",
    "\n",
    "# # Configure capabilities \n",
    "capabilities = webdriver.DesiredCapabilities.CHROME\n",
    "prox.add_to_capabilities(capabilities)\n",
    "\n",
    "\n",
    "chrome_options = Options() #webdriver.ChromeOptions()\n",
    "# options.binary_location = \"C:\\\\Program Files (x86)\\\\Google\\\\Chrome\\\\Application\\\\chrome.exe\"\n",
    "chrome_options.add_argument('--proxy-server=%s' % \"18.196.1.243:8081\")\n",
    "\n",
    "# Configure ChromeOptions\n",
    "driver = webdriver.Chrome(options=chrome_options,\n",
    "                          executable_path=\"C:\\\\chromedriver\\\\chromedriver.exe\")  #desired_capabilities=capabilities\n",
    "\n",
    "# Verify proxy ip\n",
    "driver.get(\"http://2ip.ru\")"
   ]
  },
  {
   "cell_type": "code",
   "execution_count": 5,
   "metadata": {},
   "outputs": [],
   "source": [
    "driver.quit()"
   ]
  },
  {
   "cell_type": "code",
   "execution_count": 26,
   "metadata": {},
   "outputs": [
    {
     "name": "stderr",
     "output_type": "stream",
     "text": [
      "C:\\Users\\anthony\\Documents\\Python Scripts\\avito_parse\\src\\pars_tools.py:105: DeprecationWarning: use options instead of chrome_options\n",
      "  desired_capabilities=capabilities)\n"
     ]
    }
   ],
   "source": [
    "for i in range(155):\n",
    "    args.proxylst  = ProxyGet().get_random_proxy()[1]\n",
    "    args.proxyDict = ProxyGet().get_random_proxy()[0]\n",
    "bot = AvitoBot(args)"
   ]
  },
  {
   "cell_type": "code",
   "execution_count": 28,
   "metadata": {
    "scrolled": true
   },
   "outputs": [],
   "source": [
    "bot.closedriver()"
   ]
  },
  {
   "cell_type": "code",
   "execution_count": 63,
   "metadata": {},
   "outputs": [],
   "source": [
    "options = Options()\n",
    "options.binary_location = \"C:\\\\Program Files (x86)\\\\Google\\\\Chrome\\\\Application\\\\chrome.exe\"\n",
    "#options.add_argument('--proxy-server=%s' % PROXY)\n",
    "options.headless = False\n",
    "driver = webdriver.Chrome(chrome_options=options, \n",
    "                          executable_path=\"C:\\\\chromedriver\\\\chromedriver.exe\")"
   ]
  },
  {
   "cell_type": "code",
   "execution_count": 66,
   "metadata": {},
   "outputs": [],
   "source": [
    "url = 'https://vk.com/wall-22062158?offset=0&own=1'"
   ]
  },
  {
   "cell_type": "code",
   "execution_count": 67,
   "metadata": {},
   "outputs": [],
   "source": [
    "driver.get(url)"
   ]
  },
  {
   "cell_type": "code",
   "execution_count": 68,
   "metadata": {},
   "outputs": [],
   "source": [
    "items = driver.find_elements_by_xpath('//div[@class=\"_post post page_block closed_comments deep_active\"]')"
   ]
  },
  {
   "cell_type": "code",
   "execution_count": 71,
   "metadata": {
    "scrolled": true
   },
   "outputs": [
    {
     "name": "stdout",
     "output_type": "stream",
     "text": [
      "Локалс Москва - снять/сдать квартиру и комнату\n",
      "Локалс Москва - снять/сдать квартиру и комнату\n",
      "Локалс Москва - снять/сдать квартиру и комнату\n",
      "Локалс Москва - снять/сдать квартиру и комнату\n",
      "Локалс Москва - снять/сдать квартиру и комнату\n",
      "Локалс Москва - снять/сдать квартиру и комнату\n",
      "Локалс Москва - снять/сдать квартиру и комнату\n",
      "Локалс Москва - снять/сдать квартиру и комнату\n",
      "Локалс Москва - снять/сдать квартиру и комнату\n",
      "Локалс Москва - снять/сдать квартиру и комнату\n",
      "Локалс Москва - снять/сдать квартиру и комнату\n",
      "Локалс Москва - снять/сдать квартиру и комнату\n",
      "Локалс Москва - снять/сдать квартиру и комнату\n",
      "Локалс Москва - снять/сдать квартиру и комнату\n",
      "Локалс Москва - снять/сдать квартиру и комнату\n",
      "Локалс Москва - снять/сдать квартиру и комнату\n",
      "Локалс Москва - снять/сдать квартиру и комнату\n",
      "Локалс Москва - снять/сдать квартиру и комнату\n",
      "Локалс Москва - снять/сдать квартиру и комнату\n",
      "Локалс Москва - снять/сдать квартиру и комнату\n"
     ]
    }
   ],
   "source": [
    "for item in items:\n",
    "    __author= item.find_element_by_xpath('./div/div/div/h5[@class=\"post_author\"]/a[@class=\"author\"]').text\n",
    "    print(__author)"
   ]
  },
  {
   "cell_type": "code",
   "execution_count": 200,
   "metadata": {
    "scrolled": true
   },
   "outputs": [
    {
     "name": "stdout",
     "output_type": "stream",
     "text": [
      "href https://www.avito.ru/moskva/kvartiry/1-k_kvartira_35_m_317_et._1408943304 \n",
      " title 1-к квартира, 35 м², 3/17 эт. в Москве \n",
      "text 1-к квартира, 35 м², 3/17 эт. \n",
      "data    Сегодня 12:25 \n",
      "href https://www.avito.ru/moskva/kvartiry/1-k_kvartira_38_m_216_et._1552525207 \n",
      " title 1-к квартира, 38 м², 2/16 эт. в Москве \n",
      "text 1-к квартира, 38 м², 2/16 эт. \n",
      "data    Сегодня 10:21 \n",
      "href https://www.avito.ru/moskva/kvartiry/1-k_kvartira_45_m_35_et._1273322548 \n",
      " title 1-к квартира, 45 м², 3/5 эт. в Москве \n",
      "text 1-к квартира, 45 м², 3/5 эт. \n",
      "data    Сегодня 12:16 \n",
      "href https://www.avito.ru/moskva/kvartiry/2-k_kvartira_55_m_1416_et._498715765 \n",
      " title 2-к квартира, 55 м², 14/16 эт. в Москве \n",
      "text 2-к квартира, 55 м², 14/16 эт. \n",
      "data    Сегодня 15:44 \n",
      "href https://www.avito.ru/moskva/kvartiry/2-k_kvartira_40_m_24_et._962296017 \n",
      " title 2-к квартира, 40 м², 2/4 эт. в Москве \n",
      "text 2-к квартира, 40 м², 2/4 эт. \n",
      "data    Сегодня 09:53 \n",
      "href https://www.avito.ru/moskva/kvartiry/3-k_kvartira_115_m_89_et._1655810628 \n",
      " title 3-к квартира, 115 м², 8/9 эт. в Москве \n",
      "text 3-к квартира, 115 м², 8/9 эт. \n",
      "data    Сегодня 14:14 \n"
     ]
    }
   ],
   "source": [
    "vipadvs = driver.find_elements_by_xpath('//div[@class=\"serp-vips-item \"]')\n",
    "for item in vipadvs:     \n",
    "    __href     = item.find_element_by_xpath('./div/div/h3/a[@class=\"description-title-link js-item-link\"]').get_attribute('href')\n",
    "    __title    = item.find_element_by_xpath('./div/div/h3/a[@class=\"description-title-link js-item-link\"]').get_attribute('title')\n",
    "    __itemname = item.find_element_by_xpath('./div/div/h3/a[@class=\"description-title-link js-item-link\"]').text\n",
    "    __data     = item.find_element_by_xpath('./div/div/div/div[@class=\"js-item-date c-2\"]').get_attribute('data-absolute-date')\n",
    "    print('href', __href,'\\n',\n",
    "          'title',__title,'\\n'\n",
    "          'text',__itemname,'\\n' \n",
    "          'data',__data)  "
   ]
  },
  {
   "cell_type": "code",
   "execution_count": 19,
   "metadata": {
    "scrolled": true
   },
   "outputs": [
    {
     "name": "stdout",
     "output_type": "stream",
     "text": [
      "href https://www.avito.ru/mosrentgen/kvartiry/2-k_kvartira_57_m_1117_et._1577427677 \n",
      " title 2-к квартира, 57 м², 11/17 эт. в Мосрентген \n",
      "text 2-к квартира, 57 м², 11/17 эт. \n",
      "data    Сегодня 04:50 \n",
      "href https://www.avito.ru/lms/kvartiry/3-k_kvartira_160_m_45_et._1689795209 \n",
      " title 3-к квартира, 160 м², 4/5 эт. в ЛМС \n",
      "text 3-к квартира, 160 м², 4/5 эт. \n",
      "data    Вчера 16:34 \n",
      "href https://www.avito.ru/balashiha/kvartiry/3-k_kvartira_96_m_1521_et._1329374963 \n",
      " title 3-к квартира, 96 м², 15/21 эт. в Балашихе \n",
      "text 3-к квартира, 96 м², 15/21 эт. \n",
      "data    Сегодня 01:00 \n",
      "href https://www.avito.ru/kotelniki/kvartiry/2-k_kvartira_60_m_1024_et._1420008648 \n",
      " title 2-к квартира, 60 м², 10/24 эт. в Котельниках \n",
      "text 2-к квартира, 60 м², 10/24 эт. \n",
      "data    Вчера 23:43 \n",
      "href https://www.avito.ru/kommunarka/kvartiry/3-k_kvartira_100_m_512_et._1136688416 \n",
      " title 3-к квартира, 100 м², 5/12 эт. в Коммунарке \n",
      "text 3-к квартира, 100 м², 5/12 эт. \n",
      "data    16 марта 20:35 \n",
      "href https://www.avito.ru/razvilka/kvartiry/2-k_kvartira_62_m_1217_et._1567142224 \n",
      " title 2-к квартира, 62 м², 12/17 эт. в Развилке \n",
      "text 2-к квартира, 62 м², 12/17 эт. \n",
      "data    16 марта 20:03 \n",
      "href https://www.avito.ru/mosrentgen/kvartiry/3-k_kvartira_85_m_1325_et._1280224110 \n",
      " title 3-к квартира, 85 м², 13/25 эт. в Мосрентген \n",
      "text 3-к квартира, 85 м², 13/25 эт. \n",
      "data    16 марта 16:33 \n",
      "href https://www.avito.ru/reutov/kvartiry/studiya_72_m_2125_et._974033978 \n",
      " title Студия, 72 м², 21/25 эт. в Реутове \n",
      "text Студия, 72 м², 21/25 эт. \n",
      "data    16 марта 14:25 \n",
      "href https://www.avito.ru/odintsovo/kvartiry/2-k_kvartira_75_m_66_et._1154677871 \n",
      " title 2-к квартира, 75 м², 6/6 эт. в Одинцово \n",
      "text 2-к квартира, 75 м², 6/6 эт. \n",
      "data    16 марта 02:01 \n",
      "href https://www.avito.ru/kotelniki/kvartiry/3-k_kvartira_70_m_117_et._1459261661 \n",
      " title 3-к квартира, 70 м², 1/17 эт. в Котельниках \n",
      "text 3-к квартира, 70 м², 1/17 эт. \n",
      "data    15 марта 21:24 \n",
      "href https://www.avito.ru/odintsovo/kvartiry/3-k_kvartira_100_m_625_et._1040552141 \n",
      " title 3-к квартира, 100 м², 6/25 эт. в Одинцово \n",
      "text 3-к квартира, 100 м², 6/25 эт. \n",
      "data    15 марта 20:40 \n",
      "href https://www.avito.ru/moskovskaya_oblast_troitsk/kvartiry/2-k_kvartira_98_m_35_et._1713307309 \n",
      " title 2-к квартира, 98 м², 3/5 эт. в Троицке \n",
      "text 2-к квартира, 98 м², 3/5 эт. \n",
      "data    15 марта 19:15 \n",
      "href https://www.avito.ru/balashiha/kvartiry/3-k_kvartira_143_m_26_et._1277731737 \n",
      " title 3-к квартира, 143 м², 2/6 эт. в Балашихе \n",
      "text 3-к квартира, 143 м², 2/6 эт. \n",
      "data    15 марта 18:54 \n",
      "href https://www.avito.ru/moskovskaya_oblast_moskovskiy/kvartiry/3-k_kvartira_79_m_1617_et._1610492013 \n",
      " title 3-к квартира, 79 м², 16/17 эт. в Московском \n",
      "text 3-к квартира, 79 м², 16/17 эт. \n",
      "data    15 марта 18:35 \n",
      "href https://www.avito.ru/moskovskaya_oblast_krasnogorsk/kvartiry/3-k_kvartira_98_m_58_et._1648213131 \n",
      " title 3-к квартира, 98 м², 5/8 эт. в Красногорске \n",
      "text 3-к квартира, 98 м², 5/8 эт. \n",
      "data    15 марта 18:15 \n",
      "href https://www.avito.ru/moskovskaya_oblast_krasnogorsk/kvartiry/3-k_kvartira_96_m_1016_et._1174064248 \n",
      " title 3-к квартира, 96 м², 10/16 эт. в Красногорске \n",
      "text 3-к квартира, 96 м², 10/16 эт. \n",
      "data    15 марта 11:52 \n",
      "href https://www.avito.ru/lesnoy_gorodok/kvartiry/2-k_kvartira_70_m_24_et._1458934562 \n",
      " title 2-к квартира, 70 м², 2/4 эт. в Лесном Городке \n",
      "text 2-к квартира, 70 м², 2/4 эт. \n",
      "data    14 марта 23:46 \n",
      "href https://www.avito.ru/himki/kvartiry/3-k_kvartira_121_m_68_et._1016238196 \n",
      " title 3-к квартира, 121 м², 6/8 эт. в Химках \n",
      "text 3-к квартира, 121 м², 6/8 эт. \n",
      "data    14 марта 22:36 \n",
      "href https://www.avito.ru/kommunarka/kvartiry/3-k_kvartira_81.8_m_712_et._1417075080 \n",
      " title 3-к квартира, 81.8 м², 7/12 эт. в Коммунарке \n",
      "text 3-к квартира, 81.8 м², 7/12 эт. \n",
      "data    14 марта 17:23 \n",
      "href https://www.avito.ru/kotelniki/kvartiry/4-k_kvartira_95_m_317_et._1105708223 \n",
      " title 4-к квартира, 95 м², 3/17 эт. в Котельниках \n",
      "text 4-к квартира, 95 м², 3/17 эт. \n",
      "data    14 марта 15:27 \n",
      "href https://www.avito.ru/balashiha/kvartiry/3-k_kvartira_110_m_1117_et._939110814 \n",
      " title 3-к квартира, 110 м², 11/17 эт. в Балашихе \n",
      "text 3-к квартира, 110 м², 11/17 эт. \n",
      "data    14 марта 09:55 \n",
      "href https://www.avito.ru/lyubertsy/kvartiry/3-k_kvartira_82.5_m_1217_et._1346291571 \n",
      " title 3-к квартира, 82.5 м², 12/17 эт. в Люберцах \n",
      "text 3-к квартира, 82.5 м², 12/17 эт. \n",
      "data    13 марта 23:22 \n",
      "href https://www.avito.ru/moskovskaya_oblast_krasnogorsk/kvartiry/3-k_kvartira_90_m_1721_et._930379411 \n",
      " title 3-к квартира, 90 м², 17/21 эт. в Красногорске \n",
      "text 3-к квартира, 90 м², 17/21 эт. \n",
      "data    13 марта 22:40 \n",
      "href https://www.avito.ru/himki/kvartiry/3-k_kvartira_82_m_217_et._1333949425 \n",
      " title 3-к квартира, 82 м², 2/17 эт. в Химках \n",
      "text 3-к квартира, 82 м², 2/17 эт. \n",
      "data    13 марта 15:31 \n",
      "href https://www.avito.ru/odintsovo/kvartiry/3-k_kvartira_107_m_1622_et._1352106128 \n",
      " title 3-к квартира, 107 м², 16/22 эт. в Одинцово \n",
      "text 3-к квартира, 107 м², 16/22 эт. \n",
      "data    13 марта 14:31 \n",
      "href https://www.avito.ru/kotelniki/kvartiry/3-k_kvartira_90.4_m_815_et._1267553917 \n",
      " title 3-к квартира, 90.4 м², 8/15 эт. в Котельниках \n",
      "text 3-к квартира, 90.4 м², 8/15 эт. \n",
      "data    12 марта 19:26 \n",
      "href https://www.avito.ru/gorki-10/kvartiry/3-k_kvartira_90_m_518_et._1213013697 \n",
      " title 3-к квартира, 90 м², 5/18 эт. в Горках-10 \n",
      "text 3-к квартира, 90 м², 5/18 эт. \n",
      "data    12 марта 16:13 \n",
      "href https://www.avito.ru/podolsk/kvartiry/2-k_kvartira_130_m_49_et._262382469 \n",
      " title 2-к квартира, 130 м², 4/9 эт. в Подольске \n",
      "text 2-к квартира, 130 м², 4/9 эт. \n",
      "data    12 марта 15:58 \n",
      "href https://www.avito.ru/lesnoy_gorodok/kvartiry/2-k_kvartira_77_m_24_et._882300582 \n",
      " title 2-к квартира, 77 м², 2/4 эт. в Лесном Городке \n",
      "text 2-к квартира, 77 м², 2/4 эт. \n",
      "data    12 марта 10:51 \n",
      "href https://www.avito.ru/podolsk/kvartiry/3-k_kvartira_127_m_418_et._1312791479 \n",
      " title 3-к квартира, 127 м², 4/18 эт. в Подольске \n",
      "text 3-к квартира, 127 м², 4/18 эт. \n",
      "data    11 марта 20:17 \n",
      "href https://www.avito.ru/moskovskaya_oblast_troitsk/kvartiry/3-k_kvartira_131_m_33_et._1484653306 \n",
      " title 3-к квартира, 131 м², 3/3 эт. в Троицке \n",
      "text 3-к квартира, 131 м², 3/3 эт. \n",
      "data    11 марта 14:03 \n",
      "href https://www.avito.ru/podolsk/kvartiry/3-k_kvartira_100_m_215_et._1064936854 \n",
      " title 3-к квартира, 100 м², 2/15 эт. в Подольске \n",
      "text 3-к квартира, 100 м², 2/15 эт. \n",
      "data    8 марта 13:02 \n",
      "href https://www.avito.ru/himki/kvartiry/2-k_kvartira_56_m_817_et._1426724644 \n",
      " title 2-к квартира, 56 м², 8/17 эт. в Химках \n",
      "text 2-к квартира, 56 м², 8/17 эт. \n",
      "data    6 марта 17:20 \n",
      "href https://www.avito.ru/moskovskaya_oblast_krasnogorsk/kvartiry/3-k_kvartira_140_m_33_et._1357211039 \n",
      " title 3-к квартира, 140 м², 3/3 эт. в Красногорске \n",
      "text 3-к квартира, 140 м², 3/3 эт. \n",
      "data    6 марта 14:15 \n",
      "href https://www.avito.ru/lyubertsy/kvartiry/2-k_kvartira_80_m_1925_et._787537172 \n",
      " title 2-к квартира, 80 м², 19/25 эт. в Люберцах \n",
      "text 2-к квартира, 80 м², 19/25 эт. \n",
      "data    6 марта 10:52 \n",
      "href https://www.avito.ru/kommunarka/kvartiry/3-k_kvartira_102_m_33_et._1426735609 \n",
      " title 3-к квартира, 102 м², 3/3 эт. в Коммунарке \n",
      "text 3-к квартира, 102 м², 3/3 эт. \n",
      "data    5 марта 14:28 \n",
      "href https://www.avito.ru/zvenigorod/kvartiry/5-k_kvartira_131_m_45_et._1288235439 \n",
      " title 5-к квартира, 131 м², 4/5 эт. в Звенигороде \n",
      "text 5-к квартира, 131 м², 4/5 эт. \n",
      "data    5 марта 01:29 \n",
      "href https://www.avito.ru/kommunarka/kvartiry/3-k_kvartira_103.8_m_817_et._958283396 \n",
      " title 3-к квартира, 103.8 м², 8/17 эт. в Коммунарке \n",
      "text 3-к квартира, 103.8 м², 8/17 эт. \n",
      "data    5 марта 00:13 \n",
      "href https://www.avito.ru/mytischi/kvartiry/2-k_kvartira_68_m_1022_et._1562120813 \n",
      " title 2-к квартира, 68 м², 10/22 эт. в Мытищах \n",
      "text 2-к квартира, 68 м², 10/22 эт. \n",
      "data    4 марта 22:37 \n",
      "href https://www.avito.ru/kotelniki/kvartiry/3-k_kvartira_104_m_616_et._1623983730 \n",
      " title 3-к квартира, 104 м², 6/16 эт. в Котельниках \n",
      "text 3-к квартира, 104 м², 6/16 эт. \n",
      "data    4 марта 18:43 \n",
      "href https://www.avito.ru/moskovskaya_oblast_moskovskiy/kvartiry/2-k_kvartira_65_m_89_et._1317047160 \n",
      " title 2-к квартира, 65 м², 8/9 эт. в Московском \n",
      "text 2-к квартира, 65 м², 8/9 эт. \n",
      "data    4 марта 18:18 \n",
      "href https://www.avito.ru/moskovskaya_oblast_krasnogorsk/kvartiry/3-k_kvartira_83_m_221_et._1543271523 \n",
      " title 3-к квартира, 83 м², 2/21 эт. в Красногорске \n",
      "text 3-к квартира, 83 м², 2/21 эт. \n",
      "data    3 марта 19:19 \n",
      "href https://www.avito.ru/kommunarka/kvartiry/3-k_kvartira_90_m_69_et._1343518984 \n",
      " title 3-к квартира, 90 м², 6/9 эт. в Коммунарке \n",
      "text 3-к квартира, 90 м², 6/9 эт. \n",
      "data    3 марта 04:30 \n",
      "href https://www.avito.ru/dzerzhinskiy/kvartiry/3-k_kvartira_120_m_717_et._1222924772 \n",
      " title 3-к квартира, 120 м², 7/17 эт. в Дзержинском \n",
      "text 3-к квартира, 120 м², 7/17 эт. \n",
      "data    2 марта 19:19 \n",
      "href https://www.avito.ru/mytischi/kvartiry/3-k_kvartira_112_m_24_et._1403770154 \n",
      " title 3-к квартира, 112 м², 2/4 эт. в Мытищах \n",
      "text 3-к квартира, 112 м², 2/4 эт. \n",
      "data    2 марта 18:38 \n",
      "href https://www.avito.ru/dzerzhinskiy/kvartiry/3-k_kvartira_128_m_810_et._1495115611 \n",
      " title 3-к квартира, 128 м², 8/10 эт. в Дзержинском \n",
      "text 3-к квартира, 128 м², 8/10 эт. \n",
      "data    2 марта 18:17 \n",
      "href https://www.avito.ru/dzerzhinskiy/kvartiry/3-k_kvartira_125_m_1015_et._826842818 \n",
      " title 3-к квартира, 125 м², 10/15 эт. в Дзержинском \n",
      "text 3-к квартира, 125 м², 10/15 эт. \n",
      "data    2 марта 16:05 \n",
      "href https://www.avito.ru/moskovskaya_oblast_krasnogorsk/kvartiry/4-k_kvartira_90_m_1425_et._1699209220 \n",
      " title 4-к квартира, 90 м², 14/25 эт. в Красногорске \n",
      "text 4-к квартира, 90 м², 14/25 эт. \n",
      "data    28 февраля 19:53 \n",
      "href https://www.avito.ru/lyubertsy/kvartiry/3-k_kvartira_133_m_1825_et._1546754912 \n",
      " title 3-к квартира, 133 м², 18/25 эт. в Люберцах \n",
      "text 3-к квартира, 133 м², 18/25 эт. \n",
      "data    28 февраля 15:45 \n",
      "href https://www.avito.ru/moskovskaya_oblast_krasnogorsk/kvartiry/3-k_kvartira_103_m_419_et._1285988059 \n",
      " title 3-к квартира, 103 м², 4/19 эт. в Красногорске \n",
      "text 3-к квартира, 103 м², 4/19 эт. \n",
      "data    28 февраля 01:43 \n"
     ]
    }
   ],
   "source": [
    "# item_table = driver.find_elements_by_xpath('//div[@class=\"item_table-wrapper\"]')\n",
    "# for items in item_table:\n",
    "json=[]\n",
    "item_list = driver.find_elements_by_xpath('//div[@class=\"item_table-wrapper\"]')\n",
    "for item in item_list:     \n",
    "    __href     = item.find_element_by_xpath('./div/div/h3/a[@class=\"item-description-title-link\"]').get_attribute('href')\n",
    "    __title    = item.find_element_by_xpath('./div/div/h3/a[@class=\"item-description-title-link\"]').get_attribute('title')\n",
    "    __itemname = item.find_element_by_xpath('./div/div/h3/a[@class=\"item-description-title-link\"]').text\n",
    "    __data     = item.find_element_by_xpath('./div/div[@class=\"data\"]/div[@class=\"js-item-date c-2\"]').get_attribute('data-absolute-date')\n",
    "    print('href', __href,'\\n',\n",
    "          'title',__title,'\\n'\n",
    "          'text',__itemname,'\\n' \n",
    "          'data',__data)    \n",
    "    if dateparser.parse(__data) >= datetime.now() - timedelta(days=2):\n",
    "        json+=[{'href':__href, 'title':__title}]    "
   ]
  },
  {
   "cell_type": "code",
   "execution_count": 20,
   "metadata": {},
   "outputs": [
    {
     "data": {
      "text/plain": [
       "[{'href': 'https://www.avito.ru/mosrentgen/kvartiry/2-k_kvartira_57_m_1117_et._1577427677',\n",
       "  'title': '2-к квартира, 57 м², 11/17 эт. в Мосрентген'},\n",
       " {'href': 'https://www.avito.ru/lms/kvartiry/3-k_kvartira_160_m_45_et._1689795209',\n",
       "  'title': '3-к квартира, 160 м², 4/5 эт. в ЛМС'},\n",
       " {'href': 'https://www.avito.ru/balashiha/kvartiry/3-k_kvartira_96_m_1521_et._1329374963',\n",
       "  'title': '3-к квартира, 96 м², 15/21 эт. в Балашихе'},\n",
       " {'href': 'https://www.avito.ru/kotelniki/kvartiry/2-k_kvartira_60_m_1024_et._1420008648',\n",
       "  'title': '2-к квартира, 60 м², 10/24 эт. в Котельниках'},\n",
       " {'href': 'https://www.avito.ru/kommunarka/kvartiry/3-k_kvartira_100_m_512_et._1136688416',\n",
       "  'title': '3-к квартира, 100 м², 5/12 эт. в Коммунарке'},\n",
       " {'href': 'https://www.avito.ru/razvilka/kvartiry/2-k_kvartira_62_m_1217_et._1567142224',\n",
       "  'title': '2-к квартира, 62 м², 12/17 эт. в Развилке'},\n",
       " {'href': 'https://www.avito.ru/mosrentgen/kvartiry/3-k_kvartira_85_m_1325_et._1280224110',\n",
       "  'title': '3-к квартира, 85 м², 13/25 эт. в Мосрентген'},\n",
       " {'href': 'https://www.avito.ru/reutov/kvartiry/studiya_72_m_2125_et._974033978',\n",
       "  'title': 'Студия, 72 м², 21/25 эт. в Реутове'}]"
      ]
     },
     "execution_count": 20,
     "metadata": {},
     "output_type": "execute_result"
    }
   ],
   "source": [
    "json"
   ]
  },
  {
   "cell_type": "code",
   "execution_count": 8,
   "metadata": {},
   "outputs": [],
   "source": [
    "url = 'https://www.avito.ru/moskovskaya_oblast/kvartiry/sdam?p=1&pmax=80000&pmin=60000&user=2'"
   ]
  },
  {
   "cell_type": "code",
   "execution_count": 9,
   "metadata": {},
   "outputs": [
    {
     "name": "stdout",
     "output_type": "stream",
     "text": [
      "href https://www.avito.ru/mosrentgen/kvartiry/2-k_kvartira_57_m_1117_et._1577427677 \n",
      " title 2-к квартира, 57 м², 11/17 эт. в Мосрентген \n",
      "text 2-к квартира, 57 м², 11/17 эт. \n",
      "__data Сегодня 04:50\n",
      "href https://www.avito.ru/lms/kvartiry/3-k_kvartira_160_m_45_et._1689795209 \n",
      " title 3-к квартира, 160 м², 4/5 эт. в ЛМС \n",
      "text 3-к квартира, 160 м², 4/5 эт. \n",
      "__data Вчера 16:34\n",
      "href https://www.avito.ru/balashiha/kvartiry/3-k_kvartira_96_m_1521_et._1329374963 \n",
      " title 3-к квартира, 96 м², 15/21 эт. в Балашихе \n",
      "text 3-к квартира, 96 м², 15/21 эт. \n",
      "__data Сегодня 01:00\n",
      "href https://www.avito.ru/kotelniki/kvartiry/2-k_kvartira_60_m_1024_et._1420008648 \n",
      " title 2-к квартира, 60 м², 10/24 эт. в Котельниках \n",
      "text 2-к квартира, 60 м², 10/24 эт. \n",
      "__data Вчера 23:43\n",
      "href https://www.avito.ru/kommunarka/kvartiry/3-k_kvartira_100_m_512_et._1136688416 \n",
      " title 3-к квартира, 100 м², 5/12 эт. в Коммунарке \n",
      "text 3-к квартира, 100 м², 5/12 эт. \n",
      "__data 16 марта 20:35\n",
      "href https://www.avito.ru/razvilka/kvartiry/2-k_kvartira_62_m_1217_et._1567142224 \n",
      " title 2-к квартира, 62 м², 12/17 эт. в Развилке \n",
      "text 2-к квартира, 62 м², 12/17 эт. \n",
      "__data 16 марта 20:03\n",
      "href https://www.avito.ru/mosrentgen/kvartiry/3-k_kvartira_85_m_1325_et._1280224110 \n",
      " title 3-к квартира, 85 м², 13/25 эт. в Мосрентген \n",
      "text 3-к квартира, 85 м², 13/25 эт. \n",
      "__data 16 марта 16:33\n",
      "href https://www.avito.ru/reutov/kvartiry/studiya_72_m_2125_et._974033978 \n",
      " title Студия, 72 м², 21/25 эт. в Реутове \n",
      "text Студия, 72 м², 21/25 эт. \n",
      "__data 16 марта 14:25\n",
      "href https://www.avito.ru/odintsovo/kvartiry/2-k_kvartira_75_m_66_et._1154677871 \n",
      " title 2-к квартира, 75 м², 6/6 эт. в Одинцово \n",
      "text 2-к квартира, 75 м², 6/6 эт. \n",
      "__data 16 марта 02:01\n",
      "href https://www.avito.ru/kotelniki/kvartiry/3-k_kvartira_70_m_117_et._1459261661 \n",
      " title 3-к квартира, 70 м², 1/17 эт. в Котельниках \n",
      "text 3-к квартира, 70 м², 1/17 эт. \n",
      "__data 15 марта 21:24\n",
      "href https://www.avito.ru/odintsovo/kvartiry/3-k_kvartira_100_m_625_et._1040552141 \n",
      " title 3-к квартира, 100 м², 6/25 эт. в Одинцово \n",
      "text 3-к квартира, 100 м², 6/25 эт. \n",
      "__data 15 марта 20:40\n",
      "href https://www.avito.ru/moskovskaya_oblast_troitsk/kvartiry/2-k_kvartira_98_m_35_et._1713307309 \n",
      " title 2-к квартира, 98 м², 3/5 эт. в Троицке \n",
      "text 2-к квартира, 98 м², 3/5 эт. \n",
      "__data 15 марта 19:15\n",
      "href https://www.avito.ru/balashiha/kvartiry/3-k_kvartira_143_m_26_et._1277731737 \n",
      " title 3-к квартира, 143 м², 2/6 эт. в Балашихе \n",
      "text 3-к квартира, 143 м², 2/6 эт. \n",
      "__data 15 марта 18:54\n",
      "href https://www.avito.ru/moskovskaya_oblast_moskovskiy/kvartiry/3-k_kvartira_79_m_1617_et._1610492013 \n",
      " title 3-к квартира, 79 м², 16/17 эт. в Московском \n",
      "text 3-к квартира, 79 м², 16/17 эт. \n",
      "__data 15 марта 18:35\n",
      "href https://www.avito.ru/moskovskaya_oblast_krasnogorsk/kvartiry/3-k_kvartira_98_m_58_et._1648213131 \n",
      " title 3-к квартира, 98 м², 5/8 эт. в Красногорске \n",
      "text 3-к квартира, 98 м², 5/8 эт. \n",
      "__data 15 марта 18:15\n",
      "href https://www.avito.ru/moskovskaya_oblast_krasnogorsk/kvartiry/3-k_kvartira_96_m_1016_et._1174064248 \n",
      " title 3-к квартира, 96 м², 10/16 эт. в Красногорске \n",
      "text 3-к квартира, 96 м², 10/16 эт. \n",
      "__data 15 марта 11:52\n",
      "href https://www.avito.ru/lesnoy_gorodok/kvartiry/2-k_kvartira_70_m_24_et._1458934562 \n",
      " title 2-к квартира, 70 м², 2/4 эт. в Лесном Городке \n",
      "text 2-к квартира, 70 м², 2/4 эт. \n",
      "__data 14 марта 23:46\n",
      "href https://www.avito.ru/himki/kvartiry/3-k_kvartira_121_m_68_et._1016238196 \n",
      " title 3-к квартира, 121 м², 6/8 эт. в Химках \n",
      "text 3-к квартира, 121 м², 6/8 эт. \n",
      "__data 14 марта 22:36\n",
      "href https://www.avito.ru/kommunarka/kvartiry/3-k_kvartira_81.8_m_712_et._1417075080 \n",
      " title 3-к квартира, 81.8 м², 7/12 эт. в Коммунарке \n",
      "text 3-к квартира, 81.8 м², 7/12 эт. \n",
      "__data 14 марта 17:23\n",
      "href https://www.avito.ru/kotelniki/kvartiry/4-k_kvartira_95_m_317_et._1105708223 \n",
      " title 4-к квартира, 95 м², 3/17 эт. в Котельниках \n",
      "text 4-к квартира, 95 м², 3/17 эт. \n",
      "__data 14 марта 15:27\n",
      "href https://www.avito.ru/balashiha/kvartiry/3-k_kvartira_110_m_1117_et._939110814 \n",
      " title 3-к квартира, 110 м², 11/17 эт. в Балашихе \n",
      "text 3-к квартира, 110 м², 11/17 эт. \n",
      "__data 14 марта 09:55\n",
      "href https://www.avito.ru/lyubertsy/kvartiry/3-k_kvartira_82.5_m_1217_et._1346291571 \n",
      " title 3-к квартира, 82.5 м², 12/17 эт. в Люберцах \n",
      "text 3-к квартира, 82.5 м², 12/17 эт. \n",
      "__data 13 марта 23:22\n",
      "href https://www.avito.ru/moskovskaya_oblast_krasnogorsk/kvartiry/3-k_kvartira_90_m_1721_et._930379411 \n",
      " title 3-к квартира, 90 м², 17/21 эт. в Красногорске \n",
      "text 3-к квартира, 90 м², 17/21 эт. \n",
      "__data 13 марта 22:40\n",
      "href https://www.avito.ru/himki/kvartiry/3-k_kvartira_82_m_217_et._1333949425 \n",
      " title 3-к квартира, 82 м², 2/17 эт. в Химках \n",
      "text 3-к квартира, 82 м², 2/17 эт. \n",
      "__data 13 марта 15:31\n",
      "href https://www.avito.ru/odintsovo/kvartiry/3-k_kvartira_107_m_1622_et._1352106128 \n",
      " title 3-к квартира, 107 м², 16/22 эт. в Одинцово \n",
      "text 3-к квартира, 107 м², 16/22 эт. \n",
      "__data 13 марта 14:31\n",
      "href https://www.avito.ru/kotelniki/kvartiry/3-k_kvartira_90.4_m_815_et._1267553917 \n",
      " title 3-к квартира, 90.4 м², 8/15 эт. в Котельниках \n",
      "text 3-к квартира, 90.4 м², 8/15 эт. \n",
      "__data 12 марта 19:26\n",
      "href https://www.avito.ru/gorki-10/kvartiry/3-k_kvartira_90_m_518_et._1213013697 \n",
      " title 3-к квартира, 90 м², 5/18 эт. в Горках-10 \n",
      "text 3-к квартира, 90 м², 5/18 эт. \n",
      "__data 12 марта 16:13\n",
      "href https://www.avito.ru/podolsk/kvartiry/2-k_kvartira_130_m_49_et._262382469 \n",
      " title 2-к квартира, 130 м², 4/9 эт. в Подольске \n",
      "text 2-к квартира, 130 м², 4/9 эт. \n",
      "__data 12 марта 15:58\n",
      "href https://www.avito.ru/lesnoy_gorodok/kvartiry/2-k_kvartira_77_m_24_et._882300582 \n",
      " title 2-к квартира, 77 м², 2/4 эт. в Лесном Городке \n",
      "text 2-к квартира, 77 м², 2/4 эт. \n",
      "__data 12 марта 10:51\n",
      "href https://www.avito.ru/podolsk/kvartiry/3-k_kvartira_127_m_418_et._1312791479 \n",
      " title 3-к квартира, 127 м², 4/18 эт. в Подольске \n",
      "text 3-к квартира, 127 м², 4/18 эт. \n",
      "__data 11 марта 20:17\n",
      "href https://www.avito.ru/moskovskaya_oblast_troitsk/kvartiry/3-k_kvartira_131_m_33_et._1484653306 \n",
      " title 3-к квартира, 131 м², 3/3 эт. в Троицке \n",
      "text 3-к квартира, 131 м², 3/3 эт. \n",
      "__data 11 марта 14:03\n",
      "href https://www.avito.ru/podolsk/kvartiry/3-k_kvartira_100_m_215_et._1064936854 \n",
      " title 3-к квартира, 100 м², 2/15 эт. в Подольске \n",
      "text 3-к квартира, 100 м², 2/15 эт. \n",
      "__data 8 марта 13:02\n",
      "href https://www.avito.ru/himki/kvartiry/2-k_kvartira_56_m_817_et._1426724644 \n",
      " title 2-к квартира, 56 м², 8/17 эт. в Химках \n",
      "text 2-к квартира, 56 м², 8/17 эт. \n",
      "__data 6 марта 17:20\n",
      "href https://www.avito.ru/moskovskaya_oblast_krasnogorsk/kvartiry/3-k_kvartira_140_m_33_et._1357211039 \n",
      " title 3-к квартира, 140 м², 3/3 эт. в Красногорске \n",
      "text 3-к квартира, 140 м², 3/3 эт. \n",
      "__data 6 марта 14:15\n",
      "href https://www.avito.ru/lyubertsy/kvartiry/2-k_kvartira_80_m_1925_et._787537172 \n",
      " title 2-к квартира, 80 м², 19/25 эт. в Люберцах \n",
      "text 2-к квартира, 80 м², 19/25 эт. \n",
      "__data 6 марта 10:52\n",
      "href https://www.avito.ru/kommunarka/kvartiry/3-k_kvartira_102_m_33_et._1426735609 \n",
      " title 3-к квартира, 102 м², 3/3 эт. в Коммунарке \n",
      "text 3-к квартира, 102 м², 3/3 эт. \n",
      "__data 5 марта 14:28\n",
      "href https://www.avito.ru/zvenigorod/kvartiry/5-k_kvartira_131_m_45_et._1288235439 \n",
      " title 5-к квартира, 131 м², 4/5 эт. в Звенигороде \n",
      "text 5-к квартира, 131 м², 4/5 эт. \n",
      "__data 5 марта 01:29\n",
      "href https://www.avito.ru/kommunarka/kvartiry/3-k_kvartira_103.8_m_817_et._958283396 \n",
      " title 3-к квартира, 103.8 м², 8/17 эт. в Коммунарке \n",
      "text 3-к квартира, 103.8 м², 8/17 эт. \n",
      "__data 5 марта 00:13\n",
      "href https://www.avito.ru/mytischi/kvartiry/2-k_kvartira_68_m_1022_et._1562120813 \n",
      " title 2-к квартира, 68 м², 10/22 эт. в Мытищах \n",
      "text 2-к квартира, 68 м², 10/22 эт. \n",
      "__data 4 марта 22:37\n",
      "href https://www.avito.ru/kotelniki/kvartiry/3-k_kvartira_104_m_616_et._1623983730 \n",
      " title 3-к квартира, 104 м², 6/16 эт. в Котельниках \n",
      "text 3-к квартира, 104 м², 6/16 эт. \n",
      "__data 4 марта 18:43\n",
      "href https://www.avito.ru/moskovskaya_oblast_moskovskiy/kvartiry/2-k_kvartira_65_m_89_et._1317047160 \n",
      " title 2-к квартира, 65 м², 8/9 эт. в Московском \n",
      "text 2-к квартира, 65 м², 8/9 эт. \n",
      "__data 4 марта 18:18\n",
      "href https://www.avito.ru/moskovskaya_oblast_krasnogorsk/kvartiry/3-k_kvartira_83_m_221_et._1543271523 \n",
      " title 3-к квартира, 83 м², 2/21 эт. в Красногорске \n",
      "text 3-к квартира, 83 м², 2/21 эт. \n",
      "__data 3 марта 19:19\n",
      "href https://www.avito.ru/kommunarka/kvartiry/3-k_kvartira_90_m_69_et._1343518984 \n",
      " title 3-к квартира, 90 м², 6/9 эт. в Коммунарке \n",
      "text 3-к квартира, 90 м², 6/9 эт. \n",
      "__data 3 марта 04:30\n",
      "href https://www.avito.ru/dzerzhinskiy/kvartiry/3-k_kvartira_120_m_717_et._1222924772 \n",
      " title 3-к квартира, 120 м², 7/17 эт. в Дзержинском \n",
      "text 3-к квартира, 120 м², 7/17 эт. \n",
      "__data 2 марта 19:19\n",
      "href https://www.avito.ru/mytischi/kvartiry/3-k_kvartira_112_m_24_et._1403770154 \n",
      " title 3-к квартира, 112 м², 2/4 эт. в Мытищах \n",
      "text 3-к квартира, 112 м², 2/4 эт. \n",
      "__data 2 марта 18:38\n",
      "href https://www.avito.ru/dzerzhinskiy/kvartiry/3-k_kvartira_128_m_810_et._1495115611 \n",
      " title 3-к квартира, 128 м², 8/10 эт. в Дзержинском \n",
      "text 3-к квартира, 128 м², 8/10 эт. \n",
      "__data 2 марта 18:17\n",
      "href https://www.avito.ru/dzerzhinskiy/kvartiry/3-k_kvartira_125_m_1015_et._826842818 \n",
      " title 3-к квартира, 125 м², 10/15 эт. в Дзержинском \n",
      "text 3-к квартира, 125 м², 10/15 эт. \n",
      "__data 2 марта 16:05\n",
      "href https://www.avito.ru/moskovskaya_oblast_krasnogorsk/kvartiry/4-k_kvartira_90_m_1425_et._1699209220 \n",
      " title 4-к квартира, 90 м², 14/25 эт. в Красногорске \n",
      "text 4-к квартира, 90 м², 14/25 эт. \n",
      "__data 28 февраля 19:53\n",
      "href https://www.avito.ru/lyubertsy/kvartiry/3-k_kvartira_133_m_1825_et._1546754912 \n",
      " title 3-к квартира, 133 м², 18/25 эт. в Люберцах \n",
      "text 3-к квартира, 133 м², 18/25 эт. \n",
      "__data 28 февраля 15:45\n",
      "href https://www.avito.ru/moskovskaya_oblast_krasnogorsk/kvartiry/3-k_kvartira_103_m_419_et._1285988059 \n",
      " title 3-к квартира, 103 м², 4/19 эт. в Красногорске \n",
      "text 3-к квартира, 103 м², 4/19 эт. \n",
      "__data 28 февраля 01:43\n"
     ]
    }
   ],
   "source": [
    "soup = BeautifulSoup(get_html(url),'lxml')\n",
    "item_list = soup.find('div',class_='catalog-list').find_all('div',class_='item_table-wrapper')\n",
    "for item in item_list:\n",
    "    __href      = 'https://www.avito.ru'+item.find('a',class_='item-description-title-link').get('href')\n",
    "    __title     = item.find('a',class_='item-description-title-link').get('title')\n",
    "    __itemname  = item.find('a',class_='item-description-title-link').find('span',itemprop='name').text\n",
    "    __advinfo   = item.find('div',class_='item_table-description').find('div',class_='data').text.strip()\n",
    "    __data      = item.find('div',class_='js-item-date c-2').get('data-absolute-date')\n",
    "    __data      = re.sub('\\xa0',' ',__data.strip())\n",
    "#     dateparser.parse(__data) > datetime.now() - timedelta(hours=24) \n",
    "    print('href', __href,'\\n',\n",
    "          'title',__title,'\\n'\n",
    "          'text',__itemname,'\\n' \n",
    "          '__data',__data)\n",
    "    \n",
    "#json+=[{'href':__href, 'title':__title, 'text':__itemname, 'info':__advinfo}] "
   ]
  },
  {
   "cell_type": "code",
   "execution_count": 9,
   "metadata": {},
   "outputs": [],
   "source": []
  },
  {
   "cell_type": "code",
   "execution_count": 24,
   "metadata": {},
   "outputs": [
    {
     "data": {
      "text/plain": [
       "'Сегодня 15:19'"
      ]
     },
     "execution_count": 24,
     "metadata": {},
     "output_type": "execute_result"
    }
   ],
   "source": [
    "__data"
   ]
  },
  {
   "cell_type": "code",
   "execution_count": 46,
   "metadata": {},
   "outputs": [
    {
     "data": {
      "text/plain": [
       "datetime.datetime(2019, 3, 14, 15, 19)"
      ]
     },
     "execution_count": 46,
     "metadata": {},
     "output_type": "execute_result"
    }
   ],
   "source": [
    "dateparser.parse(__data)"
   ]
  },
  {
   "cell_type": "code",
   "execution_count": 44,
   "metadata": {},
   "outputs": [
    {
     "data": {
      "text/plain": [
       "datetime.datetime(1900, 1, 1, 1, 2)"
      ]
     },
     "execution_count": 44,
     "metadata": {},
     "output_type": "execute_result"
    }
   ],
   "source": [
    "datetime.strptime('1:02:30','%H:%M:%S').replace(second=0)"
   ]
  },
  {
   "cell_type": "code",
   "execution_count": 10,
   "metadata": {},
   "outputs": [
    {
     "data": {
      "text/plain": [
       "'19:03:16:15:51:14'"
      ]
     },
     "execution_count": 10,
     "metadata": {},
     "output_type": "execute_result"
    }
   ],
   "source": [
    "now = datetime.now()\n",
    "now.strftime('%y:%m:%d:%H:%M:%S')"
   ]
  },
  {
   "cell_type": "code",
   "execution_count": 11,
   "metadata": {},
   "outputs": [
    {
     "data": {
      "text/plain": [
       "datetime.datetime(2019, 3, 14, 15, 51, 22, 195171)"
      ]
     },
     "execution_count": 11,
     "metadata": {},
     "output_type": "execute_result"
    }
   ],
   "source": [
    "datetime.now() - timedelta(days=2) "
   ]
  },
  {
   "cell_type": "code",
   "execution_count": 17,
   "metadata": {},
   "outputs": [],
   "source": [
    "url='https://m.avito.ru/moskovskaya_oblast/kvartiry'\n",
    "# req = get_html(url)\n",
    "# allpages = get_total_pages(req)"
   ]
  },
  {
   "cell_type": "code",
   "execution_count": 31,
   "metadata": {},
   "outputs": [],
   "source": [
    "driver.get(url)"
   ]
  },
  {
   "cell_type": "code",
   "execution_count": 42,
   "metadata": {},
   "outputs": [],
   "source": [
    "containers = driver.find_elements_by_xpath('//div[@class=\"_341z_\"]/div[@class=\"_3B2-r\"]//*')"
   ]
  },
  {
   "cell_type": "code",
   "execution_count": 43,
   "metadata": {},
   "outputs": [
    {
     "data": {
      "text/plain": [
       "8048"
      ]
     },
     "execution_count": 43,
     "metadata": {},
     "output_type": "execute_result"
    }
   ],
   "source": [
    "len(containers)"
   ]
  },
  {
   "cell_type": "code",
   "execution_count": null,
   "metadata": {
    "scrolled": false
   },
   "outputs": [],
   "source": [
    "for item in containers:    \n",
    "    #page = item.find_element_by_xpath('./following-sibling::div')\n",
    "    page = item.find_elements_by_xpath('//div[@class=\"_328WR _2PXTe\"]/a[@class=\"MBUbs eXo1j e-2RA\"]')\n",
    "    print(len(page))"
   ]
  },
  {
   "cell_type": "code",
   "execution_count": 100,
   "metadata": {
    "scrolled": true
   },
   "outputs": [
    {
     "name": "stdout",
     "output_type": "stream",
     "text": [
      "https://m.avito.ru/moskva/kvartiry/1-k_kvartira_28_m_47_et._1711435761\n",
      "https://m.avito.ru/moskva/kvartiry/1-k_kvartira_35_m_69_et._1705738934\n",
      "https://m.avito.ru/moskva/kvartiry/1-k_kvartira_40_m_817_et._1374993386\n",
      "https://m.avito.ru/moskva/kvartiry/1-k_kvartira_39_m_35_et._1278607913\n",
      "https://m.avito.ru/moskva/kvartiry/1-k_kvartira_35_m_612_et._1685491565\n",
      "https://m.avito.ru/moskva/kvartiry/2-k_kvartira_38_m_29_et._1165502090\n",
      "https://m.avito.ru/moskva/kvartiry/studiya_23_m_14_et._1408213831\n",
      "https://m.avito.ru/moskva/kvartiry/2-k_kvartira_36_m_618_et._1388562258\n",
      "https://m.avito.ru/moskva/kvartiry/1-k_kvartira_40_m_516_et._1193710178\n",
      "https://m.avito.ru/moskva/kvartiry/1-k_kvartira_38_m_516_et._1558843972\n",
      "https://m.avito.ru/moskva/kvartiry/1-k_kvartira_40_m_116_et._998379764\n",
      "https://m.avito.ru/moskva/kvartiry/2-k_kvartira_53_m_28_et._1695295611\n",
      "https://m.avito.ru/moskva/kvartiry/2-k_kvartira_60_m_312_et._390734897\n",
      "https://m.avito.ru/moskva/kvartiry/1-k_kvartira_38_m_512_et._1275316983\n",
      "https://m.avito.ru/moskva/kvartiry/1-k_kvartira_38_m_1017_et._1122526981\n",
      "https://m.avito.ru/moskva/kvartiry/1-k_kvartira_38_m_79_et._1146906913\n",
      "https://m.avito.ru/moskva/kvartiry/1-k_kvartira_33_m_1421_et._1384736330\n",
      "https://m.avito.ru/moskva/kvartiry/1-k_kvartira_32_m_59_et._1316523794\n",
      "https://m.avito.ru/moskva/kvartiry/1-k_kvartira_37_m_1217_et._930473936\n",
      "https://m.avito.ru/moskva/kvartiry/1-k_kvartira_33.9_m_35_et._1354928704\n",
      "https://m.avito.ru/moskva/kvartiry/1-k_kvartira_45_m_69_et._1330895886\n",
      "https://m.avito.ru/moskva/kvartiry/2-k_kvartira_44.6_m_15_et._1021118775\n",
      "https://m.avito.ru/moskva/kvartiry/1-k_kvartira_40_m_19_et._1111941182\n",
      "https://m.avito.ru/moskva/kvartiry/2-k_kvartira_72_m_222_et._1177709878\n",
      "https://m.avito.ru/moskva/kvartiry/1-k_kvartira_32_m_412_et._1678637969\n",
      "https://m.avito.ru/moskva/kvartiry/1-k_kvartira_40_m_612_et._1356779295\n",
      "https://m.avito.ru/moskva/kvartiry/3-k_kvartira_63_m_412_et._557958827\n",
      "https://m.avito.ru/moskva/kvartiry/1-k_kvartira_30_m_35_et._1375409487\n",
      "https://m.avito.ru/moskva/kvartiry/studiya_47_m_2325_et._1592189269\n"
     ]
    }
   ],
   "source": [
    "for item in containers:    \n",
    "    #page = item.find_element_by_xpath('./following-sibling::div')\n",
    "    page = item.find_elements_by_xpath('//div[@class=\"_328WR _2PXTe\"]/a[@class=\"MBUbs eXo1j e-2RA\"]')\n",
    "    for adv in page:\n",
    "        __href = adv.get_attribute('href')\n",
    "        print(__href)\n",
    "    break"
   ]
  },
  {
   "cell_type": "code",
   "execution_count": 44,
   "metadata": {},
   "outputs": [
    {
     "data": {
      "text/plain": [
       "2712"
      ]
     },
     "execution_count": 44,
     "metadata": {},
     "output_type": "execute_result"
    }
   ],
   "source": [
    "678*4"
   ]
  },
  {
   "cell_type": "code",
   "execution_count": 30,
   "metadata": {
    "scrolled": true
   },
   "outputs": [
    {
     "data": {
      "text/plain": [
       "'+79262472230'"
      ]
     },
     "execution_count": 30,
     "metadata": {},
     "output_type": "execute_result"
    }
   ],
   "source": [
    "url='https://m.avito.ru/moskva/komnaty/komnata_42_m_v_2-k_55_et._1583579628'\n",
    "driver.get(url)\n",
    "phone = driver.find_element_by_xpath('//div[@class=\"_1DzgK\"]//*').get_attribute('href')\n",
    "phone.split(':')[-1]"
   ]
  },
  {
   "cell_type": "code",
   "execution_count": 5,
   "metadata": {},
   "outputs": [
    {
     "data": {
      "text/plain": [
       "'Сдам 2 комнаты в 3-x кoмнaтной квартире нa 5/5 этажнoго дoмa в 7 минутаx хoдьбы oт м. Kузьминки. Kвapтиpa чистая,уютная, окнa вo двoр. Koмнаты cмeжныe, кухня 6 м2, с/у cовмещeн.В кoмнатaх 2 рaскладныx диванa, 1 крoвать, платяной шкаф, компьютepный стoл, стeнка, жуpнaльный столик. Из тeхники холодильник, тeлeвизор, cвч, cтирaльнaя машинa автомат. Вся инфраструктура, магазины, парк, почта, банк.Сдается с 20 марта.Просьба риелторов не беспокоить.'"
      ]
     },
     "execution_count": 5,
     "metadata": {},
     "output_type": "execute_result"
    }
   ],
   "source": [
    "driver.find_element_by_xpath('//div[@data-marker=\"item-description/text\"]').text"
   ]
  },
  {
   "cell_type": "code",
   "execution_count": null,
   "metadata": {
    "scrolled": true
   },
   "outputs": [],
   "source": [
    "__str = driver.find_element_by_xpath('//div[@class=\"_2edBr\"]').text\n",
    "__str"
   ]
  },
  {
   "cell_type": "code",
   "execution_count": 30,
   "metadata": {},
   "outputs": [
    {
     "data": {
      "text/plain": [
       "'1-кoмнaтную кв-ру нa м. Беляевo (8 минут пeшком) ул Г. Антоновa д.7 коpп. 2. 34/18/7 сдaм на длительный cрок (желaтeльнo apeндаторам c мecтной peгистpaциeй). Свежий кoсметичeский pемoнт. Вся нeобхoдимая мeбель и бытoвая техника. Залoг 31000. БEЗ KОМИCСИИ. COБСТBЕННИK, КВАРTИРA СВOБОДНА С 1 АПРЕЛЯ.'"
      ]
     },
     "execution_count": 30,
     "metadata": {},
     "output_type": "execute_result"
    }
   ],
   "source": [
    "import re\n",
    "re.sub('\\n',' ',__str)"
   ]
  },
  {
   "cell_type": "code",
   "execution_count": 26,
   "metadata": {},
   "outputs": [
    {
     "data": {
      "text/plain": [
       "'https://m.avito.ru/user/d669ac115b4a3a648b9b15b6183973cc/profile?id=1297654425&src=item'"
      ]
     },
     "execution_count": 26,
     "metadata": {},
     "output_type": "execute_result"
    }
   ],
   "source": [
    "url='https://m.avito.ru/moskva/komnaty/komnata_23_m_v_5-k_22_et._1297654425'\n",
    "driver.get(url)\n",
    "__href = driver.find_element_by_xpath('//div[@class=\"_3KRNu\"]//*').get_attribute('href')\n",
    "__href"
   ]
  },
  {
   "cell_type": "code",
   "execution_count": 27,
   "metadata": {},
   "outputs": [],
   "source": [
    "soup = BeautifulSoup(get_html(__href),'lxml')"
   ]
  },
  {
   "cell_type": "code",
   "execution_count": 28,
   "metadata": {},
   "outputs": [
    {
     "data": {
      "text/plain": [
       "'владимир'"
      ]
     },
     "execution_count": 28,
     "metadata": {},
     "output_type": "execute_result"
    }
   ],
   "source": [
    "soup.find('div',class_='_3lLfq').text"
   ]
  },
  {
   "cell_type": "code",
   "execution_count": 29,
   "metadata": {},
   "outputs": [
    {
     "data": {
      "text/plain": [
       "'Частное лицо'"
      ]
     },
     "execution_count": 29,
     "metadata": {},
     "output_type": "execute_result"
    }
   ],
   "source": [
    "soup.find('div',class_='_1iCcN').find('div',class_='_2GgxK').find_all('span',class_='_2VsAk')[0].text"
   ]
  },
  {
   "cell_type": "code",
   "execution_count": 33,
   "metadata": {},
   "outputs": [],
   "source": [
    "def find_user_info(url):\n",
    "    driver.get(url)\n",
    "    try:\n",
    "        __href = driver.find_element_by_xpath('//div[@class=\"_3KRNu\"]//*').get_attribute('href')\n",
    "        soup = BeautifulSoup(get_html(__href),'lxml')\n",
    "        author_name = soup.find('div',class_='_3lLfq').text\n",
    "        legal_type  = soup.find('div',class_='_1iCcN').find('div',class_='_2GgxK').find_all('span',class_='_2VsAk')[0].text\n",
    "        reg_date    = soup.find('div',class_='_1iCcN').find('div',class_='_2GgxK').find_all('span',class_='_2VsAk')[1].text\n",
    "    except:\n",
    "        print('find_user_info--> cannot find specified element for parsing')\n",
    "        author_name = None\n",
    "        legal_type  = None\n",
    "        reg_date    = None\n",
    "        \n",
    "    return author_name, legal_type, reg_date"
   ]
  },
  {
   "cell_type": "code",
   "execution_count": 34,
   "metadata": {},
   "outputs": [
    {
     "data": {
      "text/plain": [
       "('владимир', 'Частное лицо', 'На Авито с мая 2015')"
      ]
     },
     "execution_count": 34,
     "metadata": {},
     "output_type": "execute_result"
    }
   ],
   "source": [
    "find_user_info(url)"
   ]
  },
  {
   "cell_type": "code",
   "execution_count": null,
   "metadata": {
    "scrolled": true
   },
   "outputs": [],
   "source": [
    "url='https://m.avito.ru/moskva/kvartiry/1-k_kvartira_36_m_1012_et._1255898653'\n",
    "soup = BeautifulSoup(get_html(url),'lxml')\n",
    "soup.find_all('div',class_='_31kJP')"
   ]
  },
  {
   "cell_type": "code",
   "execution_count": 95,
   "metadata": {},
   "outputs": [
    {
     "data": {
      "text/plain": [
       "'https://m.avito.ru/moskva/sdam?p=2&pmax=5000&pmin=500&user=0'"
      ]
     },
     "execution_count": 95,
     "metadata": {},
     "output_type": "execute_result"
    }
   ],
   "source": [
    "url_base_part = 'https://m.avito.ru/moskva/'\n",
    "query_part    = 'sdam?'\n",
    "page_part     = 'p='\n",
    "maxminrange   = '&pmax={0:}&pmin={1:}'\n",
    "url_str = url_base_part+query_part+page_part+'{2:}'+maxminrange+'&user='+str(0)\n",
    "url_str.format(5000,500,2)\n",
    "\n"
   ]
  },
  {
   "cell_type": "code",
   "execution_count": 59,
   "metadata": {
    "scrolled": true
   },
   "outputs": [
    {
     "data": {
      "text/plain": [
       "'1-к квартира, 42 м², 10/17 эт.'"
      ]
     },
     "execution_count": 59,
     "metadata": {},
     "output_type": "execute_result"
    }
   ],
   "source": [
    "url='https://www.avito.ru/moskovskaya_oblast/kvartiry/sdam?p=1&pmax=5000&pmin=495&user=0'\n",
    "soup = BeautifulSoup(get_html(url),'lxml')\n",
    "vipadvs = soup.find_all('div',class_='serp-vips-content')\n",
    "vipadvs[1].find('div',class_='serp-vips-item').find('a',class_='description-title-link').find('span',itemprop='name').text"
   ]
  },
  {
   "cell_type": "code",
   "execution_count": 57,
   "metadata": {},
   "outputs": [
    {
     "data": {
      "text/plain": [
       "'   Вчера\\xa017:30 '"
      ]
     },
     "execution_count": 57,
     "metadata": {},
     "output_type": "execute_result"
    }
   ],
   "source": [
    "vipadvs[1].find('div',class_='js-item-date c-2').get('data-absolute-date')"
   ]
  },
  {
   "cell_type": "code",
   "execution_count": null,
   "metadata": {},
   "outputs": [],
   "source": []
  },
  {
   "cell_type": "code",
   "execution_count": null,
   "metadata": {},
   "outputs": [],
   "source": []
  },
  {
   "cell_type": "code",
   "execution_count": 18,
   "metadata": {},
   "outputs": [],
   "source": [
    "url='https://m.avito.ru/pik-arenda'"
   ]
  },
  {
   "cell_type": "code",
   "execution_count": 23,
   "metadata": {},
   "outputs": [],
   "source": [
    "import re\n",
    "driver.get(url)\n",
    "button = driver.find_element_by_xpath('//div[@class=\"_3B4dQ\"]/span[@class=\"_2bexo\"]')\n",
    "button.click()\n",
    "sleep(3)\n",
    "items = driver.find_elements_by_xpath('//div[@class=\"_1PdXO\"]')\n",
    "fulltext = ','.join([item.text for item in items])\n",
    "fulltext = re.sub('\\n',' ',fulltext)"
   ]
  },
  {
   "cell_type": "code",
   "execution_count": 24,
   "metadata": {},
   "outputs": [
    {
     "data": {
      "text/plain": [
       "'Москва м. Цветной бульвар,+7 495 104-78-18,+7 495 106-48-68,pik-arenda.ru'"
      ]
     },
     "execution_count": 24,
     "metadata": {},
     "output_type": "execute_result"
    }
   ],
   "source": [
    "fulltext"
   ]
  },
  {
   "cell_type": "code",
   "execution_count": null,
   "metadata": {},
   "outputs": [],
   "source": []
  },
  {
   "cell_type": "code",
   "execution_count": null,
   "metadata": {
    "scrolled": true
   },
   "outputs": [],
   "source": [
    "url='https://m.avito.ru/moskovskaya_oblast_krasnogorsk/kvartiry/2-k_kvartira_48_m_116_et._1567490179'\n",
    "driver.get(url)\n",
    "__href = driver.find_element_by_xpath('//div[@class=\"_3KRNu\"]//*').get_attribute('href')\n",
    "soup = BeautifulSoup(get_html(__href),'lxml')\n",
    "author_name = soup.find('div',class_='_3lLfq').text\n",
    "legal_type  = soup.find('div',class_='_1iCcN').find('div',class_='_2GgxK').find_all('span',class_='_2VsAk')[0].text\n",
    "reg_date    = soup.find('div',class_='_1iCcN').find('div',class_='_2GgxK').find_all('span',class_='_2VsAk')[1].text           \n",
    "fulltext = ','.join([author_name,legal_type,reg_date]) "
   ]
  },
  {
   "cell_type": "code",
   "execution_count": 28,
   "metadata": {},
   "outputs": [
    {
     "data": {
      "text/plain": [
       "'Екатерина,Частное лицо,На Авито с ноября 2011'"
      ]
     },
     "execution_count": 28,
     "metadata": {},
     "output_type": "execute_result"
    }
   ],
   "source": [
    "fulltext"
   ]
  },
  {
   "cell_type": "code",
   "execution_count": 12,
   "metadata": {},
   "outputs": [
    {
     "data": {
      "text/plain": [
       "'Ольга'"
      ]
     },
     "execution_count": 12,
     "metadata": {},
     "output_type": "execute_result"
    }
   ],
   "source": [
    "url='https://m.avito.ru/mytischi/kvartiry/2-k_kvartira_56_m_1717_et._1444730863'\n",
    "soup = BeautifulSoup(get_html(url),'lxml')\n",
    "__href = 'https://m.avito.ru'+soup.find('a',class_='_30ro6').get('href')\n",
    "soup = BeautifulSoup(get_html(__href),'lxml')\n",
    "author_name = soup.find('div',class_='_3lLfq').text\n",
    "author_name"
   ]
  },
  {
   "cell_type": "code",
   "execution_count": 40,
   "metadata": {
    "scrolled": false
   },
   "outputs": [
    {
     "data": {
      "text/plain": [
       "'MaxRealty24#Квартиры#На Avito с января 2015'"
      ]
     },
     "execution_count": 40,
     "metadata": {},
     "output_type": "execute_result"
    }
   ],
   "source": [
    "url='https://m.avito.ru/moskovskaya_oblast_krasnogorsk/kvartiry/3-k_kvartira_80_m_1724_et._1256342554'\n",
    "soup = BeautifulSoup(get_html(url),'lxml')\n",
    "__href = 'https://m.avito.ru'+soup.find('a',class_='_30ro6').get('href')\n",
    "driver.get(__href)\n",
    "seller_name = driver.find_element_by_xpath('//div[@class=\"_1j-_p\"]').text\n",
    "sell_type   = driver.find_element_by_xpath('//div[@class=\"abv9x\"]').text\n",
    "regdate     = driver.find_element_by_xpath('//div[@class=\"_220Sl\"]').text\n",
    "sellerinfo  = '#'.join([seller_name,sell_type,regdate])\n",
    "sellerinfo\n",
    "# button = driver.find_element_by_xpath('//div[@class=\"_3B4dQ\"]/span[@class=\"_2bexo\"]')\n",
    "# button.click()\n",
    "# sleep(2)\n",
    "# items = driver.find_elements_by_xpath('//div[@class=\"_1PdXO\"]')\n",
    "# fulltext = ','.join([item.text for item in items])\n",
    "# fulltext = re.sub('\\n',' ',fulltext)\n",
    "# fulltext"
   ]
  },
  {
   "cell_type": "code",
   "execution_count": 24,
   "metadata": {
    "scrolled": true
   },
   "outputs": [
    {
     "name": "stdout",
     "output_type": "stream",
     "text": [
      "exception\n"
     ]
    },
    {
     "data": {
      "text/plain": [
       "'Коломна, Московская обл., г. Балашиха, мкр-н Железнодорожный,+7 964 575-29-08,home-zheldor.ru'"
      ]
     },
     "execution_count": 24,
     "metadata": {},
     "output_type": "execute_result"
    }
   ],
   "source": [
    "url='https://m.avito.ru/moskovskaya_oblast_zheleznodorozhnyy/kvartiry/1-k_kvartira_42_m_1217_et._1168248120'\n",
    "\n",
    "try:\n",
    "    soup = BeautifulSoup(get_html(url,self.proxyDict),'lxml')\n",
    "    __href = 'https://m.avito.ru'+soup.find('a',class_='_30ro6').get('href')\n",
    "    soup = BeautifulSoup(get_html(__href,self.proxyDict),'lxml')\n",
    "    author_name = soup.find('div',class_='_3lLfq').text\n",
    "    legal_type  = soup.find('div',class_='_1iCcN').find('div',class_='_2GgxK').find_all('span',class_='_2VsAk')[0].text\n",
    "    reg_date    = soup.find('div',class_='_1iCcN').find('div',class_='_2GgxK').find_all('span',class_='_2VsAk')[1].text           \n",
    "    fulltext = ','.join([author_name,legal_type,reg_date])    \n",
    "except:\n",
    "    print('exception')\n",
    "    try:\n",
    "        driver.get(__href)\n",
    "        button = driver.find_element_by_xpath('//div[@class=\"_3B4dQ\"]/span[@class=\"_2bexo\"]')\n",
    "        button.click()\n",
    "        sleep(3)\n",
    "        items = driver.find_elements_by_xpath('//div[@class=\"_1PdXO\"]')\n",
    "        fulltext = ','.join([item.text for item in items])\n",
    "        fulltext = re.sub('\\n',' ',fulltext)\n",
    "    except:\n",
    "        pass\n",
    "\n",
    "fulltext"
   ]
  },
  {
   "cell_type": "code",
   "execution_count": 58,
   "metadata": {},
   "outputs": [
    {
     "name": "stdout",
     "output_type": "stream",
     "text": [
      "ffff\n"
     ]
    }
   ],
   "source": [
    "file_path      = Path.joinpath(Path(os.getcwd()), 'csv','avito_ddd.csv')\n",
    "headers = ['href', 'title', 'full_text', 'phonestr']\n",
    "#if not os.path.isfile(str(file_path)):\n",
    "with open(file_path, 'a', encoding='utf8') as outcsv:\n",
    "    writer = csv.writer(outcsv, delimiter=',', quotechar='\"', \n",
    "                        quoting=csv.QUOTE_MINIMAL, lineterminator='\\n')\n",
    "    file_is_empty = os.stat(str(file_path)).st_size == 0\n",
    "    if file_is_empty:\n",
    "        print('ffff')\n",
    "        writer.writerow(headers) "
   ]
  },
  {
   "cell_type": "code",
   "execution_count": null,
   "metadata": {
    "scrolled": false
   },
   "outputs": [],
   "source": [
    "url='https://www.avito.ru/moskva/kvartiry/sdam?p=1&pmax=10000&pmin=0&user=2'\n",
    "soup = BeautifulSoup(get_html(url),'lxml')\n",
    "pages = soup.find('div',class_='pagination-pages').find_all('a',class_='pagination-page')[-1].get('href')"
   ]
  },
  {
   "cell_type": "code",
   "execution_count": 4,
   "metadata": {},
   "outputs": [],
   "source": [
    "def _func():\n",
    "    responses = [1,2,3,4]\n",
    "    for response in responses:\n",
    "        r = yield response\n",
    "#         print(r)"
   ]
  },
  {
   "cell_type": "code",
   "execution_count": 5,
   "metadata": {},
   "outputs": [
    {
     "name": "stdout",
     "output_type": "stream",
     "text": [
      "1\n",
      "2\n",
      "3\n",
      "4\n"
     ]
    }
   ],
   "source": [
    "for r in _func():\n",
    "    print(r)"
   ]
  },
  {
   "cell_type": "code",
   "execution_count": null,
   "metadata": {},
   "outputs": [],
   "source": []
  },
  {
   "cell_type": "code",
   "execution_count": 3,
   "metadata": {},
   "outputs": [],
   "source": [
    "ua = UserAgent()\n",
    "user_agent = ua.random  \n",
    "headers =  {   'user-agent': user_agent,\n",
    "               'referrer': 'https://www.reg.ru/',\n",
    "               'Accept': 'text/html,application/xhtml+xml,application/xml;q=0.9,image/webp,image/apng,*/*;q=0.8',\n",
    "               'Accept-Encoding': 'gzip, deflate, br',\n",
    "               'Accept-Language': 'en-US,en;q=0.9',\n",
    "               'Pragma': 'no-cache'  }   "
   ]
  },
  {
   "cell_type": "code",
   "execution_count": 9,
   "metadata": {},
   "outputs": [],
   "source": [
    "# url='https://www.avito.ru/moskovskaya_oblast/kvartiry/sdam?p=2&pmax=80000&pmin=60000&user=2'\n",
    "# findnewadvs=True\n",
    "# daysback=3"
   ]
  },
  {
   "cell_type": "code",
   "execution_count": 4,
   "metadata": {},
   "outputs": [],
   "source": [
    "url='https://www.avito.ru/moskovskaya_oblast/kvartiry/sdam?p=1&pmax=100000&pmin=80000&user=2'"
   ]
  },
  {
   "cell_type": "code",
   "execution_count": null,
   "metadata": {},
   "outputs": [],
   "source": [
    "ProxyGet().collect_proxies()"
   ]
  },
  {
   "cell_type": "code",
   "execution_count": 7,
   "metadata": {},
   "outputs": [],
   "source": [
    "from requests import ConnectionError, HTTPError, Timeout\n",
    "from requests.adapters import HTTPAdapter\n",
    "from requests.packages.urllib3.util.retry import Retry"
   ]
  },
  {
   "cell_type": "code",
   "execution_count": 11,
   "metadata": {
    "scrolled": true
   },
   "outputs": [],
   "source": [
    "session = requests.Session()\n",
    "retry   = Retry(connect=3, backoff_factor=0.3)\n",
    "adapter = HTTPAdapter(max_retries=retry)\n",
    "session.mount('http://', adapter)\n",
    "session.mount('https://', adapter)\n",
    "\n",
    "try:\n",
    "    r = session.get(url,proxies=ProxyGet().get_random_proxy()[0],headers=headers, timeout=None)\n",
    "except (ConnectionError, HTTPError, Timeout):\n",
    "    r.status_code = \"Connection refused\"\n",
    "    print(r.status_code)  "
   ]
  },
  {
   "cell_type": "code",
   "execution_count": 13,
   "metadata": {},
   "outputs": [
    {
     "data": {
      "text/plain": [
       "'Ой! Такой страницы нет :('"
      ]
     },
     "execution_count": 13,
     "metadata": {},
     "output_type": "execute_result"
    }
   ],
   "source": [
    "url='https://m.avito.ru/sankt-peterburg/kvartiry/2-k_kvartira_68_m_411_et._16881375655'\n",
    "r = requests.get(url,headers=headers, timeout=150)\n",
    "html = r.text\n",
    "soup = BeautifulSoup(html,'lxml')\n",
    "notexist = soup.find('div',class_=\"_2edBr\").text\n",
    "notexist"
   ]
  },
  {
   "cell_type": "code",
   "execution_count": null,
   "metadata": {},
   "outputs": [],
   "source": []
  },
  {
   "cell_type": "code",
   "execution_count": 22,
   "metadata": {
    "scrolled": false
   },
   "outputs": [],
   "source": [
    "r = requests.get(url,headers=headers, timeout=150)\n",
    "html = r.text\n",
    "soup = BeautifulSoup(html,'lxml')\n",
    "pages = soup.find('div',class_='pagination-pages').find_all('a',class_='pagination-page')[-1].get('href')"
   ]
  },
  {
   "cell_type": "code",
   "execution_count": 23,
   "metadata": {},
   "outputs": [
    {
     "data": {
      "text/plain": [
       "'/moskva/kvartiry/sdam?p=87&pmax=10000&pmin=0&user=2'"
      ]
     },
     "execution_count": 23,
     "metadata": {},
     "output_type": "execute_result"
    }
   ],
   "source": [
    "pages"
   ]
  },
  {
   "cell_type": "code",
   "execution_count": 15,
   "metadata": {},
   "outputs": [],
   "source": [
    "json=[]\n",
    "soup = BeautifulSoup(html,'lxml')\n",
    "# find regular advers:\n",
    "item_list = soup.find('div',class_='catalog-list').find_all('div',class_='item_table-wrapper')\n",
    "if item_list!=[]:\n",
    "    for item in item_list:\n",
    "        __href      = 'https://www.avito.ru'+item.find('a',class_='item-description-title-link').get('href')\n",
    "        __title     = item.find('a',class_='item-description-title-link').get('title')\n",
    "        #__itemname  = item.find('a',class_='item-description-title-link').find('span',itemprop='name').text\n",
    "        #__advinfo   = item.find('div',class_='item_table-description').find('div',class_='data').text.strip()\n",
    "        __data      = item.find('div',class_='js-item-date c-2').get('data-absolute-date')\n",
    "        __data      = re.sub('\\xa0',' ',__data.strip())   \n",
    "        if findnewadvs:\n",
    "            if dateparser.parse(__data) >= datetime.now() - timedelta(days=daysback):\n",
    "                json+=[{'href':__href, 'title':__title}]\n",
    "        else:\n",
    "            json+=[{'href':__href, 'title':__title}]       \n",
    "# find vip advers\n",
    "vipadvs = soup.find_all('div',class_='serp-vips-content')\n",
    "if vipadvs!=[]:\n",
    "    for item in vipadvs:\n",
    "        __href      = item.find('div',class_='serp-vips-item').find('a',class_='description-title-link').get('href')\n",
    "        __title     = item.find('div',class_='serp-vips-item').find('a',class_='description-title-link').get('title')\n",
    "        #__itemname  = item.find('div',class_='serp-vips-item').find('a',class_='description-title-link').find('span',itemprop='name').text\n",
    "        __data      = item.find('div',class_='js-item-date c-2').get('data-absolute-date')\n",
    "        __data      = re.sub('\\xa0',' ',__data.strip())              \n",
    "        if findnewadvs:\n",
    "            if dateparser.parse(__data) >= datetime.now() - timedelta(days=daysback):\n",
    "                json+=[{'href':__href, 'title':__title}]\n",
    "        else:\n",
    "            json+=[{'href':__href, 'title':__title}]"
   ]
  },
  {
   "cell_type": "code",
   "execution_count": 16,
   "metadata": {},
   "outputs": [
    {
     "data": {
      "text/plain": [
       "[{'href': 'https://www.avito.ru/himki/kvartiry/3-k_kvartira_80_m_69_et._981463436',\n",
       "  'title': '3-к квартира, 80 м², 6/9 эт. в Химках'},\n",
       " {'href': 'https://www.avito.ru/himki/kvartiry/3-k_kvartira_85_m_35_et._1547480866',\n",
       "  'title': '3-к квартира, 85 м², 3/5 эт. в Химках'}]"
      ]
     },
     "execution_count": 16,
     "metadata": {},
     "output_type": "execute_result"
    }
   ],
   "source": [
    "json"
   ]
  },
  {
   "cell_type": "code",
   "execution_count": 6,
   "metadata": {},
   "outputs": [],
   "source": [
    "url='https://m.avito.ru/mosrentgen/kvartiry/2-k_kvartira_57_m_1117_et._1577427677'"
   ]
  },
  {
   "cell_type": "code",
   "execution_count": null,
   "metadata": {
    "scrolled": true
   },
   "outputs": [],
   "source": [
    "r = requests.get(url,headers=headers, timeout=150)\n",
    "html = r.text\n",
    "soup = BeautifulSoup(html,'lxml')\n",
    "# advert is still active and page exists\n",
    "# capture phone number            \n",
    "__phone = soup.find('div',class_=\"_1DzgK\").find('a').get('href')\n",
    "if __phone is not None:\n",
    "    phonestr = __phone.split(':')[-1]\n",
    "else: \n",
    "    phonestr = None\n",
    "# capture adv text\n",
    "__str = soup.find('div',class_=\"_1jdV1 _1jmEp\").find('div').text\n",
    "if __str is not None:\n",
    "    full_text = re.sub('\\n',' ',__str)\n",
    "else:\n",
    "    full_text = None  \n",
    "    \n",
    "print(phonestr+'\\n'+full_text)    \n"
   ]
  },
  {
   "cell_type": "code",
   "execution_count": 65,
   "metadata": {},
   "outputs": [
    {
     "data": {
      "text/plain": [
       "'tel:+79684647000'"
      ]
     },
     "execution_count": 65,
     "metadata": {},
     "output_type": "execute_result"
    }
   ],
   "source": [
    "soup.find('div',class_=\"_1DzgK\").find('a').get('href')"
   ]
  },
  {
   "cell_type": "code",
   "execution_count": 11,
   "metadata": {},
   "outputs": [],
   "source": [
    "import socket\n",
    "import socks\n",
    "import urllib\n",
    "import requests\n",
    "from urllib.request import urlopen "
   ]
  },
  {
   "cell_type": "code",
   "execution_count": 17,
   "metadata": {
    "scrolled": false
   },
   "outputs": [
    {
     "name": "stdout",
     "output_type": "stream",
     "text": [
      "b'{\\n  \"origin\": \"192.42.116.26, 192.42.116.26\"\\n}\\n'\n"
     ]
    }
   ],
   "source": [
    "url = 'http://httpbin.org/ip'\n",
    "\n",
    "socks.setdefaultproxy(socks.PROXY_TYPE_SOCKS5, '127.0.0.1', 9150)\n",
    "socket.socket = socks.socksocket\n",
    "\n",
    "response = urlopen(url)\n",
    "print(response.read())"
   ]
  },
  {
   "cell_type": "code",
   "execution_count": 18,
   "metadata": {
    "scrolled": true
   },
   "outputs": [
    {
     "name": "stdout",
     "output_type": "stream",
     "text": [
      "{\n",
      "  \"origin\": \"192.42.116.26, 192.42.116.26\"\n",
      "}\n",
      "\n"
     ]
    }
   ],
   "source": [
    "socks.setdefaultproxy(socks.PROXY_TYPE_SOCKS5, '127.0.0.1', 9150)\n",
    "socket.socket = socks.socksocket\n",
    "\n",
    "response = requests.get(url)\n",
    "print(response.text)"
   ]
  },
  {
   "cell_type": "code",
   "execution_count": 13,
   "metadata": {},
   "outputs": [],
   "source": [
    "ua = UserAgent()\n",
    "user_agent = ua.random  \n",
    "headers =  {   'user-agent': user_agent,\n",
    "               'referrer': 'https://www.reg.ru/',\n",
    "               'Accept': 'text/html,application/xhtml+xml,application/xml;q=0.9,image/webp,image/apng,*/*;q=0.8',\n",
    "               'Accept-Encoding': 'gzip, deflate, br',\n",
    "               'Accept-Language': 'en-US,en;q=0.9',\n",
    "               'Pragma': 'no-cache'  }  "
   ]
  },
  {
   "cell_type": "code",
   "execution_count": 14,
   "metadata": {},
   "outputs": [],
   "source": [
    "url='https://www.avito.ru/moskovskaya_oblast/kvartiry/sdam?p=1&pmax=100000&pmin=80000&user=2'"
   ]
  },
  {
   "cell_type": "code",
   "execution_count": null,
   "metadata": {
    "scrolled": false
   },
   "outputs": [],
   "source": [
    "session = requests.session()\n",
    "# Tor uses the 9150 port as the default socks port\n",
    "session.proxies = {'http':  'socks5://127.0.0.1:9150',\n",
    "                   'https': 'socks5://127.0.0.1:9150'}\n",
    "session.headers = headers\n",
    "# Make a request through the Tor connection\n",
    "# IP visible through Tor\n",
    "print(session.get(\"http://httpbin.org/ip\").text)\n",
    "print(session.get(url).text)\n",
    "# Above should print an IP different than your public IP\n",
    "\n",
    "# Following prints your normal public IP\n",
    "print(requests.get(url).text)"
   ]
  },
  {
   "cell_type": "code",
   "execution_count": 5,
   "metadata": {},
   "outputs": [],
   "source": [
    "ProxyGet().collect_proxies()"
   ]
  },
  {
   "cell_type": "code",
   "execution_count": null,
   "metadata": {},
   "outputs": [],
   "source": []
  }
 ],
 "metadata": {
  "kernelspec": {
   "display_name": "Python 3",
   "language": "python",
   "name": "python3"
  },
  "language_info": {
   "codemirror_mode": {
    "name": "ipython",
    "version": 3
   },
   "file_extension": ".py",
   "mimetype": "text/x-python",
   "name": "python",
   "nbconvert_exporter": "python",
   "pygments_lexer": "ipython3",
   "version": "3.7.1"
  }
 },
 "nbformat": 4,
 "nbformat_minor": 2
}
