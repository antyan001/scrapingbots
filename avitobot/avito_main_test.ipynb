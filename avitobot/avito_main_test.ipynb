{
 "cells": [
  {
   "cell_type": "code",
   "execution_count": 1,
   "metadata": {},
   "outputs": [],
   "source": [
    "%load_ext autoreload\n",
    "%autoreload 2"
   ]
  },
  {
   "cell_type": "code",
   "execution_count": 2,
   "metadata": {},
   "outputs": [
    {
     "name": "stderr",
     "output_type": "stream",
     "text": [
      "C:\\Users\\anthony\\Anaconda3\\lib\\site-packages\\dateparser\\date.py:320: DeprecationWarning: Using or importing the ABCs from 'collections' instead of from 'collections.abc' is deprecated, and in 3.8 it will stop working\n",
      "  if not isinstance(languages, (list, tuple, collections.Set)) and languages is not None:\n"
     ]
    }
   ],
   "source": [
    "import warnings\n",
    "warnings.filterwarnings('ignore')\n",
    "\n",
    "import logging\n",
    "#logging.basicConfig(level=logging.ERROR)\n",
    "#logger = logging.getLogger(__name__)\n",
    "logging.getLogger(\"selenium\").setLevel(logging.CRITICAL)\n",
    "\n",
    "from src.pars_tools import ProxyGet, AvitoBot \n",
    "import argparse\n",
    "import os\n",
    "import sys\n",
    "import joblib\n",
    "from pathlib import Path\n",
    "import pandas as pd\n",
    "import numpy as np\n",
    "import random\n",
    "import tqdm\n",
    "import csv\n",
    "from time import sleep\n",
    "from tqdm import tqdm_notebook\n",
    "from collections import OrderedDict"
   ]
  },
  {
   "cell_type": "code",
   "execution_count": 3,
   "metadata": {
    "scrolled": true
   },
   "outputs": [],
   "source": [
    "def is_interactive():\n",
    "    return not hasattr(sys.modules['__main__'], '__file__')"
   ]
  },
  {
   "cell_type": "code",
   "execution_count": 5,
   "metadata": {
    "scrolled": false
   },
   "outputs": [],
   "source": [
    "if __name__ == \"__main__\":\n",
    "    parser = argparse.ArgumentParser('arguments for setting driver and additional parsing options')\n",
    "    parser.add_argument('--driver', type=str, default='Chrome')\n",
    "    # headless mode:\n",
    "    parser.add_argument('--headless', type=bool, default=True)  \n",
    "    # choose category for parsing: \n",
    "    #    'predlozheniya_uslug'\n",
    "    #    'nedvizhimost'\n",
    "    parser.add_argument('--category', type=str, default='predlozheniya_uslug')  \n",
    "    # pass main url for query: \n",
    "    #    'https://www.avito.ru/moskovskaya_oblast/kvartiry/'\n",
    "    #    'https://www.avito.ru/moskovskaya_oblast/komnaty/'\n",
    "    #    'https://www.avito.ru/moskva/predlozheniya_uslug/transport_perevozki'\n",
    "    parser.add_argument('--url', type=str, default='https://www.avito.ru/moskva/predlozheniya_uslug/transport_perevozki') \n",
    "    # choose category subtype --> int: \n",
    "    # if nedvizhimost is selected then:        1 - sobstvennik,  2 - agentstvo\n",
    "    # if predlozheniya_uslug is selected then: 1 - chastnoe,     2 - companya\n",
    "    parser.add_argument('--usertype', type=int, default=1) \n",
    "    # define query type: 'sdam' for category=nedvizhimost or empty string ''\n",
    "    parser.add_argument('--query', type=str, default='')     \n",
    "    # choose the way to grab each page: soup=>True or selenium=>False\n",
    "    parser.add_argument('--get_wall_soup', type=bool, default=True) \n",
    "    parser.add_argument('--adv_scrap_soup', type=bool, default=True)\n",
    "    parser.add_argument('--findnewadvs', type=dict, default={'findnewadvs':False,'daysback':12})\n",
    "    parser.add_argument('--useproxy', type=bool, default=False)\n",
    "    parser.add_argument('--usesocks', type=bool, default=False)\n",
    "    # pass proxy to selenium driver\n",
    "    parser.add_argument('--proxylst', nargs='+', default=ProxyGet().get_random_proxy()[1]) \n",
    "    # pass proxy to request.get() method\n",
    "    parser.add_argument('--proxyDict', type=dict, default=ProxyGet().get_random_proxy()[0]) \n",
    "    parser.add_argument('--takescreenshot', type=bool, default=False)\n",
    "    # parse mobile=>True/web=>False version of Avito\n",
    "    parser.add_argument('--parsemobile', type=bool, default=True)\n",
    "    # run bot in parallel mode\n",
    "    parser.add_argument('--runparallel', type=bool, default=True) \n",
    "\n",
    "# work-around for Jupyter notebook and IPython console\n",
    "argv = [] if is_interactive() else sys.argv[1:]\n",
    "args = parser.parse_args(argv)    "
   ]
  },
  {
   "cell_type": "code",
   "execution_count": 16,
   "metadata": {},
   "outputs": [],
   "source": []
  },
  {
   "cell_type": "markdown",
   "metadata": {},
   "source": [
    "## Instantiane child of AvitoBot class"
   ]
  },
  {
   "cell_type": "code",
   "execution_count": 6,
   "metadata": {
    "scrolled": false
   },
   "outputs": [],
   "source": [
    "for i in range(150):\n",
    "    args.proxylst  = ProxyGet().get_random_proxy()[1]\n",
    "    args.proxyDict = ProxyGet().get_random_proxy()[0]\n",
    "bot = AvitoBot(args)"
   ]
  },
  {
   "cell_type": "code",
   "execution_count": 8,
   "metadata": {
    "scrolled": false
   },
   "outputs": [],
   "source": [
    "# bot.driver.get('https://www.whatsmyip.org/')"
   ]
  },
  {
   "cell_type": "code",
   "execution_count": null,
   "metadata": {
    "scrolled": true
   },
   "outputs": [],
   "source": [
    "# ProxyGet().collect_proxies()\n",
    "bot.collect_proxies()"
   ]
  },
  {
   "cell_type": "code",
   "execution_count": 18,
   "metadata": {
    "scrolled": true
   },
   "outputs": [
    {
     "name": "stdout",
     "output_type": "stream",
     "text": [
      "instantiated object has been deleted\n"
     ]
    }
   ],
   "source": [
    "del bot"
   ]
  },
  {
   "cell_type": "markdown",
   "metadata": {},
   "source": [
    "### Grab number of pages to be parsed and find all advs links on each page "
   ]
  },
  {
   "cell_type": "code",
   "execution_count": null,
   "metadata": {
    "scrolled": false
   },
   "outputs": [],
   "source": [
    "outjson = []\n",
    "offset = 1000\n",
    "prices = [(max(int(i*offset),1),int((i+1)*offset)) for i in range(20)]\n",
    "for items in prices:\n",
    "    pricemin, pricemax = items\n",
    "    print(pricemin, pricemax)\n",
    "    res = bot.advert_collect_by_pages(args.url, pricemax, pricemin)\n",
    "    if res is not None:\n",
    "        outjson.append(res)"
   ]
  },
  {
   "cell_type": "code",
   "execution_count": 22,
   "metadata": {
    "scrolled": true
   },
   "outputs": [
    {
     "data": {
      "text/plain": [
       "1322"
      ]
     },
     "execution_count": 22,
     "metadata": {},
     "output_type": "execute_result"
    }
   ],
   "source": [
    "__len=0\n",
    "for item in outjson:\n",
    "    for k,v in item.items():\n",
    "        __len+=len(item[k])\n",
    "__len"
   ]
  },
  {
   "cell_type": "markdown",
   "metadata": {},
   "source": [
    "### Save json file with information about avito advs and relevant links for future parsing"
   ]
  },
  {
   "cell_type": "code",
   "execution_count": 10,
   "metadata": {},
   "outputs": [
    {
     "data": {
      "text/plain": [
       "['C:\\\\Users\\\\anthony\\\\Documents\\\\Python Scripts\\\\avito_parse\\\\avito_links_all_moskovskaya_oblast_kvartiry_agentstva.json']"
      ]
     },
     "execution_count": 10,
     "metadata": {},
     "output_type": "execute_result"
    }
   ],
   "source": [
    "joblib.dump(outjson,Path.joinpath(Path(os.getcwd()), 'avito_links_all_moskovskaya_oblast_kvartiry_agentstva.json'))"
   ]
  },
  {
   "cell_type": "markdown",
   "metadata": {},
   "source": [
    "### Load previously saved json file "
   ]
  },
  {
   "cell_type": "code",
   "execution_count": 9,
   "metadata": {},
   "outputs": [],
   "source": [
    "outjson_obsol = joblib.load(Path.joinpath(Path(os.getcwd()), 'avito_links_all_sankt-peterburg_kvartiry_sobstvennik.json'))"
   ]
  },
  {
   "cell_type": "code",
   "execution_count": 10,
   "metadata": {},
   "outputs": [],
   "source": [
    "outjson = outjson_obsol"
   ]
  },
  {
   "cell_type": "markdown",
   "metadata": {},
   "source": [
    "### Check for obsolete posts and add new adverts into collection"
   ]
  },
  {
   "cell_type": "code",
   "execution_count": 23,
   "metadata": {},
   "outputs": [],
   "source": [
    "# def find_new_advs(old_json,new_json):\n",
    "#     newdct=OrderedDict()\n",
    "#     for p,advs in new_json.items():\n",
    "#         for adv in advs:\n",
    "#             for __p,__advs in old_json.items():\n",
    "#                 for __adv in __advs:\n",
    "#                     if adv['href']!=__adv['href']:\n",
    "#                         newdct.update(adv)\n",
    "#     return newdct"
   ]
  },
  {
   "cell_type": "code",
   "execution_count": 24,
   "metadata": {},
   "outputs": [],
   "source": [
    "# newadvs = find_new_advs(outjson_obsol,outjson)"
   ]
  },
  {
   "cell_type": "markdown",
   "metadata": {},
   "source": [
    "### Convert collected links into mobile-like format if we're going to parse mobile version of Avito.ru"
   ]
  },
  {
   "cell_type": "code",
   "execution_count": 23,
   "metadata": {
    "scrolled": true
   },
   "outputs": [
    {
     "data": {
      "application/vnd.jupyter.widget-view+json": {
       "model_id": "1b0827719e3a4adca5dd2aff4f9506c7",
       "version_major": 2,
       "version_minor": 0
      },
      "text/plain": [
       "HBox(children=(IntProgress(value=0, max=44), HTML(value='')))"
      ]
     },
     "metadata": {},
     "output_type": "display_data"
    },
    {
     "name": "stdout",
     "output_type": "stream",
     "text": [
      "\n"
     ]
    },
    {
     "data": {
      "application/vnd.jupyter.widget-view+json": {
       "model_id": "5e68c8a1c5384771b38bc9422835d567",
       "version_major": 2,
       "version_minor": 0
      },
      "text/plain": [
       "HBox(children=(IntProgress(value=0, max=2), HTML(value='')))"
      ]
     },
     "metadata": {},
     "output_type": "display_data"
    },
    {
     "name": "stdout",
     "output_type": "stream",
     "text": [
      "\n"
     ]
    },
    {
     "data": {
      "application/vnd.jupyter.widget-view+json": {
       "model_id": "e95c92a9840a41d195ef9bf2137bed3e",
       "version_major": 2,
       "version_minor": 0
      },
      "text/plain": [
       "HBox(children=(IntProgress(value=0, max=1), HTML(value='')))"
      ]
     },
     "metadata": {},
     "output_type": "display_data"
    },
    {
     "name": "stdout",
     "output_type": "stream",
     "text": [
      "\n"
     ]
    },
    {
     "data": {
      "application/vnd.jupyter.widget-view+json": {
       "model_id": "09f41857613f4ad59a922924080b23a5",
       "version_major": 2,
       "version_minor": 0
      },
      "text/plain": [
       "HBox(children=(IntProgress(value=1, bar_style='info', max=1), HTML(value='')))"
      ]
     },
     "metadata": {},
     "output_type": "display_data"
    },
    {
     "name": "stdout",
     "output_type": "stream",
     "text": [
      "\n"
     ]
    }
   ],
   "source": [
    "import re\n",
    "\n",
    "# outjson = outjson_obsol\n",
    "for item in outjson:\n",
    "    for p,v in tqdm_notebook(item.items()):\n",
    "        for adv in v:\n",
    "            adv['href']=re.sub('www','m',adv['href'])"
   ]
  },
  {
   "cell_type": "markdown",
   "metadata": {},
   "source": [
    "#### Make some tests"
   ]
  },
  {
   "cell_type": "code",
   "execution_count": null,
   "metadata": {
    "scrolled": true
   },
   "outputs": [],
   "source": [
    "url='https://m.avito.ru/moskva/kvartiry/1-k_kvartira_34_m_99_et._1692963175'\n",
    "for k,v in outjson.items():\n",
    "    for adv in v:\n",
    "        if adv['href']==url:\n",
    "            res= [adv]\n",
    "            break\n",
    "    break\n",
    "res"
   ]
  },
  {
   "cell_type": "code",
   "execution_count": null,
   "metadata": {
    "scrolled": true
   },
   "outputs": [],
   "source": [
    "bot.navigate(res)"
   ]
  },
  {
   "cell_type": "code",
   "execution_count": 4,
   "metadata": {
    "scrolled": true
   },
   "outputs": [
    {
     "name": "stderr",
     "output_type": "stream",
     "text": [
      "C:\\Users\\anthony\\Documents\\Python Scripts\\avito_parse\\src\\pars_tools.py:102: DeprecationWarning: use options instead of chrome_options\n",
      "  desired_capabilities=capabilities)\n"
     ]
    }
   ],
   "source": [
    "bot = AvitoBot(args)"
   ]
  },
  {
   "cell_type": "code",
   "execution_count": 6,
   "metadata": {},
   "outputs": [
    {
     "data": {
      "text/plain": [
       "'.#Компания#На Авито с октября 2013'"
      ]
     },
     "execution_count": 6,
     "metadata": {},
     "output_type": "execute_result"
    }
   ],
   "source": [
    "bot.find_user_info('https://m.avito.ru/odintsovo/kvartiry/studiya_42_m_722_et._1642440591')"
   ]
  },
  {
   "cell_type": "code",
   "execution_count": 17,
   "metadata": {},
   "outputs": [
    {
     "data": {
      "text/plain": [
       "'ул Белорусская'"
      ]
     },
     "execution_count": 17,
     "metadata": {},
     "output_type": "execute_result"
    }
   ],
   "source": [
    "bot.find_location_info(outjson[0][1][0]['href'])"
   ]
  },
  {
   "cell_type": "markdown",
   "metadata": {},
   "source": [
    "## Run parsing without parallelization"
   ]
  },
  {
   "cell_type": "code",
   "execution_count": null,
   "metadata": {
    "scrolled": false
   },
   "outputs": [],
   "source": [
    "outjson[0][1]"
   ]
  },
  {
   "cell_type": "code",
   "execution_count": 9,
   "metadata": {},
   "outputs": [],
   "source": [
    "parsedpages = [[(k,v) for k,v in item.items()] for item in outjson if len(item)!=0]"
   ]
  },
  {
   "cell_type": "code",
   "execution_count": 10,
   "metadata": {},
   "outputs": [
    {
     "data": {
      "text/plain": [
       "19"
      ]
     },
     "execution_count": 10,
     "metadata": {},
     "output_type": "execute_result"
    }
   ],
   "source": [
    "len(parsedpages)"
   ]
  },
  {
   "cell_type": "code",
   "execution_count": null,
   "metadata": {
    "scrolled": false
   },
   "outputs": [],
   "source": [
    "#total_pages = len(outjson)\n",
    "# for page in tqdm_notebook(range(1,total_pages)):\n",
    "for batches in parsedpages:\n",
    "    for page in tqdm_notebook(batches): \n",
    "        try:\n",
    "            args.proxylst  = ProxyGet().get_random_proxy()[1]\n",
    "            args.proxyDict = ProxyGet().get_random_proxy()[0]\n",
    "            bot = AvitoBot(args)             \n",
    "            res = bot.navigate(page[1])\n",
    "        except:\n",
    "            bot.closedriver()\n",
    "            bot.restartdriver()\n",
    "            res = bot.navigate(page[1])\n",
    "        del bot"
   ]
  },
  {
   "cell_type": "code",
   "execution_count": null,
   "metadata": {},
   "outputs": [],
   "source": []
  },
  {
   "cell_type": "markdown",
   "metadata": {},
   "source": [
    "## Run parsing with parallelization"
   ]
  },
  {
   "cell_type": "code",
   "execution_count": 24,
   "metadata": {},
   "outputs": [],
   "source": [
    "parsedpages = [[(k,v) for k,v in item.items()] for item in outjson if len(item)!=0]"
   ]
  },
  {
   "cell_type": "code",
   "execution_count": 10,
   "metadata": {},
   "outputs": [],
   "source": [
    "# num_partitions = 10 #number of partitions to split dataframe\n",
    "# num_cores = 4 #number of cores on your machine"
   ]
  },
  {
   "cell_type": "code",
   "execution_count": 22,
   "metadata": {
    "scrolled": true
   },
   "outputs": [],
   "source": [
    "# def parse_page(pagesarr):\n",
    "#     collectres = []\n",
    "#     for page in tqdm_notebook(range(1,len(pagesarr)+1)):\n",
    "#         try:\n",
    "#             res = bot.navigate(pagesarr[page][1])\n",
    "#         except:\n",
    "#             bot.closedriver()\n",
    "#             bot.restartdriver()\n",
    "#             res = bot.navigate(pagesarr[page][1])\n",
    "#         collectres+=res        \n",
    "#     return collectres"
   ]
  },
  {
   "cell_type": "code",
   "execution_count": 11,
   "metadata": {},
   "outputs": [],
   "source": [
    "# def parallelize_dataframe(df, func=parse_page):\n",
    "#     df_split = np.array_split(df, num_partitions)\n",
    "#     pool = Pool(num_cores)\n",
    "#     df = pd.concat(pool.map(func, df_split))\n",
    "#     pool.close()\n",
    "#     pool.join()  \n",
    "#     return df"
   ]
  },
  {
   "cell_type": "code",
   "execution_count": null,
   "metadata": {},
   "outputs": [],
   "source": [
    "# df = parallelize_dataframe(parsedpages)"
   ]
  },
  {
   "cell_type": "markdown",
   "metadata": {},
   "source": [
    "### Use Parallel with map-delayed"
   ]
  },
  {
   "cell_type": "code",
   "execution_count": 25,
   "metadata": {},
   "outputs": [],
   "source": [
    "from multiprocessing import Process, JoinableQueue\n",
    "from queue import Queue\n",
    "from threading import Thread\n",
    "from joblib import Parallel, delayed\n",
    "import time\n",
    "import json"
   ]
  },
  {
   "cell_type": "code",
   "execution_count": 26,
   "metadata": {},
   "outputs": [],
   "source": [
    "def saver(q,category):\n",
    "    file_path      = Path.joinpath(Path(os.getcwd()), 'csv','avito_db_{}.csv'.format(category))\n",
    "    file_path_pgs  = Path.joinpath(Path(os.getcwd()), 'csv','parsed_pages.dat')\n",
    "    if category == 'nedvizhimost': \n",
    "        headers = ['href', 'title', 'full_text', 'phone', 'region', 'city', 'real_estate', 'type', 'marketplace']\n",
    "    elif category == 'predlozheniya_uslug': \n",
    "        headers = ['href', 'title', 'full_text', 'phone', 'region', 'city', 'uslugi', 'type', 'marketplace']\n",
    "    #if not os.path.isfile(str(file_path)):\n",
    "    with open(file_path, 'a', encoding='utf8') as outcsv:\n",
    "        writer = csv.writer(outcsv, delimiter=',', quotechar='\"', \n",
    "                            quoting=csv.QUOTE_MINIMAL, lineterminator='\\n')\n",
    "#         writer.writerow(['href', 'title', 'full_text', 'phonestr', 'loctext', 'sellerinfo']) \n",
    "#         if not os.path.isfile(str(file_spath)):\n",
    "#             writer.writerow(headers)\n",
    "        file_is_empty = os.stat(str(file_path)).st_size == 0\n",
    "        if file_is_empty:\n",
    "            writer.writerow(headers)     \n",
    "        while True:\n",
    "            strfrom_q = q.get()\n",
    "            if strfrom_q is None: break\n",
    "            indx_batch, page, arrstr = strfrom_q.split('&&&')\n",
    "            val = json.loads(arrstr)                    \n",
    "            for item in val:\n",
    "                writer.writerow(item)                    \n",
    "            with open(file_path_pgs, 'a', encoding='utf8') as f:\n",
    "                f.write(indx_batch + ',' + page + '\\n')                \n",
    "            q.task_done()\n",
    "        # Finish up\n",
    "        q.task_done()      "
   ]
  },
  {
   "cell_type": "code",
   "execution_count": null,
   "metadata": {
    "scrolled": false
   },
   "outputs": [],
   "source": [
    "# for item in parsedpages:\n",
    "#     for page in item:  \n",
    "#         print(page[1])\n",
    "#         break"
   ]
  },
  {
   "cell_type": "code",
   "execution_count": 27,
   "metadata": {},
   "outputs": [],
   "source": [
    "def parse_page(q, indx_batch, pagesarr):\n",
    "    #q,pagesarr = arg\n",
    "    #collectres = []\n",
    "    #parsedpages[0][0][1]\n",
    "    for page in pagesarr:  \n",
    "#         print('page num#{}'.format(page))\n",
    "        for i in range(20):\n",
    "            args.proxylst  = ProxyGet().get_random_proxy()[1]\n",
    "            args.proxyDict = ProxyGet().get_random_proxy()[0]\n",
    "        bot = AvitoBot(args)             \n",
    "        res = bot.navigate(page[1])\n",
    "        restr = json.dumps(res)\n",
    "        q.put(str(indx_batch) + '&&&' + str(page[0]) + '&&&' + restr)\n",
    "        del bot\n",
    "    #return collectres"
   ]
  },
  {
   "cell_type": "code",
   "execution_count": 15,
   "metadata": {},
   "outputs": [],
   "source": [
    "# num_partitions=4\n",
    "# df_split = np.array_split(parsedpages, num_partitions)"
   ]
  },
  {
   "cell_type": "markdown",
   "metadata": {},
   "source": [
    "#### Using JoinableQueue with Parallel (not working: problem with pickling some object!!!!)"
   ]
  },
  {
   "cell_type": "code",
   "execution_count": null,
   "metadata": {
    "scrolled": false
   },
   "outputs": [],
   "source": [
    "# q = JoinableQueue()\n",
    "# th = Thread(target=saver, args=(q,))\n",
    "# th.start()\n",
    "# Parallel(n_jobs=4,verbose=1) (map(delayed(parse_page), [(q,part) for part in df_split]))\n",
    "# #Parallel(n_jobs=4,verbose=1) (delayed(parse_page)(q,part) for part in df_split)\n",
    "# q.put(None) # Poison pill\n",
    "# q.join()\n",
    "# th.join()"
   ]
  },
  {
   "cell_type": "markdown",
   "metadata": {},
   "source": [
    "## Using JoinableQueue with Threadings"
   ]
  },
  {
   "cell_type": "markdown",
   "metadata": {},
   "source": [
    "### Shared queue with automated Threads initialization "
   ]
  },
  {
   "cell_type": "code",
   "execution_count": 30,
   "metadata": {},
   "outputs": [
    {
     "data": {
      "text/plain": [
       "[array([0, 1, 2])]"
      ]
     },
     "execution_count": 30,
     "metadata": {},
     "output_type": "execute_result"
    }
   ],
   "source": [
    "arr = np.arange(len(parsedpages))\n",
    "num_partitions=1\n",
    "batches = np.array_split(arr, num_partitions)\n",
    "batches"
   ]
  },
  {
   "cell_type": "code",
   "execution_count": 27,
   "metadata": {
    "scrolled": true
   },
   "outputs": [],
   "source": [
    "for i in range(6,-1,-1):\n",
    "    parsedpages[0].pop(i) "
   ]
  },
  {
   "cell_type": "code",
   "execution_count": null,
   "metadata": {
    "scrolled": false
   },
   "outputs": [],
   "source": [
    "parsedpages[1][0]"
   ]
  },
  {
   "cell_type": "code",
   "execution_count": 31,
   "metadata": {
    "scrolled": true
   },
   "outputs": [
    {
     "data": {
      "application/vnd.jupyter.widget-view+json": {
       "model_id": "a4810744ebd1459f9b7c63fe5a6db8d3",
       "version_major": 2,
       "version_minor": 0
      },
      "text/plain": [
       "HBox(children=(IntProgress(value=0, max=1), HTML(value='')))"
      ]
     },
     "metadata": {},
     "output_type": "display_data"
    },
    {
     "name": "stdout",
     "output_type": "stream",
     "text": [
      "Start: Fri Mar 22 16:04:18 2019\n"
     ]
    },
    {
     "data": {
      "application/vnd.jupyter.widget-view+json": {
       "model_id": "40f1caa99eee47fba542dccd9c12804c",
       "version_major": 2,
       "version_minor": 0
      },
      "text/plain": [
       "HBox(children=(IntProgress(value=0, max=53), HTML(value='')))"
      ]
     },
     "metadata": {},
     "output_type": "display_data"
    },
    {
     "data": {
      "application/vnd.jupyter.widget-view+json": {
       "model_id": "0eae938dda344713a2ac19a1afe2234e",
       "version_major": 2,
       "version_minor": 0
      },
      "text/plain": [
       "HBox(children=(IntProgress(value=0, max=46), HTML(value='')))"
      ]
     },
     "metadata": {},
     "output_type": "display_data"
    },
    {
     "data": {
      "application/vnd.jupyter.widget-view+json": {
       "model_id": "8cae1c9dcde64388a203a6ac4232ee88",
       "version_major": 2,
       "version_minor": 0
      },
      "text/plain": [
       "HBox(children=(IntProgress(value=0, max=1), HTML(value='')))"
      ]
     },
     "metadata": {},
     "output_type": "display_data"
    },
    {
     "name": "stdout",
     "output_type": "stream",
     "text": [
      "instantiated object has been deleted\n",
      "instantiated object has been deleted\n"
     ]
    },
    {
     "data": {
      "application/vnd.jupyter.widget-view+json": {
       "model_id": "733e34488ec14804a989aa69acb44104",
       "version_major": 2,
       "version_minor": 0
      },
      "text/plain": [
       "HBox(children=(IntProgress(value=0, max=1), HTML(value='')))"
      ]
     },
     "metadata": {},
     "output_type": "display_data"
    },
    {
     "name": "stdout",
     "output_type": "stream",
     "text": [
      "instantiated object has been deleted\n",
      "instantiated object has been deleted\n"
     ]
    },
    {
     "data": {
      "application/vnd.jupyter.widget-view+json": {
       "model_id": "01a2762f63c24a6b8842e61c05f782ae",
       "version_major": 2,
       "version_minor": 0
      },
      "text/plain": [
       "HBox(children=(IntProgress(value=0, max=55), HTML(value='')))"
      ]
     },
     "metadata": {},
     "output_type": "display_data"
    },
    {
     "name": "stdout",
     "output_type": "stream",
     "text": [
      "instantiated object has been deleted\n"
     ]
    },
    {
     "data": {
      "application/vnd.jupyter.widget-view+json": {
       "model_id": "d696154cfe2f44a6b4ec29c52437a14f",
       "version_major": 2,
       "version_minor": 0
      },
      "text/plain": [
       "HBox(children=(IntProgress(value=0, max=55), HTML(value='')))"
      ]
     },
     "metadata": {},
     "output_type": "display_data"
    },
    {
     "name": "stdout",
     "output_type": "stream",
     "text": [
      "Ой! Такой страницы нет :(\n",
      "got some unprocessed pages...\n",
      "page: https://m.avito.ru/pavlovskaya_sloboda/komnaty/komnata_10_m_v_2-k_35_et._896880127\n",
      "instantiated object has been deleted\n"
     ]
    },
    {
     "data": {
      "application/vnd.jupyter.widget-view+json": {
       "model_id": "5966e229b0fd42ca95d4cdb2e5d6428f",
       "version_major": 2,
       "version_minor": 0
      },
      "text/plain": [
       "HBox(children=(IntProgress(value=0, max=56), HTML(value='')))"
      ]
     },
     "metadata": {},
     "output_type": "display_data"
    },
    {
     "name": "stdout",
     "output_type": "stream",
     "text": [
      "instantiated object has been deleted\n"
     ]
    },
    {
     "data": {
      "application/vnd.jupyter.widget-view+json": {
       "model_id": "dadbcc80c74b4eb7a83750c78e910afb",
       "version_major": 2,
       "version_minor": 0
      },
      "text/plain": [
       "HBox(children=(IntProgress(value=0, max=53), HTML(value='')))"
      ]
     },
     "metadata": {},
     "output_type": "display_data"
    },
    {
     "name": "stdout",
     "output_type": "stream",
     "text": [
      "instantiated object has been deleted\n"
     ]
    },
    {
     "data": {
      "application/vnd.jupyter.widget-view+json": {
       "model_id": "4c584deefcb648f09a30e0613beea6d4",
       "version_major": 2,
       "version_minor": 0
      },
      "text/plain": [
       "HBox(children=(IntProgress(value=0, max=52), HTML(value='')))"
      ]
     },
     "metadata": {},
     "output_type": "display_data"
    },
    {
     "name": "stdout",
     "output_type": "stream",
     "text": [
      "instantiated object has been deleted\n"
     ]
    },
    {
     "data": {
      "application/vnd.jupyter.widget-view+json": {
       "model_id": "72276faa64044cbeb8a06d2274305529",
       "version_major": 2,
       "version_minor": 0
      },
      "text/plain": [
       "HBox(children=(IntProgress(value=0, max=52), HTML(value='')))"
      ]
     },
     "metadata": {},
     "output_type": "display_data"
    },
    {
     "name": "stdout",
     "output_type": "stream",
     "text": [
      "instantiated object has been deleted\n"
     ]
    },
    {
     "data": {
      "application/vnd.jupyter.widget-view+json": {
       "model_id": "992564b6010946c2b189eb5a94ce8f58",
       "version_major": 2,
       "version_minor": 0
      },
      "text/plain": [
       "HBox(children=(IntProgress(value=0, max=52), HTML(value='')))"
      ]
     },
     "metadata": {},
     "output_type": "display_data"
    },
    {
     "name": "stdout",
     "output_type": "stream",
     "text": [
      "instantiated object has been deleted\n"
     ]
    },
    {
     "data": {
      "application/vnd.jupyter.widget-view+json": {
       "model_id": "e2977cf8bac548148821fa1ba52ce49f",
       "version_major": 2,
       "version_minor": 0
      },
      "text/plain": [
       "HBox(children=(IntProgress(value=0, max=52), HTML(value='')))"
      ]
     },
     "metadata": {},
     "output_type": "display_data"
    },
    {
     "name": "stdout",
     "output_type": "stream",
     "text": [
      "instantiated object has been deleted\n"
     ]
    },
    {
     "data": {
      "application/vnd.jupyter.widget-view+json": {
       "model_id": "0e9a662dfd314eb7b3e39f81009cd1ef",
       "version_major": 2,
       "version_minor": 0
      },
      "text/plain": [
       "HBox(children=(IntProgress(value=0, max=52), HTML(value='')))"
      ]
     },
     "metadata": {},
     "output_type": "display_data"
    },
    {
     "name": "stdout",
     "output_type": "stream",
     "text": [
      "instantiated object has been deleted\n"
     ]
    },
    {
     "data": {
      "application/vnd.jupyter.widget-view+json": {
       "model_id": "a1254c20ea0540e28d0c5267d98177c6",
       "version_major": 2,
       "version_minor": 0
      },
      "text/plain": [
       "HBox(children=(IntProgress(value=0, max=52), HTML(value='')))"
      ]
     },
     "metadata": {},
     "output_type": "display_data"
    },
    {
     "name": "stdout",
     "output_type": "stream",
     "text": [
      "instantiated object has been deleted\n"
     ]
    },
    {
     "data": {
      "application/vnd.jupyter.widget-view+json": {
       "model_id": "c0dc157c4817497e8da313b1709671ba",
       "version_major": 2,
       "version_minor": 0
      },
      "text/plain": [
       "HBox(children=(IntProgress(value=0, max=52), HTML(value='')))"
      ]
     },
     "metadata": {},
     "output_type": "display_data"
    },
    {
     "name": "stdout",
     "output_type": "stream",
     "text": [
      "instantiated object has been deleted\n"
     ]
    },
    {
     "data": {
      "application/vnd.jupyter.widget-view+json": {
       "model_id": "c3a0169a25d4459394f5da8764bb2cb2",
       "version_major": 2,
       "version_minor": 0
      },
      "text/plain": [
       "HBox(children=(IntProgress(value=0, max=52), HTML(value='')))"
      ]
     },
     "metadata": {},
     "output_type": "display_data"
    },
    {
     "name": "stdout",
     "output_type": "stream",
     "text": [
      "instantiated object has been deleted\n"
     ]
    },
    {
     "data": {
      "application/vnd.jupyter.widget-view+json": {
       "model_id": "1559a839eb224c7fb31bfed50a33e0e6",
       "version_major": 2,
       "version_minor": 0
      },
      "text/plain": [
       "HBox(children=(IntProgress(value=0, max=52), HTML(value='')))"
      ]
     },
     "metadata": {},
     "output_type": "display_data"
    },
    {
     "name": "stdout",
     "output_type": "stream",
     "text": [
      "instantiated object has been deleted\n"
     ]
    },
    {
     "data": {
      "application/vnd.jupyter.widget-view+json": {
       "model_id": "d85f354bb69b4f92bce4842e6df135e8",
       "version_major": 2,
       "version_minor": 0
      },
      "text/plain": [
       "HBox(children=(IntProgress(value=0, max=52), HTML(value='')))"
      ]
     },
     "metadata": {},
     "output_type": "display_data"
    },
    {
     "name": "stdout",
     "output_type": "stream",
     "text": [
      "instantiated object has been deleted\n"
     ]
    },
    {
     "data": {
      "application/vnd.jupyter.widget-view+json": {
       "model_id": "f3fecfc0b26e476997f6af75af2ce0f9",
       "version_major": 2,
       "version_minor": 0
      },
      "text/plain": [
       "HBox(children=(IntProgress(value=0, max=52), HTML(value='')))"
      ]
     },
     "metadata": {},
     "output_type": "display_data"
    },
    {
     "name": "stdout",
     "output_type": "stream",
     "text": [
      "Ой! Такой страницы нет :(\n",
      "got some unprocessed pages...\n",
      "page: https://m.avito.ru/schelkovo/komnaty/komnata_17_m_v_2-k_39_et._1435432524\n",
      "instantiated object has been deleted\n"
     ]
    },
    {
     "data": {
      "application/vnd.jupyter.widget-view+json": {
       "model_id": "be6711087b0b4736b00cfc9c4aaa919d",
       "version_major": 2,
       "version_minor": 0
      },
      "text/plain": [
       "HBox(children=(IntProgress(value=0, max=52), HTML(value='')))"
      ]
     },
     "metadata": {},
     "output_type": "display_data"
    },
    {
     "name": "stdout",
     "output_type": "stream",
     "text": [
      "instantiated object has been deleted\n"
     ]
    },
    {
     "data": {
      "application/vnd.jupyter.widget-view+json": {
       "model_id": "ed32e55877814b60901ce8a384e4c8d2",
       "version_major": 2,
       "version_minor": 0
      },
      "text/plain": [
       "HBox(children=(IntProgress(value=0, max=52), HTML(value='')))"
      ]
     },
     "metadata": {},
     "output_type": "display_data"
    },
    {
     "name": "stdout",
     "output_type": "stream",
     "text": [
      "Ой! Такой страницы нет :(\n",
      "got some unprocessed pages...\n",
      "page: https://m.avito.ru/moskovskaya_oblast_ivanteevka/komnaty/komnata_12_m_v_1-k_34_et._1044402150\n",
      "instantiated object has been deleted\n"
     ]
    },
    {
     "data": {
      "application/vnd.jupyter.widget-view+json": {
       "model_id": "6cd88398e7d343c9a951fd41428c7914",
       "version_major": 2,
       "version_minor": 0
      },
      "text/plain": [
       "HBox(children=(IntProgress(value=0, max=52), HTML(value='')))"
      ]
     },
     "metadata": {},
     "output_type": "display_data"
    },
    {
     "name": "stdout",
     "output_type": "stream",
     "text": [
      "instantiated object has been deleted\n"
     ]
    },
    {
     "data": {
      "application/vnd.jupyter.widget-view+json": {
       "model_id": "01576907924d4f969beba17ba7ef0add",
       "version_major": 2,
       "version_minor": 0
      },
      "text/plain": [
       "HBox(children=(IntProgress(value=0, max=52), HTML(value='')))"
      ]
     },
     "metadata": {},
     "output_type": "display_data"
    },
    {
     "name": "stdout",
     "output_type": "stream",
     "text": [
      "instantiated object has been deleted\n"
     ]
    },
    {
     "data": {
      "application/vnd.jupyter.widget-view+json": {
       "model_id": "edb1c3ae5be8406b9e044b9cba875c62",
       "version_major": 2,
       "version_minor": 0
      },
      "text/plain": [
       "HBox(children=(IntProgress(value=0, max=52), HTML(value='')))"
      ]
     },
     "metadata": {},
     "output_type": "display_data"
    },
    {
     "name": "stdout",
     "output_type": "stream",
     "text": [
      "Ой! Такой страницы нет :(\n",
      "got some unprocessed pages...\n",
      "page: https://m.avito.ru/domodedovo/komnaty/komnata_20_m_v_3-k_1212_et._1454220814\n",
      "instantiated object has been deleted\n"
     ]
    },
    {
     "data": {
      "application/vnd.jupyter.widget-view+json": {
       "model_id": "7e7ac18ed331447f8948aa6a6b52dc42",
       "version_major": 2,
       "version_minor": 0
      },
      "text/plain": [
       "HBox(children=(IntProgress(value=0, max=52), HTML(value='')))"
      ]
     },
     "metadata": {},
     "output_type": "display_data"
    },
    {
     "name": "stdout",
     "output_type": "stream",
     "text": [
      "instantiated object has been deleted\n"
     ]
    },
    {
     "data": {
      "application/vnd.jupyter.widget-view+json": {
       "model_id": "bcc0b732a78343ce8846272fa52099bd",
       "version_major": 2,
       "version_minor": 0
      },
      "text/plain": [
       "HBox(children=(IntProgress(value=0, max=52), HTML(value='')))"
      ]
     },
     "metadata": {},
     "output_type": "display_data"
    },
    {
     "name": "stdout",
     "output_type": "stream",
     "text": [
      "instantiated object has been deleted\n"
     ]
    },
    {
     "data": {
      "application/vnd.jupyter.widget-view+json": {
       "model_id": "460b6067278f41a39322e0a4c2b128cb",
       "version_major": 2,
       "version_minor": 0
      },
      "text/plain": [
       "HBox(children=(IntProgress(value=0, max=26), HTML(value='')))"
      ]
     },
     "metadata": {},
     "output_type": "display_data"
    },
    {
     "name": "stdout",
     "output_type": "stream",
     "text": [
      "instantiated object has been deleted\n"
     ]
    },
    {
     "data": {
      "application/vnd.jupyter.widget-view+json": {
       "model_id": "d74c321e4c9d4bbfa01d6b71a1b327bd",
       "version_major": 2,
       "version_minor": 0
      },
      "text/plain": [
       "HBox(children=(IntProgress(value=0, max=2), HTML(value='')))"
      ]
     },
     "metadata": {},
     "output_type": "display_data"
    },
    {
     "name": "stdout",
     "output_type": "stream",
     "text": [
      "instantiated object has been deleted\n"
     ]
    },
    {
     "data": {
      "application/vnd.jupyter.widget-view+json": {
       "model_id": "1817bc9c1bb244109f60d1bbab5b22f1",
       "version_major": 2,
       "version_minor": 0
      },
      "text/plain": [
       "HBox(children=(IntProgress(value=0, max=2), HTML(value='')))"
      ]
     },
     "metadata": {},
     "output_type": "display_data"
    },
    {
     "name": "stdout",
     "output_type": "stream",
     "text": [
      "instantiated object has been deleted\n"
     ]
    },
    {
     "data": {
      "application/vnd.jupyter.widget-view+json": {
       "model_id": "223c9eee37c2466381cc2d14280f739e",
       "version_major": 2,
       "version_minor": 0
      },
      "text/plain": [
       "HBox(children=(IntProgress(value=0, max=2), HTML(value='')))"
      ]
     },
     "metadata": {},
     "output_type": "display_data"
    },
    {
     "name": "stdout",
     "output_type": "stream",
     "text": [
      "instantiated object has been deleted\n"
     ]
    },
    {
     "data": {
      "application/vnd.jupyter.widget-view+json": {
       "model_id": "611c8f995a7b4c82a30817eb1567f95a",
       "version_major": 2,
       "version_minor": 0
      },
      "text/plain": [
       "HBox(children=(IntProgress(value=0, max=2), HTML(value='')))"
      ]
     },
     "metadata": {},
     "output_type": "display_data"
    },
    {
     "name": "stdout",
     "output_type": "stream",
     "text": [
      "instantiated object has been deleted\n"
     ]
    },
    {
     "data": {
      "application/vnd.jupyter.widget-view+json": {
       "model_id": "3c938f7f4e614aadbb4a92b7c669314b",
       "version_major": 2,
       "version_minor": 0
      },
      "text/plain": [
       "HBox(children=(IntProgress(value=0, max=2), HTML(value='')))"
      ]
     },
     "metadata": {},
     "output_type": "display_data"
    },
    {
     "name": "stdout",
     "output_type": "stream",
     "text": [
      "instantiated object has been deleted\n"
     ]
    },
    {
     "data": {
      "application/vnd.jupyter.widget-view+json": {
       "model_id": "a94eda06a0b644baa3c761eef29d8c47",
       "version_major": 2,
       "version_minor": 0
      },
      "text/plain": [
       "HBox(children=(IntProgress(value=0, max=2), HTML(value='')))"
      ]
     },
     "metadata": {},
     "output_type": "display_data"
    },
    {
     "name": "stdout",
     "output_type": "stream",
     "text": [
      "instantiated object has been deleted\n"
     ]
    },
    {
     "data": {
      "application/vnd.jupyter.widget-view+json": {
       "model_id": "4a2c0aaecc5a40caaeda056ff246ce42",
       "version_major": 2,
       "version_minor": 0
      },
      "text/plain": [
       "HBox(children=(IntProgress(value=0, max=2), HTML(value='')))"
      ]
     },
     "metadata": {},
     "output_type": "display_data"
    },
    {
     "name": "stdout",
     "output_type": "stream",
     "text": [
      "instantiated object has been deleted\n"
     ]
    },
    {
     "data": {
      "application/vnd.jupyter.widget-view+json": {
       "model_id": "1d46fc166fb64fd398b54ab5ff5ac10a",
       "version_major": 2,
       "version_minor": 0
      },
      "text/plain": [
       "HBox(children=(IntProgress(value=0, max=2), HTML(value='')))"
      ]
     },
     "metadata": {},
     "output_type": "display_data"
    },
    {
     "name": "stdout",
     "output_type": "stream",
     "text": [
      "instantiated object has been deleted\n"
     ]
    },
    {
     "data": {
      "application/vnd.jupyter.widget-view+json": {
       "model_id": "8ddc36eeaad843bea0288c096cbfbf7e",
       "version_major": 2,
       "version_minor": 0
      },
      "text/plain": [
       "HBox(children=(IntProgress(value=0, max=2), HTML(value='')))"
      ]
     },
     "metadata": {},
     "output_type": "display_data"
    },
    {
     "name": "stdout",
     "output_type": "stream",
     "text": [
      "instantiated object has been deleted\n"
     ]
    },
    {
     "data": {
      "application/vnd.jupyter.widget-view+json": {
       "model_id": "67249a2e41814e8abb8fd9d61349be59",
       "version_major": 2,
       "version_minor": 0
      },
      "text/plain": [
       "HBox(children=(IntProgress(value=0, max=2), HTML(value='')))"
      ]
     },
     "metadata": {},
     "output_type": "display_data"
    },
    {
     "name": "stdout",
     "output_type": "stream",
     "text": [
      "instantiated object has been deleted\n"
     ]
    },
    {
     "data": {
      "application/vnd.jupyter.widget-view+json": {
       "model_id": "21dd3d2f71484efe8ffe3509b624df22",
       "version_major": 2,
       "version_minor": 0
      },
      "text/plain": [
       "HBox(children=(IntProgress(value=0, max=2), HTML(value='')))"
      ]
     },
     "metadata": {},
     "output_type": "display_data"
    },
    {
     "name": "stdout",
     "output_type": "stream",
     "text": [
      "instantiated object has been deleted\n"
     ]
    },
    {
     "data": {
      "application/vnd.jupyter.widget-view+json": {
       "model_id": "3d6fe66a7d7f431eb58d337254d4b655",
       "version_major": 2,
       "version_minor": 0
      },
      "text/plain": [
       "HBox(children=(IntProgress(value=0, max=2), HTML(value='')))"
      ]
     },
     "metadata": {},
     "output_type": "display_data"
    },
    {
     "name": "stdout",
     "output_type": "stream",
     "text": [
      "instantiated object has been deleted\n"
     ]
    },
    {
     "data": {
      "application/vnd.jupyter.widget-view+json": {
       "model_id": "9634273cfc014ad4bd5d724c12c028e9",
       "version_major": 2,
       "version_minor": 0
      },
      "text/plain": [
       "HBox(children=(IntProgress(value=0, max=2), HTML(value='')))"
      ]
     },
     "metadata": {},
     "output_type": "display_data"
    },
    {
     "name": "stdout",
     "output_type": "stream",
     "text": [
      "instantiated object has been deleted\n"
     ]
    },
    {
     "data": {
      "application/vnd.jupyter.widget-view+json": {
       "model_id": "780ebed183f94549b6fb7a06808b8ebf",
       "version_major": 2,
       "version_minor": 0
      },
      "text/plain": [
       "HBox(children=(IntProgress(value=0, max=2), HTML(value='')))"
      ]
     },
     "metadata": {},
     "output_type": "display_data"
    },
    {
     "name": "stdout",
     "output_type": "stream",
     "text": [
      "instantiated object has been deleted\n"
     ]
    },
    {
     "data": {
      "application/vnd.jupyter.widget-view+json": {
       "model_id": "edfe5027ba134373870f63f39b4417d8",
       "version_major": 2,
       "version_minor": 0
      },
      "text/plain": [
       "HBox(children=(IntProgress(value=0, max=2), HTML(value='')))"
      ]
     },
     "metadata": {},
     "output_type": "display_data"
    },
    {
     "name": "stdout",
     "output_type": "stream",
     "text": [
      "instantiated object has been deleted\n"
     ]
    },
    {
     "data": {
      "application/vnd.jupyter.widget-view+json": {
       "model_id": "39e7b318ce9040d185c85d4e383532a5",
       "version_major": 2,
       "version_minor": 0
      },
      "text/plain": [
       "HBox(children=(IntProgress(value=0, max=2), HTML(value='')))"
      ]
     },
     "metadata": {},
     "output_type": "display_data"
    },
    {
     "name": "stdout",
     "output_type": "stream",
     "text": [
      "instantiated object has been deleted\n"
     ]
    },
    {
     "data": {
      "application/vnd.jupyter.widget-view+json": {
       "model_id": "bd598b57edde40bbbad0c0b5667c8a6f",
       "version_major": 2,
       "version_minor": 0
      },
      "text/plain": [
       "HBox(children=(IntProgress(value=0, max=2), HTML(value='')))"
      ]
     },
     "metadata": {},
     "output_type": "display_data"
    },
    {
     "name": "stdout",
     "output_type": "stream",
     "text": [
      "instantiated object has been deleted\n"
     ]
    },
    {
     "data": {
      "application/vnd.jupyter.widget-view+json": {
       "model_id": "cb828a3c08ce40588bbbc933bf89420c",
       "version_major": 2,
       "version_minor": 0
      },
      "text/plain": [
       "HBox(children=(IntProgress(value=0, max=2), HTML(value='')))"
      ]
     },
     "metadata": {},
     "output_type": "display_data"
    },
    {
     "name": "stdout",
     "output_type": "stream",
     "text": [
      "instantiated object has been deleted\n"
     ]
    },
    {
     "data": {
      "application/vnd.jupyter.widget-view+json": {
       "model_id": "f4ed167a5f7542b2a45a73f14e887b51",
       "version_major": 2,
       "version_minor": 0
      },
      "text/plain": [
       "HBox(children=(IntProgress(value=0, max=2), HTML(value='')))"
      ]
     },
     "metadata": {},
     "output_type": "display_data"
    },
    {
     "name": "stdout",
     "output_type": "stream",
     "text": [
      "instantiated object has been deleted\n"
     ]
    },
    {
     "data": {
      "application/vnd.jupyter.widget-view+json": {
       "model_id": "21e664319fef40adb84bf25aacde5962",
       "version_major": 2,
       "version_minor": 0
      },
      "text/plain": [
       "HBox(children=(IntProgress(value=0, max=2), HTML(value='')))"
      ]
     },
     "metadata": {},
     "output_type": "display_data"
    },
    {
     "name": "stdout",
     "output_type": "stream",
     "text": [
      "instantiated object has been deleted\n",
      "End:   Fri Mar 22 17:20:21 2019\n",
      "\n"
     ]
    }
   ],
   "source": [
    "for indx in tqdm_notebook(batches):\n",
    "    result_queue = JoinableQueue() #Queue()\n",
    "    category=args.category\n",
    "    p = Thread(target=saver, args=(result_queue,category))    \n",
    "    threadlst=[]\n",
    "    p.start()\n",
    "    # We create list of threads and pass shared queue to all of them.\n",
    "    threadlst=[Thread(target=parse_page, args=(result_queue, i, parsedpages[i])) for i in indx]\n",
    "    # Starting threads...\n",
    "    print(\"Start: %s\" % time.ctime())\n",
    "    for th in threadlst:\n",
    "        th.start()\n",
    "    # Waiting for threads to finish execution... \n",
    "    for th in threadlst:\n",
    "        th.join() \n",
    "    print(\"End:   %s\" % time.ctime())\n",
    "\n",
    "    result_queue.put(None) # Poison pill\n",
    "    p.join()          "
   ]
  },
  {
   "cell_type": "markdown",
   "metadata": {},
   "source": [
    "### Shared queue with manual Threads initialization "
   ]
  },
  {
   "cell_type": "code",
   "execution_count": null,
   "metadata": {
    "scrolled": true
   },
   "outputs": [],
   "source": [
    "result_queue = JoinableQueue() #Queue()\n",
    "p = Thread(target=saver, args=(result_queue,))\n",
    "p.start()\n",
    "# We create two threads and pass shared queue to both of them.\n",
    "t0 = Thread(target=parse_page, args=(result_queue, parsedpages[0][:1]))\n",
    "#t1 = Thread(target=parse_page, args=(result_queue, parsedpages[1][:1]))\n",
    "#t2 = Thread(target=parse_page, args=(result_queue, parsedpages[2]))\n",
    "#t3 = Thread(target=parse_page, args=(result_queue, df_split[3]))\n",
    "\n",
    "# Starting threads...\n",
    "print(\"Start: %s\" % time.ctime())\n",
    "t0.start()\n",
    "#t1.start()\n",
    "#t2.start()\n",
    "#t3.start()\n",
    "\n",
    "# Waiting for threads to finish execution...\n",
    "t0.join()\n",
    "#t1.join()\n",
    "#t2.join()\n",
    "#t3.join()\n",
    "print(\"End:   %s\" % time.ctime())\n",
    "\n",
    "# After threads are done, we can read results from the queue.\n",
    "# while not result_queue.empty():\n",
    "#     result = result_queue.get()\n",
    "#     print(result)\n",
    "\n",
    "result_queue.put(None) # Poison pill\n",
    "p.join()  "
   ]
  },
  {
   "cell_type": "code",
   "execution_count": null,
   "metadata": {},
   "outputs": [],
   "source": []
  },
  {
   "cell_type": "markdown",
   "metadata": {},
   "source": [
    "### Read updated csv file into dataframe"
   ]
  },
  {
   "cell_type": "code",
   "execution_count": 27,
   "metadata": {},
   "outputs": [],
   "source": [
    "file_path = Path.joinpath(Path(os.getcwd()), 'csv','avito_db.csv')\n",
    "df = pd.read_csv(file_path, encoding='utf8')"
   ]
  },
  {
   "cell_type": "code",
   "execution_count": 30,
   "metadata": {},
   "outputs": [
    {
     "data": {
      "text/html": [
       "<div>\n",
       "<style scoped>\n",
       "    .dataframe tbody tr th:only-of-type {\n",
       "        vertical-align: middle;\n",
       "    }\n",
       "\n",
       "    .dataframe tbody tr th {\n",
       "        vertical-align: top;\n",
       "    }\n",
       "\n",
       "    .dataframe thead th {\n",
       "        text-align: right;\n",
       "    }\n",
       "</style>\n",
       "<table border=\"1\" class=\"dataframe\">\n",
       "  <thead>\n",
       "    <tr style=\"text-align: right;\">\n",
       "      <th></th>\n",
       "      <th>title</th>\n",
       "      <th>full_text</th>\n",
       "      <th>phone</th>\n",
       "    </tr>\n",
       "  </thead>\n",
       "  <tbody>\n",
       "    <tr>\n",
       "      <th>0</th>\n",
       "      <td>2-к квартира, 47 м², 2/5 эт. в Москве</td>\n",
       "      <td>Уютная 2-комн. квартира. Комнаты изолированные...</td>\n",
       "      <td>+79857252696</td>\n",
       "    </tr>\n",
       "    <tr>\n",
       "      <th>1</th>\n",
       "      <td>1-к квартира, 68 м², 12/17 эт. в Москве</td>\n",
       "      <td>Сдается уютная oднокомнатная квартиpа пoсуточн...</td>\n",
       "      <td>+79258310600</td>\n",
       "    </tr>\n",
       "    <tr>\n",
       "      <th>2</th>\n",
       "      <td>2-к квартира, 52 м², 10/17 эт. в Москве</td>\n",
       "      <td>Звoнить c 10:00 до 23:00!!! Cдаётcя чистая, те...</td>\n",
       "      <td>+79775871165</td>\n",
       "    </tr>\n",
       "    <tr>\n",
       "      <th>3</th>\n",
       "      <td>1-к квартира, 50 м², 2/9 эт. в Москве</td>\n",
       "      <td>Cдaется уютнaя cтудия поcуточно 5 минут метрo ...</td>\n",
       "      <td>+79851851957</td>\n",
       "    </tr>\n",
       "    <tr>\n",
       "      <th>4</th>\n",
       "      <td>2-к квартира, 47 м², 1/9 эт. в Москве</td>\n",
       "      <td>Сдается славянам. Желательно семейной паре. От...</td>\n",
       "      <td>+79857835231</td>\n",
       "    </tr>\n",
       "    <tr>\n",
       "      <th>5</th>\n",
       "      <td>3-к квартира, 78 м², 3/4 эт. в Москве</td>\n",
       "      <td>Уникательный oбъeкт с видом на Mоскву-реку c к...</td>\n",
       "      <td>+79169620635</td>\n",
       "    </tr>\n",
       "    <tr>\n",
       "      <th>6</th>\n",
       "      <td>Студия, 17 м², 1/4 эт. в Москве</td>\n",
       "      <td>1 100</td>\n",
       "      <td>+79266968411</td>\n",
       "    </tr>\n",
       "    <tr>\n",
       "      <th>7</th>\n",
       "      <td>5-к квартира, 115 м², 4/8 эт. в Москве</td>\n",
       "      <td>Kомфортабельная, просторнaя, свeтлая пятикoмнa...</td>\n",
       "      <td>+79851874444</td>\n",
       "    </tr>\n",
       "    <tr>\n",
       "      <th>8</th>\n",
       "      <td>2-к квартира, 70 м², 10/23 эт. в Москве</td>\n",
       "      <td>APЕHДA ОТ CОБСТВEНHИКА B КBАPТИPE-CTУДИИ !!! B...</td>\n",
       "      <td>+79254431544</td>\n",
       "    </tr>\n",
       "    <tr>\n",
       "      <th>9</th>\n",
       "      <td>1-к квартира, 35.5 м², 1/14 эт. в Москве</td>\n",
       "      <td>Сдаётся посутoчно 1-кoмнатная квартиpа в 15 ми...</td>\n",
       "      <td>+79165102348</td>\n",
       "    </tr>\n",
       "  </tbody>\n",
       "</table>\n",
       "</div>"
      ],
      "text/plain": [
       "                                      title  \\\n",
       "0     2-к квартира, 47 м², 2/5 эт. в Москве   \n",
       "1   1-к квартира, 68 м², 12/17 эт. в Москве   \n",
       "2   2-к квартира, 52 м², 10/17 эт. в Москве   \n",
       "3     1-к квартира, 50 м², 2/9 эт. в Москве   \n",
       "4     2-к квартира, 47 м², 1/9 эт. в Москве   \n",
       "5     3-к квартира, 78 м², 3/4 эт. в Москве   \n",
       "6           Студия, 17 м², 1/4 эт. в Москве   \n",
       "7    5-к квартира, 115 м², 4/8 эт. в Москве   \n",
       "8   2-к квартира, 70 м², 10/23 эт. в Москве   \n",
       "9  1-к квартира, 35.5 м², 1/14 эт. в Москве   \n",
       "\n",
       "                                           full_text         phone  \n",
       "0  Уютная 2-комн. квартира. Комнаты изолированные...  +79857252696  \n",
       "1  Сдается уютная oднокомнатная квартиpа пoсуточн...  +79258310600  \n",
       "2  Звoнить c 10:00 до 23:00!!! Cдаётcя чистая, те...  +79775871165  \n",
       "3  Cдaется уютнaя cтудия поcуточно 5 минут метрo ...  +79851851957  \n",
       "4  Сдается славянам. Желательно семейной паре. От...  +79857835231  \n",
       "5  Уникательный oбъeкт с видом на Mоскву-реку c к...  +79169620635  \n",
       "6                                              1 100  +79266968411  \n",
       "7  Kомфортабельная, просторнaя, свeтлая пятикoмнa...  +79851874444  \n",
       "8  APЕHДA ОТ CОБСТВEНHИКА B КBАPТИPE-CTУДИИ !!! B...  +79254431544  \n",
       "9  Сдаётся посутoчно 1-кoмнатная квартиpа в 15 ми...  +79165102348  "
      ]
     },
     "execution_count": 30,
     "metadata": {},
     "output_type": "execute_result"
    }
   ],
   "source": [
    "df.head(10)"
   ]
  },
  {
   "cell_type": "code",
   "execution_count": 29,
   "metadata": {},
   "outputs": [
    {
     "data": {
      "text/plain": [
       "2859"
      ]
     },
     "execution_count": 29,
     "metadata": {},
     "output_type": "execute_result"
    }
   ],
   "source": [
    "len(df)"
   ]
  },
  {
   "cell_type": "code",
   "execution_count": null,
   "metadata": {},
   "outputs": [],
   "source": []
  }
 ],
 "metadata": {
  "kernelspec": {
   "display_name": "Python 3",
   "language": "python",
   "name": "python3"
  },
  "language_info": {
   "codemirror_mode": {
    "name": "ipython",
    "version": 3
   },
   "file_extension": ".py",
   "mimetype": "text/x-python",
   "name": "python",
   "nbconvert_exporter": "python",
   "pygments_lexer": "ipython3",
   "version": "3.7.1"
  }
 },
 "nbformat": 4,
 "nbformat_minor": 2
}
